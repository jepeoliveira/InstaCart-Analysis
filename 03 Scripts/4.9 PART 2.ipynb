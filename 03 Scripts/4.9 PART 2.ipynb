{
 "cells": [
  {
   "cell_type": "markdown",
   "id": "2eace24b-f77d-4de0-b211-82a29e326a25",
   "metadata": {},
   "source": [
    "## EXERCISE 4.9 PART 2 ##"
   ]
  },
  {
   "cell_type": "markdown",
   "id": "51d1bcf8-ad7e-47d4-8cbb-67ba4f55607a",
   "metadata": {},
   "source": [
    "# IMPORT LIBRARIES"
   ]
  },
  {
   "cell_type": "code",
   "execution_count": 1,
   "id": "37182ab6-e636-4625-b550-ecd1a84bfb39",
   "metadata": {},
   "outputs": [],
   "source": [
    "import pandas as pd\n",
    "import numpy as np\n",
    "import os\n",
    "import matplotlib.pyplot as plt\n",
    "import seaborn as sns\n",
    "import scipy"
   ]
  },
  {
   "cell_type": "markdown",
   "id": "1270ffdb-a0ed-4cae-a5c8-88e731cb4141",
   "metadata": {},
   "source": [
    "# IMPORT DATA"
   ]
  },
  {
   "cell_type": "markdown",
   "id": "f4023e01-1a89-4826-8652-5a71358528ab",
   "metadata": {},
   "source": [
    "# CREAT PATH TO MAIN FOLDER"
   ]
  },
  {
   "cell_type": "code",
   "execution_count": 2,
   "id": "7a3d7e73-c677-416c-90b5-5e612ffef827",
   "metadata": {},
   "outputs": [],
   "source": [
    "path = r'C:\\Users\\João Pedro\\MAR-Instacart Basket Analysis'"
   ]
  },
  {
   "cell_type": "code",
   "execution_count": 3,
   "id": "6b4beb6e-91f8-4446-91f7-52243fc1dbea",
   "metadata": {},
   "outputs": [
    {
     "data": {
      "text/plain": [
       "'C:\\\\Users\\\\João Pedro\\\\MAR-Instacart Basket Analysis'"
      ]
     },
     "execution_count": 3,
     "metadata": {},
     "output_type": "execute_result"
    }
   ],
   "source": [
    "path"
   ]
  },
  {
   "cell_type": "markdown",
   "id": "f064a900-f6c0-45da-bec0-b1d59dafeb58",
   "metadata": {},
   "source": [
    "# IMPORT DATA SET"
   ]
  },
  {
   "cell_type": "code",
   "execution_count": 4,
   "id": "b0a5e9d5-165e-4ed8-b563-ed4fd0c9bc99",
   "metadata": {},
   "outputs": [],
   "source": [
    "ord_prod_full = pd.read_pickle(r'C:\\Users\\João Pedro\\MAR-Instacart Basket Analysis\\02 Data\\Prepared Data\\orders_products_merged_derived_2.pkl')"
   ]
  },
  {
   "cell_type": "code",
   "execution_count": 5,
   "id": "452b53e3-eae5-4061-ac60-26fa7073132a",
   "metadata": {},
   "outputs": [
    {
     "data": {
      "text/html": [
       "<div>\n",
       "<style scoped>\n",
       "    .dataframe tbody tr th:only-of-type {\n",
       "        vertical-align: middle;\n",
       "    }\n",
       "\n",
       "    .dataframe tbody tr th {\n",
       "        vertical-align: top;\n",
       "    }\n",
       "\n",
       "    .dataframe thead th {\n",
       "        text-align: right;\n",
       "    }\n",
       "</style>\n",
       "<table border=\"1\" class=\"dataframe\">\n",
       "  <thead>\n",
       "    <tr style=\"text-align: right;\">\n",
       "      <th></th>\n",
       "      <th>user_id</th>\n",
       "      <th>product_id</th>\n",
       "      <th>product_name</th>\n",
       "      <th>aisle_id</th>\n",
       "      <th>department_id</th>\n",
       "      <th>prices</th>\n",
       "      <th>order_id</th>\n",
       "      <th>order_number</th>\n",
       "      <th>orders_day_of_week</th>\n",
       "      <th>order_hour_of_day</th>\n",
       "      <th>...</th>\n",
       "      <th>first_name</th>\n",
       "      <th>surname</th>\n",
       "      <th>gender</th>\n",
       "      <th>State</th>\n",
       "      <th>age</th>\n",
       "      <th>date_joined</th>\n",
       "      <th>dependants</th>\n",
       "      <th>family_status</th>\n",
       "      <th>income</th>\n",
       "      <th>exist</th>\n",
       "    </tr>\n",
       "  </thead>\n",
       "  <tbody>\n",
       "    <tr>\n",
       "      <th>0</th>\n",
       "      <td>138</td>\n",
       "      <td>1</td>\n",
       "      <td>Chocolate Sandwich Cookies</td>\n",
       "      <td>61</td>\n",
       "      <td>19</td>\n",
       "      <td>5.8</td>\n",
       "      <td>3139998</td>\n",
       "      <td>28</td>\n",
       "      <td>6</td>\n",
       "      <td>11</td>\n",
       "      <td>...</td>\n",
       "      <td>Charles</td>\n",
       "      <td>Cox</td>\n",
       "      <td>Male</td>\n",
       "      <td>Minnesota</td>\n",
       "      <td>81</td>\n",
       "      <td>2019-08-01</td>\n",
       "      <td>1</td>\n",
       "      <td>married</td>\n",
       "      <td>49620</td>\n",
       "      <td>both</td>\n",
       "    </tr>\n",
       "    <tr>\n",
       "      <th>1</th>\n",
       "      <td>138</td>\n",
       "      <td>1</td>\n",
       "      <td>Chocolate Sandwich Cookies</td>\n",
       "      <td>61</td>\n",
       "      <td>19</td>\n",
       "      <td>5.8</td>\n",
       "      <td>1977647</td>\n",
       "      <td>30</td>\n",
       "      <td>6</td>\n",
       "      <td>17</td>\n",
       "      <td>...</td>\n",
       "      <td>Charles</td>\n",
       "      <td>Cox</td>\n",
       "      <td>Male</td>\n",
       "      <td>Minnesota</td>\n",
       "      <td>81</td>\n",
       "      <td>2019-08-01</td>\n",
       "      <td>1</td>\n",
       "      <td>married</td>\n",
       "      <td>49620</td>\n",
       "      <td>both</td>\n",
       "    </tr>\n",
       "    <tr>\n",
       "      <th>2</th>\n",
       "      <td>138</td>\n",
       "      <td>907</td>\n",
       "      <td>Premium Sliced Bacon</td>\n",
       "      <td>106</td>\n",
       "      <td>12</td>\n",
       "      <td>20.0</td>\n",
       "      <td>3160996</td>\n",
       "      <td>1</td>\n",
       "      <td>5</td>\n",
       "      <td>13</td>\n",
       "      <td>...</td>\n",
       "      <td>Charles</td>\n",
       "      <td>Cox</td>\n",
       "      <td>Male</td>\n",
       "      <td>Minnesota</td>\n",
       "      <td>81</td>\n",
       "      <td>2019-08-01</td>\n",
       "      <td>1</td>\n",
       "      <td>married</td>\n",
       "      <td>49620</td>\n",
       "      <td>both</td>\n",
       "    </tr>\n",
       "    <tr>\n",
       "      <th>3</th>\n",
       "      <td>138</td>\n",
       "      <td>907</td>\n",
       "      <td>Premium Sliced Bacon</td>\n",
       "      <td>106</td>\n",
       "      <td>12</td>\n",
       "      <td>20.0</td>\n",
       "      <td>2254091</td>\n",
       "      <td>10</td>\n",
       "      <td>5</td>\n",
       "      <td>14</td>\n",
       "      <td>...</td>\n",
       "      <td>Charles</td>\n",
       "      <td>Cox</td>\n",
       "      <td>Male</td>\n",
       "      <td>Minnesota</td>\n",
       "      <td>81</td>\n",
       "      <td>2019-08-01</td>\n",
       "      <td>1</td>\n",
       "      <td>married</td>\n",
       "      <td>49620</td>\n",
       "      <td>both</td>\n",
       "    </tr>\n",
       "    <tr>\n",
       "      <th>4</th>\n",
       "      <td>138</td>\n",
       "      <td>1000</td>\n",
       "      <td>Apricots</td>\n",
       "      <td>18</td>\n",
       "      <td>10</td>\n",
       "      <td>12.9</td>\n",
       "      <td>505689</td>\n",
       "      <td>9</td>\n",
       "      <td>6</td>\n",
       "      <td>12</td>\n",
       "      <td>...</td>\n",
       "      <td>Charles</td>\n",
       "      <td>Cox</td>\n",
       "      <td>Male</td>\n",
       "      <td>Minnesota</td>\n",
       "      <td>81</td>\n",
       "      <td>2019-08-01</td>\n",
       "      <td>1</td>\n",
       "      <td>married</td>\n",
       "      <td>49620</td>\n",
       "      <td>both</td>\n",
       "    </tr>\n",
       "    <tr>\n",
       "      <th>...</th>\n",
       "      <td>...</td>\n",
       "      <td>...</td>\n",
       "      <td>...</td>\n",
       "      <td>...</td>\n",
       "      <td>...</td>\n",
       "      <td>...</td>\n",
       "      <td>...</td>\n",
       "      <td>...</td>\n",
       "      <td>...</td>\n",
       "      <td>...</td>\n",
       "      <td>...</td>\n",
       "      <td>...</td>\n",
       "      <td>...</td>\n",
       "      <td>...</td>\n",
       "      <td>...</td>\n",
       "      <td>...</td>\n",
       "      <td>...</td>\n",
       "      <td>...</td>\n",
       "      <td>...</td>\n",
       "      <td>...</td>\n",
       "      <td>...</td>\n",
       "    </tr>\n",
       "    <tr>\n",
       "      <th>32404854</th>\n",
       "      <td>80734</td>\n",
       "      <td>49235</td>\n",
       "      <td>Organic Half &amp; Half</td>\n",
       "      <td>53</td>\n",
       "      <td>16</td>\n",
       "      <td>1.8</td>\n",
       "      <td>2542346</td>\n",
       "      <td>3</td>\n",
       "      <td>3</td>\n",
       "      <td>8</td>\n",
       "      <td>...</td>\n",
       "      <td>Frank</td>\n",
       "      <td>Bowers</td>\n",
       "      <td>Male</td>\n",
       "      <td>Alabama</td>\n",
       "      <td>45</td>\n",
       "      <td>2019-09-28</td>\n",
       "      <td>1</td>\n",
       "      <td>married</td>\n",
       "      <td>41072</td>\n",
       "      <td>both</td>\n",
       "    </tr>\n",
       "    <tr>\n",
       "      <th>32404855</th>\n",
       "      <td>74506</td>\n",
       "      <td>49520</td>\n",
       "      <td>Orange Sparkling Water</td>\n",
       "      <td>115</td>\n",
       "      <td>7</td>\n",
       "      <td>7.5</td>\n",
       "      <td>1363278</td>\n",
       "      <td>1</td>\n",
       "      <td>1</td>\n",
       "      <td>14</td>\n",
       "      <td>...</td>\n",
       "      <td>Joe</td>\n",
       "      <td>Coffey</td>\n",
       "      <td>Male</td>\n",
       "      <td>Vermont</td>\n",
       "      <td>44</td>\n",
       "      <td>2018-04-16</td>\n",
       "      <td>3</td>\n",
       "      <td>married</td>\n",
       "      <td>97209</td>\n",
       "      <td>both</td>\n",
       "    </tr>\n",
       "    <tr>\n",
       "      <th>32404856</th>\n",
       "      <td>74506</td>\n",
       "      <td>49520</td>\n",
       "      <td>Orange Sparkling Water</td>\n",
       "      <td>115</td>\n",
       "      <td>7</td>\n",
       "      <td>7.5</td>\n",
       "      <td>2008002</td>\n",
       "      <td>2</td>\n",
       "      <td>0</td>\n",
       "      <td>15</td>\n",
       "      <td>...</td>\n",
       "      <td>Joe</td>\n",
       "      <td>Coffey</td>\n",
       "      <td>Male</td>\n",
       "      <td>Vermont</td>\n",
       "      <td>44</td>\n",
       "      <td>2018-04-16</td>\n",
       "      <td>3</td>\n",
       "      <td>married</td>\n",
       "      <td>97209</td>\n",
       "      <td>both</td>\n",
       "    </tr>\n",
       "    <tr>\n",
       "      <th>32404857</th>\n",
       "      <td>74506</td>\n",
       "      <td>49520</td>\n",
       "      <td>Orange Sparkling Water</td>\n",
       "      <td>115</td>\n",
       "      <td>7</td>\n",
       "      <td>7.5</td>\n",
       "      <td>1595973</td>\n",
       "      <td>3</td>\n",
       "      <td>1</td>\n",
       "      <td>17</td>\n",
       "      <td>...</td>\n",
       "      <td>Joe</td>\n",
       "      <td>Coffey</td>\n",
       "      <td>Male</td>\n",
       "      <td>Vermont</td>\n",
       "      <td>44</td>\n",
       "      <td>2018-04-16</td>\n",
       "      <td>3</td>\n",
       "      <td>married</td>\n",
       "      <td>97209</td>\n",
       "      <td>both</td>\n",
       "    </tr>\n",
       "    <tr>\n",
       "      <th>32404858</th>\n",
       "      <td>74506</td>\n",
       "      <td>49520</td>\n",
       "      <td>Orange Sparkling Water</td>\n",
       "      <td>115</td>\n",
       "      <td>7</td>\n",
       "      <td>7.5</td>\n",
       "      <td>1680478</td>\n",
       "      <td>4</td>\n",
       "      <td>0</td>\n",
       "      <td>16</td>\n",
       "      <td>...</td>\n",
       "      <td>Joe</td>\n",
       "      <td>Coffey</td>\n",
       "      <td>Male</td>\n",
       "      <td>Vermont</td>\n",
       "      <td>44</td>\n",
       "      <td>2018-04-16</td>\n",
       "      <td>3</td>\n",
       "      <td>married</td>\n",
       "      <td>97209</td>\n",
       "      <td>both</td>\n",
       "    </tr>\n",
       "  </tbody>\n",
       "</table>\n",
       "<p>32404859 rows × 35 columns</p>\n",
       "</div>"
      ],
      "text/plain": [
       "          user_id  product_id                product_name  aisle_id  \\\n",
       "0             138           1  Chocolate Sandwich Cookies        61   \n",
       "1             138           1  Chocolate Sandwich Cookies        61   \n",
       "2             138         907        Premium Sliced Bacon       106   \n",
       "3             138         907        Premium Sliced Bacon       106   \n",
       "4             138        1000                    Apricots        18   \n",
       "...           ...         ...                         ...       ...   \n",
       "32404854    80734       49235         Organic Half & Half        53   \n",
       "32404855    74506       49520      Orange Sparkling Water       115   \n",
       "32404856    74506       49520      Orange Sparkling Water       115   \n",
       "32404857    74506       49520      Orange Sparkling Water       115   \n",
       "32404858    74506       49520      Orange Sparkling Water       115   \n",
       "\n",
       "          department_id  prices  order_id  order_number  orders_day_of_week  \\\n",
       "0                    19     5.8   3139998            28                   6   \n",
       "1                    19     5.8   1977647            30                   6   \n",
       "2                    12    20.0   3160996             1                   5   \n",
       "3                    12    20.0   2254091            10                   5   \n",
       "4                    10    12.9    505689             9                   6   \n",
       "...                 ...     ...       ...           ...                 ...   \n",
       "32404854             16     1.8   2542346             3                   3   \n",
       "32404855              7     7.5   1363278             1                   1   \n",
       "32404856              7     7.5   2008002             2                   0   \n",
       "32404857              7     7.5   1595973             3                   1   \n",
       "32404858              7     7.5   1680478             4                   0   \n",
       "\n",
       "          order_hour_of_day  ...  first_name  surname  gender      State age  \\\n",
       "0                        11  ...     Charles      Cox    Male  Minnesota  81   \n",
       "1                        17  ...     Charles      Cox    Male  Minnesota  81   \n",
       "2                        13  ...     Charles      Cox    Male  Minnesota  81   \n",
       "3                        14  ...     Charles      Cox    Male  Minnesota  81   \n",
       "4                        12  ...     Charles      Cox    Male  Minnesota  81   \n",
       "...                     ...  ...         ...      ...     ...        ...  ..   \n",
       "32404854                  8  ...       Frank   Bowers    Male    Alabama  45   \n",
       "32404855                 14  ...         Joe   Coffey    Male    Vermont  44   \n",
       "32404856                 15  ...         Joe   Coffey    Male    Vermont  44   \n",
       "32404857                 17  ...         Joe   Coffey    Male    Vermont  44   \n",
       "32404858                 16  ...         Joe   Coffey    Male    Vermont  44   \n",
       "\n",
       "         date_joined dependants family_status income  exist  \n",
       "0         2019-08-01          1       married  49620   both  \n",
       "1         2019-08-01          1       married  49620   both  \n",
       "2         2019-08-01          1       married  49620   both  \n",
       "3         2019-08-01          1       married  49620   both  \n",
       "4         2019-08-01          1       married  49620   both  \n",
       "...              ...        ...           ...    ...    ...  \n",
       "32404854  2019-09-28          1       married  41072   both  \n",
       "32404855  2018-04-16          3       married  97209   both  \n",
       "32404856  2018-04-16          3       married  97209   both  \n",
       "32404857  2018-04-16          3       married  97209   both  \n",
       "32404858  2018-04-16          3       married  97209   both  \n",
       "\n",
       "[32404859 rows x 35 columns]"
      ]
     },
     "execution_count": 5,
     "metadata": {},
     "output_type": "execute_result"
    }
   ],
   "source": [
    "ord_prod_full"
   ]
  },
  {
   "cell_type": "markdown",
   "id": "484dc826-4168-4af1-9b2b-0f718dadf656",
   "metadata": {},
   "source": [
    "## EXERCISE EXAMPLES ##"
   ]
  },
  {
   "cell_type": "code",
   "execution_count": 6,
   "id": "4a85b5d7-3535-4703-9ba1-470417d1a26a",
   "metadata": {},
   "outputs": [
    {
     "data": {
      "text/plain": [
       "<Axes: xlabel='orders_day_of_week'>"
      ]
     },
     "execution_count": 6,
     "metadata": {},
     "output_type": "execute_result"
    },
    {
     "data": {
      "image/png": "[encoded data removed]",
      "text/plain": [
       "<Figure size 640x480 with 1 Axes>"
      ]
     },
     "metadata": {},
     "output_type": "display_data"
    }
   ],
   "source": [
    "ord_prod_full['orders_day_of_week'].value_counts().plot.bar()"
   ]
  },
  {
   "cell_type": "markdown",
   "id": "47486059-1e6f-4b45-916d-4d76728fc32b",
   "metadata": {},
   "source": [
    "# Sort by index - days of the week in order"
   ]
  },
  {
   "cell_type": "code",
   "execution_count": 7,
   "id": "4c4919d5-6261-45bf-ac89-4f52f1e93c9b",
   "metadata": {},
   "outputs": [
    {
     "data": {
      "image/png": "[encoded data removed]",
      "text/plain": [
       "<Figure size 640x480 with 1 Axes>"
      ]
     },
     "metadata": {},
     "output_type": "display_data"
    }
   ],
   "source": [
    "Bar = ord_prod_full['orders_day_of_week'].value_counts().sort_index().plot.bar()"
   ]
  },
  {
   "cell_type": "markdown",
   "id": "11cdbbdd-cc36-4234-9eaa-0f7ad592d711",
   "metadata": {},
   "source": [
    "# Adding color to the bars"
   ]
  },
  {
   "cell_type": "code",
   "execution_count": 8,
   "id": "db3da707-e87f-4d0b-9aa9-a31fc26eb57f",
   "metadata": {},
   "outputs": [
    {
     "data": {
      "image/png": "[encoded data removed]",
      "text/plain": [
       "<Figure size 640x480 with 1 Axes>"
      ]
     },
     "metadata": {},
     "output_type": "display_data"
    }
   ],
   "source": [
    "bar = ord_prod_full['orders_day_of_week'].value_counts().plot.bar(color=['purple', 'red', 'pink', 'orange', 'yellow', 'green', 'blue'])"
   ]
  },
  {
   "cell_type": "markdown",
   "id": "3ccf6c95-d89f-4285-83bc-81aa3fa6c3c2",
   "metadata": {},
   "source": [
    "# Exporting "
   ]
  },
  {
   "cell_type": "code",
   "execution_count": 9,
   "id": "01b79a9a-8c7b-4ab3-ab26-d295a2a2b80a",
   "metadata": {},
   "outputs": [],
   "source": [
    "bar.figure.savefig(os.path.join(path, '04 Analysis', 'Visualizations', 'bar_orders_dow.png'))"
   ]
  },
  {
   "cell_type": "markdown",
   "id": "09fc7a84-66e6-449c-aefa-7fddc3c08d0d",
   "metadata": {},
   "source": [
    "# Histogram"
   ]
  },
  {
   "cell_type": "code",
   "execution_count": 10,
   "id": "3a7f93d9-da7d-43f6-839e-6f2adf948949",
   "metadata": {},
   "outputs": [
    {
     "data": {
      "text/plain": [
       "<Axes: ylabel='Frequency'>"
      ]
     },
     "execution_count": 10,
     "metadata": {},
     "output_type": "execute_result"
    },
    {
     "data": {
      "image/png": "[encoded data removed]",
      "text/plain": [
       "<Figure size 640x480 with 1 Axes>"
      ]
     },
     "metadata": {},
     "output_type": "display_data"
    }
   ],
   "source": [
    "ord_prod_full['prices'].plot.hist(bins=25)"
   ]
  },
  {
   "cell_type": "code",
   "execution_count": 11,
   "id": "397da577-6621-4403-80cf-9f041a599c16",
   "metadata": {},
   "outputs": [
    {
     "data": {
      "image/png": "[encoded data removed]",
      "text/plain": [
       "<Figure size 640x480 with 1 Axes>"
      ]
     },
     "metadata": {},
     "output_type": "display_data"
    }
   ],
   "source": [
    "hist = ord_prod_full['prices'].plot.hist(bins=70)"
   ]
  },
  {
   "cell_type": "markdown",
   "id": "92d391e1-469d-4e98-a23b-f84c57121961",
   "metadata": {},
   "source": [
    "# Export "
   ]
  },
  {
   "cell_type": "code",
   "execution_count": 12,
   "id": "1f4646fd-b92e-4f67-8bdd-3c5234a9115f",
   "metadata": {},
   "outputs": [],
   "source": [
    "hist.figure.savefig(os.path.join(path, '04 Analysis', 'Visualizations','hist_prices'))"
   ]
  },
  {
   "cell_type": "markdown",
   "id": "fdb9ae96-c982-42f3-854d-ff52582029ae",
   "metadata": {},
   "source": [
    "# Create a subset of the dataframe"
   ]
  },
  {
   "cell_type": "code",
   "execution_count": 13,
   "id": "6281a12e-b1cf-4ea8-91b2-53a883e2425b",
   "metadata": {},
   "outputs": [],
   "source": [
    "df=ord_prod_full[:2000000]"
   ]
  },
  {
   "cell_type": "code",
   "execution_count": 14,
   "id": "cfcd1730-e271-4051-af4e-30427cbb81d8",
   "metadata": {
    "scrolled": true
   },
   "outputs": [
    {
     "data": {
      "text/html": [
       "<div>\n",
       "<style scoped>\n",
       "    .dataframe tbody tr th:only-of-type {\n",
       "        vertical-align: middle;\n",
       "    }\n",
       "\n",
       "    .dataframe tbody tr th {\n",
       "        vertical-align: top;\n",
       "    }\n",
       "\n",
       "    .dataframe thead th {\n",
       "        text-align: right;\n",
       "    }\n",
       "</style>\n",
       "<table border=\"1\" class=\"dataframe\">\n",
       "  <thead>\n",
       "    <tr style=\"text-align: right;\">\n",
       "      <th></th>\n",
       "      <th>user_id</th>\n",
       "      <th>product_id</th>\n",
       "      <th>product_name</th>\n",
       "      <th>aisle_id</th>\n",
       "      <th>department_id</th>\n",
       "      <th>prices</th>\n",
       "      <th>order_id</th>\n",
       "      <th>order_number</th>\n",
       "      <th>orders_day_of_week</th>\n",
       "      <th>order_hour_of_day</th>\n",
       "      <th>...</th>\n",
       "      <th>first_name</th>\n",
       "      <th>surname</th>\n",
       "      <th>gender</th>\n",
       "      <th>State</th>\n",
       "      <th>age</th>\n",
       "      <th>date_joined</th>\n",
       "      <th>dependants</th>\n",
       "      <th>family_status</th>\n",
       "      <th>income</th>\n",
       "      <th>exist</th>\n",
       "    </tr>\n",
       "  </thead>\n",
       "  <tbody>\n",
       "    <tr>\n",
       "      <th>0</th>\n",
       "      <td>138</td>\n",
       "      <td>1</td>\n",
       "      <td>Chocolate Sandwich Cookies</td>\n",
       "      <td>61</td>\n",
       "      <td>19</td>\n",
       "      <td>5.8</td>\n",
       "      <td>3139998</td>\n",
       "      <td>28</td>\n",
       "      <td>6</td>\n",
       "      <td>11</td>\n",
       "      <td>...</td>\n",
       "      <td>Charles</td>\n",
       "      <td>Cox</td>\n",
       "      <td>Male</td>\n",
       "      <td>Minnesota</td>\n",
       "      <td>81</td>\n",
       "      <td>2019-08-01</td>\n",
       "      <td>1</td>\n",
       "      <td>married</td>\n",
       "      <td>49620</td>\n",
       "      <td>both</td>\n",
       "    </tr>\n",
       "    <tr>\n",
       "      <th>1</th>\n",
       "      <td>138</td>\n",
       "      <td>1</td>\n",
       "      <td>Chocolate Sandwich Cookies</td>\n",
       "      <td>61</td>\n",
       "      <td>19</td>\n",
       "      <td>5.8</td>\n",
       "      <td>1977647</td>\n",
       "      <td>30</td>\n",
       "      <td>6</td>\n",
       "      <td>17</td>\n",
       "      <td>...</td>\n",
       "      <td>Charles</td>\n",
       "      <td>Cox</td>\n",
       "      <td>Male</td>\n",
       "      <td>Minnesota</td>\n",
       "      <td>81</td>\n",
       "      <td>2019-08-01</td>\n",
       "      <td>1</td>\n",
       "      <td>married</td>\n",
       "      <td>49620</td>\n",
       "      <td>both</td>\n",
       "    </tr>\n",
       "    <tr>\n",
       "      <th>2</th>\n",
       "      <td>138</td>\n",
       "      <td>907</td>\n",
       "      <td>Premium Sliced Bacon</td>\n",
       "      <td>106</td>\n",
       "      <td>12</td>\n",
       "      <td>20.0</td>\n",
       "      <td>3160996</td>\n",
       "      <td>1</td>\n",
       "      <td>5</td>\n",
       "      <td>13</td>\n",
       "      <td>...</td>\n",
       "      <td>Charles</td>\n",
       "      <td>Cox</td>\n",
       "      <td>Male</td>\n",
       "      <td>Minnesota</td>\n",
       "      <td>81</td>\n",
       "      <td>2019-08-01</td>\n",
       "      <td>1</td>\n",
       "      <td>married</td>\n",
       "      <td>49620</td>\n",
       "      <td>both</td>\n",
       "    </tr>\n",
       "    <tr>\n",
       "      <th>3</th>\n",
       "      <td>138</td>\n",
       "      <td>907</td>\n",
       "      <td>Premium Sliced Bacon</td>\n",
       "      <td>106</td>\n",
       "      <td>12</td>\n",
       "      <td>20.0</td>\n",
       "      <td>2254091</td>\n",
       "      <td>10</td>\n",
       "      <td>5</td>\n",
       "      <td>14</td>\n",
       "      <td>...</td>\n",
       "      <td>Charles</td>\n",
       "      <td>Cox</td>\n",
       "      <td>Male</td>\n",
       "      <td>Minnesota</td>\n",
       "      <td>81</td>\n",
       "      <td>2019-08-01</td>\n",
       "      <td>1</td>\n",
       "      <td>married</td>\n",
       "      <td>49620</td>\n",
       "      <td>both</td>\n",
       "    </tr>\n",
       "    <tr>\n",
       "      <th>4</th>\n",
       "      <td>138</td>\n",
       "      <td>1000</td>\n",
       "      <td>Apricots</td>\n",
       "      <td>18</td>\n",
       "      <td>10</td>\n",
       "      <td>12.9</td>\n",
       "      <td>505689</td>\n",
       "      <td>9</td>\n",
       "      <td>6</td>\n",
       "      <td>12</td>\n",
       "      <td>...</td>\n",
       "      <td>Charles</td>\n",
       "      <td>Cox</td>\n",
       "      <td>Male</td>\n",
       "      <td>Minnesota</td>\n",
       "      <td>81</td>\n",
       "      <td>2019-08-01</td>\n",
       "      <td>1</td>\n",
       "      <td>married</td>\n",
       "      <td>49620</td>\n",
       "      <td>both</td>\n",
       "    </tr>\n",
       "    <tr>\n",
       "      <th>...</th>\n",
       "      <td>...</td>\n",
       "      <td>...</td>\n",
       "      <td>...</td>\n",
       "      <td>...</td>\n",
       "      <td>...</td>\n",
       "      <td>...</td>\n",
       "      <td>...</td>\n",
       "      <td>...</td>\n",
       "      <td>...</td>\n",
       "      <td>...</td>\n",
       "      <td>...</td>\n",
       "      <td>...</td>\n",
       "      <td>...</td>\n",
       "      <td>...</td>\n",
       "      <td>...</td>\n",
       "      <td>...</td>\n",
       "      <td>...</td>\n",
       "      <td>...</td>\n",
       "      <td>...</td>\n",
       "      <td>...</td>\n",
       "      <td>...</td>\n",
       "    </tr>\n",
       "    <tr>\n",
       "      <th>1999995</th>\n",
       "      <td>29046</td>\n",
       "      <td>14467</td>\n",
       "      <td>Sweet Baguette</td>\n",
       "      <td>112</td>\n",
       "      <td>3</td>\n",
       "      <td>4.5</td>\n",
       "      <td>2674010</td>\n",
       "      <td>43</td>\n",
       "      <td>0</td>\n",
       "      <td>12</td>\n",
       "      <td>...</td>\n",
       "      <td>Pamela</td>\n",
       "      <td>Lara</td>\n",
       "      <td>Female</td>\n",
       "      <td>New York</td>\n",
       "      <td>39</td>\n",
       "      <td>2017-03-29</td>\n",
       "      <td>3</td>\n",
       "      <td>married</td>\n",
       "      <td>72317</td>\n",
       "      <td>both</td>\n",
       "    </tr>\n",
       "    <tr>\n",
       "      <th>1999996</th>\n",
       "      <td>29046</td>\n",
       "      <td>14467</td>\n",
       "      <td>Sweet Baguette</td>\n",
       "      <td>112</td>\n",
       "      <td>3</td>\n",
       "      <td>4.5</td>\n",
       "      <td>1409619</td>\n",
       "      <td>51</td>\n",
       "      <td>0</td>\n",
       "      <td>12</td>\n",
       "      <td>...</td>\n",
       "      <td>Pamela</td>\n",
       "      <td>Lara</td>\n",
       "      <td>Female</td>\n",
       "      <td>New York</td>\n",
       "      <td>39</td>\n",
       "      <td>2017-03-29</td>\n",
       "      <td>3</td>\n",
       "      <td>married</td>\n",
       "      <td>72317</td>\n",
       "      <td>both</td>\n",
       "    </tr>\n",
       "    <tr>\n",
       "      <th>1999997</th>\n",
       "      <td>29046</td>\n",
       "      <td>14467</td>\n",
       "      <td>Sweet Baguette</td>\n",
       "      <td>112</td>\n",
       "      <td>3</td>\n",
       "      <td>4.5</td>\n",
       "      <td>2189598</td>\n",
       "      <td>52</td>\n",
       "      <td>2</td>\n",
       "      <td>11</td>\n",
       "      <td>...</td>\n",
       "      <td>Pamela</td>\n",
       "      <td>Lara</td>\n",
       "      <td>Female</td>\n",
       "      <td>New York</td>\n",
       "      <td>39</td>\n",
       "      <td>2017-03-29</td>\n",
       "      <td>3</td>\n",
       "      <td>married</td>\n",
       "      <td>72317</td>\n",
       "      <td>both</td>\n",
       "    </tr>\n",
       "    <tr>\n",
       "      <th>1999998</th>\n",
       "      <td>29046</td>\n",
       "      <td>14467</td>\n",
       "      <td>Sweet Baguette</td>\n",
       "      <td>112</td>\n",
       "      <td>3</td>\n",
       "      <td>4.5</td>\n",
       "      <td>2741737</td>\n",
       "      <td>61</td>\n",
       "      <td>2</td>\n",
       "      <td>9</td>\n",
       "      <td>...</td>\n",
       "      <td>Pamela</td>\n",
       "      <td>Lara</td>\n",
       "      <td>Female</td>\n",
       "      <td>New York</td>\n",
       "      <td>39</td>\n",
       "      <td>2017-03-29</td>\n",
       "      <td>3</td>\n",
       "      <td>married</td>\n",
       "      <td>72317</td>\n",
       "      <td>both</td>\n",
       "    </tr>\n",
       "    <tr>\n",
       "      <th>1999999</th>\n",
       "      <td>29046</td>\n",
       "      <td>14467</td>\n",
       "      <td>Sweet Baguette</td>\n",
       "      <td>112</td>\n",
       "      <td>3</td>\n",
       "      <td>4.5</td>\n",
       "      <td>190748</td>\n",
       "      <td>63</td>\n",
       "      <td>3</td>\n",
       "      <td>17</td>\n",
       "      <td>...</td>\n",
       "      <td>Pamela</td>\n",
       "      <td>Lara</td>\n",
       "      <td>Female</td>\n",
       "      <td>New York</td>\n",
       "      <td>39</td>\n",
       "      <td>2017-03-29</td>\n",
       "      <td>3</td>\n",
       "      <td>married</td>\n",
       "      <td>72317</td>\n",
       "      <td>both</td>\n",
       "    </tr>\n",
       "  </tbody>\n",
       "</table>\n",
       "<p>2000000 rows × 35 columns</p>\n",
       "</div>"
      ],
      "text/plain": [
       "         user_id  product_id                product_name  aisle_id  \\\n",
       "0            138           1  Chocolate Sandwich Cookies        61   \n",
       "1            138           1  Chocolate Sandwich Cookies        61   \n",
       "2            138         907        Premium Sliced Bacon       106   \n",
       "3            138         907        Premium Sliced Bacon       106   \n",
       "4            138        1000                    Apricots        18   \n",
       "...          ...         ...                         ...       ...   \n",
       "1999995    29046       14467              Sweet Baguette       112   \n",
       "1999996    29046       14467              Sweet Baguette       112   \n",
       "1999997    29046       14467              Sweet Baguette       112   \n",
       "1999998    29046       14467              Sweet Baguette       112   \n",
       "1999999    29046       14467              Sweet Baguette       112   \n",
       "\n",
       "         department_id  prices  order_id  order_number  orders_day_of_week  \\\n",
       "0                   19     5.8   3139998            28                   6   \n",
       "1                   19     5.8   1977647            30                   6   \n",
       "2                   12    20.0   3160996             1                   5   \n",
       "3                   12    20.0   2254091            10                   5   \n",
       "4                   10    12.9    505689             9                   6   \n",
       "...                ...     ...       ...           ...                 ...   \n",
       "1999995              3     4.5   2674010            43                   0   \n",
       "1999996              3     4.5   1409619            51                   0   \n",
       "1999997              3     4.5   2189598            52                   2   \n",
       "1999998              3     4.5   2741737            61                   2   \n",
       "1999999              3     4.5    190748            63                   3   \n",
       "\n",
       "         order_hour_of_day  ...  first_name  surname  gender      State age  \\\n",
       "0                       11  ...     Charles      Cox    Male  Minnesota  81   \n",
       "1                       17  ...     Charles      Cox    Male  Minnesota  81   \n",
       "2                       13  ...     Charles      Cox    Male  Minnesota  81   \n",
       "3                       14  ...     Charles      Cox    Male  Minnesota  81   \n",
       "4                       12  ...     Charles      Cox    Male  Minnesota  81   \n",
       "...                    ...  ...         ...      ...     ...        ...  ..   \n",
       "1999995                 12  ...      Pamela     Lara  Female   New York  39   \n",
       "1999996                 12  ...      Pamela     Lara  Female   New York  39   \n",
       "1999997                 11  ...      Pamela     Lara  Female   New York  39   \n",
       "1999998                  9  ...      Pamela     Lara  Female   New York  39   \n",
       "1999999                 17  ...      Pamela     Lara  Female   New York  39   \n",
       "\n",
       "        date_joined dependants family_status income  exist  \n",
       "0        2019-08-01          1       married  49620   both  \n",
       "1        2019-08-01          1       married  49620   both  \n",
       "2        2019-08-01          1       married  49620   both  \n",
       "3        2019-08-01          1       married  49620   both  \n",
       "4        2019-08-01          1       married  49620   both  \n",
       "...             ...        ...           ...    ...    ...  \n",
       "1999995  2017-03-29          3       married  72317   both  \n",
       "1999996  2017-03-29          3       married  72317   both  \n",
       "1999997  2017-03-29          3       married  72317   both  \n",
       "1999998  2017-03-29          3       married  72317   both  \n",
       "1999999  2017-03-29          3       married  72317   both  \n",
       "\n",
       "[2000000 rows x 35 columns]"
      ]
     },
     "execution_count": 14,
     "metadata": {},
     "output_type": "execute_result"
    }
   ],
   "source": [
    "df"
   ]
  },
  {
   "cell_type": "markdown",
   "id": "afaf6a2a-8b13-41bf-a58e-d3e81b84d125",
   "metadata": {},
   "source": [
    "# Create the seed"
   ]
  },
  {
   "cell_type": "code",
   "execution_count": 15,
   "id": "5099c4e2-837e-40c1-9988-4764152d51eb",
   "metadata": {},
   "outputs": [],
   "source": [
    "np.random.seed(4)"
   ]
  },
  {
   "cell_type": "markdown",
   "id": "71bdd292-2d30-4dd6-9605-983ca51d7ad0",
   "metadata": {},
   "source": [
    "# Create a list holding True/False values to test the np.random.rand () <= 0.7"
   ]
  },
  {
   "cell_type": "code",
   "execution_count": 16,
   "id": "a7f80fbf-cbe7-44d3-9722-9609e08caec3",
   "metadata": {},
   "outputs": [],
   "source": [
    "dev = np.random.rand(len(ord_prod_full)) <= 0.7"
   ]
  },
  {
   "cell_type": "code",
   "execution_count": 17,
   "id": "a2ecc4db-048e-491f-bbce-6be2c055f59e",
   "metadata": {},
   "outputs": [
    {
     "data": {
      "text/plain": [
       "array([False,  True, False, ...,  True,  True,  True])"
      ]
     },
     "execution_count": 17,
     "metadata": {},
     "output_type": "execute_result"
    }
   ],
   "source": [
    "dev"
   ]
  },
  {
   "cell_type": "code",
   "execution_count": 18,
   "id": "5d4fcaa9-e921-4994-99d9-6860f302d54c",
   "metadata": {},
   "outputs": [
    {
     "data": {
      "text/plain": [
       "array([0.93546686, 0.06557465, 0.85698584, 0.24456371, 0.22683171,\n",
       "       0.17068366, 0.27008946, 0.52534234, 0.83151571, 0.78153402])"
      ]
     },
     "execution_count": 18,
     "metadata": {},
     "output_type": "execute_result"
    }
   ],
   "source": [
    "np.random.rand(10)"
   ]
  },
  {
   "cell_type": "markdown",
   "id": "3c259b8e-dee6-4cc7-a118-1238d87253cb",
   "metadata": {},
   "source": [
    "# Store 70% of the sample in the dataframe big"
   ]
  },
  {
   "cell_type": "code",
   "execution_count": 19,
   "id": "7a7fbcf4-a793-4d31-8000-c150cd3fa7b8",
   "metadata": {},
   "outputs": [],
   "source": [
    "big = ord_prod_full[dev]"
   ]
  },
  {
   "cell_type": "code",
   "execution_count": 20,
   "id": "299fd03d-c3e8-4878-9f4b-970e4faa27dd",
   "metadata": {},
   "outputs": [
    {
     "data": {
      "text/html": [
       "<div>\n",
       "<style scoped>\n",
       "    .dataframe tbody tr th:only-of-type {\n",
       "        vertical-align: middle;\n",
       "    }\n",
       "\n",
       "    .dataframe tbody tr th {\n",
       "        vertical-align: top;\n",
       "    }\n",
       "\n",
       "    .dataframe thead th {\n",
       "        text-align: right;\n",
       "    }\n",
       "</style>\n",
       "<table border=\"1\" class=\"dataframe\">\n",
       "  <thead>\n",
       "    <tr style=\"text-align: right;\">\n",
       "      <th></th>\n",
       "      <th>user_id</th>\n",
       "      <th>product_id</th>\n",
       "      <th>product_name</th>\n",
       "      <th>aisle_id</th>\n",
       "      <th>department_id</th>\n",
       "      <th>prices</th>\n",
       "      <th>order_id</th>\n",
       "      <th>order_number</th>\n",
       "      <th>orders_day_of_week</th>\n",
       "      <th>order_hour_of_day</th>\n",
       "      <th>...</th>\n",
       "      <th>first_name</th>\n",
       "      <th>surname</th>\n",
       "      <th>gender</th>\n",
       "      <th>State</th>\n",
       "      <th>age</th>\n",
       "      <th>date_joined</th>\n",
       "      <th>dependants</th>\n",
       "      <th>family_status</th>\n",
       "      <th>income</th>\n",
       "      <th>exist</th>\n",
       "    </tr>\n",
       "  </thead>\n",
       "  <tbody>\n",
       "    <tr>\n",
       "      <th>1</th>\n",
       "      <td>138</td>\n",
       "      <td>1</td>\n",
       "      <td>Chocolate Sandwich Cookies</td>\n",
       "      <td>61</td>\n",
       "      <td>19</td>\n",
       "      <td>5.8</td>\n",
       "      <td>1977647</td>\n",
       "      <td>30</td>\n",
       "      <td>6</td>\n",
       "      <td>17</td>\n",
       "      <td>...</td>\n",
       "      <td>Charles</td>\n",
       "      <td>Cox</td>\n",
       "      <td>Male</td>\n",
       "      <td>Minnesota</td>\n",
       "      <td>81</td>\n",
       "      <td>2019-08-01</td>\n",
       "      <td>1</td>\n",
       "      <td>married</td>\n",
       "      <td>49620</td>\n",
       "      <td>both</td>\n",
       "    </tr>\n",
       "    <tr>\n",
       "      <th>4</th>\n",
       "      <td>138</td>\n",
       "      <td>1000</td>\n",
       "      <td>Apricots</td>\n",
       "      <td>18</td>\n",
       "      <td>10</td>\n",
       "      <td>12.9</td>\n",
       "      <td>505689</td>\n",
       "      <td>9</td>\n",
       "      <td>6</td>\n",
       "      <td>12</td>\n",
       "      <td>...</td>\n",
       "      <td>Charles</td>\n",
       "      <td>Cox</td>\n",
       "      <td>Male</td>\n",
       "      <td>Minnesota</td>\n",
       "      <td>81</td>\n",
       "      <td>2019-08-01</td>\n",
       "      <td>1</td>\n",
       "      <td>married</td>\n",
       "      <td>49620</td>\n",
       "      <td>both</td>\n",
       "    </tr>\n",
       "    <tr>\n",
       "      <th>5</th>\n",
       "      <td>138</td>\n",
       "      <td>3265</td>\n",
       "      <td>Mini Seedless Watermelon Pack</td>\n",
       "      <td>32</td>\n",
       "      <td>4</td>\n",
       "      <td>1.7</td>\n",
       "      <td>960220</td>\n",
       "      <td>17</td>\n",
       "      <td>5</td>\n",
       "      <td>14</td>\n",
       "      <td>...</td>\n",
       "      <td>Charles</td>\n",
       "      <td>Cox</td>\n",
       "      <td>Male</td>\n",
       "      <td>Minnesota</td>\n",
       "      <td>81</td>\n",
       "      <td>2019-08-01</td>\n",
       "      <td>1</td>\n",
       "      <td>married</td>\n",
       "      <td>49620</td>\n",
       "      <td>both</td>\n",
       "    </tr>\n",
       "    <tr>\n",
       "      <th>7</th>\n",
       "      <td>138</td>\n",
       "      <td>6184</td>\n",
       "      <td>Clementines</td>\n",
       "      <td>32</td>\n",
       "      <td>4</td>\n",
       "      <td>4.3</td>\n",
       "      <td>1977647</td>\n",
       "      <td>30</td>\n",
       "      <td>6</td>\n",
       "      <td>17</td>\n",
       "      <td>...</td>\n",
       "      <td>Charles</td>\n",
       "      <td>Cox</td>\n",
       "      <td>Male</td>\n",
       "      <td>Minnesota</td>\n",
       "      <td>81</td>\n",
       "      <td>2019-08-01</td>\n",
       "      <td>1</td>\n",
       "      <td>married</td>\n",
       "      <td>49620</td>\n",
       "      <td>both</td>\n",
       "    </tr>\n",
       "    <tr>\n",
       "      <th>8</th>\n",
       "      <td>138</td>\n",
       "      <td>6901</td>\n",
       "      <td>Raisin Bran</td>\n",
       "      <td>121</td>\n",
       "      <td>14</td>\n",
       "      <td>2.9</td>\n",
       "      <td>1154289</td>\n",
       "      <td>18</td>\n",
       "      <td>1</td>\n",
       "      <td>7</td>\n",
       "      <td>...</td>\n",
       "      <td>Charles</td>\n",
       "      <td>Cox</td>\n",
       "      <td>Male</td>\n",
       "      <td>Minnesota</td>\n",
       "      <td>81</td>\n",
       "      <td>2019-08-01</td>\n",
       "      <td>1</td>\n",
       "      <td>married</td>\n",
       "      <td>49620</td>\n",
       "      <td>both</td>\n",
       "    </tr>\n",
       "    <tr>\n",
       "      <th>...</th>\n",
       "      <td>...</td>\n",
       "      <td>...</td>\n",
       "      <td>...</td>\n",
       "      <td>...</td>\n",
       "      <td>...</td>\n",
       "      <td>...</td>\n",
       "      <td>...</td>\n",
       "      <td>...</td>\n",
       "      <td>...</td>\n",
       "      <td>...</td>\n",
       "      <td>...</td>\n",
       "      <td>...</td>\n",
       "      <td>...</td>\n",
       "      <td>...</td>\n",
       "      <td>...</td>\n",
       "      <td>...</td>\n",
       "      <td>...</td>\n",
       "      <td>...</td>\n",
       "      <td>...</td>\n",
       "      <td>...</td>\n",
       "      <td>...</td>\n",
       "    </tr>\n",
       "    <tr>\n",
       "      <th>32404854</th>\n",
       "      <td>80734</td>\n",
       "      <td>49235</td>\n",
       "      <td>Organic Half &amp; Half</td>\n",
       "      <td>53</td>\n",
       "      <td>16</td>\n",
       "      <td>1.8</td>\n",
       "      <td>2542346</td>\n",
       "      <td>3</td>\n",
       "      <td>3</td>\n",
       "      <td>8</td>\n",
       "      <td>...</td>\n",
       "      <td>Frank</td>\n",
       "      <td>Bowers</td>\n",
       "      <td>Male</td>\n",
       "      <td>Alabama</td>\n",
       "      <td>45</td>\n",
       "      <td>2019-09-28</td>\n",
       "      <td>1</td>\n",
       "      <td>married</td>\n",
       "      <td>41072</td>\n",
       "      <td>both</td>\n",
       "    </tr>\n",
       "    <tr>\n",
       "      <th>32404855</th>\n",
       "      <td>74506</td>\n",
       "      <td>49520</td>\n",
       "      <td>Orange Sparkling Water</td>\n",
       "      <td>115</td>\n",
       "      <td>7</td>\n",
       "      <td>7.5</td>\n",
       "      <td>1363278</td>\n",
       "      <td>1</td>\n",
       "      <td>1</td>\n",
       "      <td>14</td>\n",
       "      <td>...</td>\n",
       "      <td>Joe</td>\n",
       "      <td>Coffey</td>\n",
       "      <td>Male</td>\n",
       "      <td>Vermont</td>\n",
       "      <td>44</td>\n",
       "      <td>2018-04-16</td>\n",
       "      <td>3</td>\n",
       "      <td>married</td>\n",
       "      <td>97209</td>\n",
       "      <td>both</td>\n",
       "    </tr>\n",
       "    <tr>\n",
       "      <th>32404856</th>\n",
       "      <td>74506</td>\n",
       "      <td>49520</td>\n",
       "      <td>Orange Sparkling Water</td>\n",
       "      <td>115</td>\n",
       "      <td>7</td>\n",
       "      <td>7.5</td>\n",
       "      <td>2008002</td>\n",
       "      <td>2</td>\n",
       "      <td>0</td>\n",
       "      <td>15</td>\n",
       "      <td>...</td>\n",
       "      <td>Joe</td>\n",
       "      <td>Coffey</td>\n",
       "      <td>Male</td>\n",
       "      <td>Vermont</td>\n",
       "      <td>44</td>\n",
       "      <td>2018-04-16</td>\n",
       "      <td>3</td>\n",
       "      <td>married</td>\n",
       "      <td>97209</td>\n",
       "      <td>both</td>\n",
       "    </tr>\n",
       "    <tr>\n",
       "      <th>32404857</th>\n",
       "      <td>74506</td>\n",
       "      <td>49520</td>\n",
       "      <td>Orange Sparkling Water</td>\n",
       "      <td>115</td>\n",
       "      <td>7</td>\n",
       "      <td>7.5</td>\n",
       "      <td>1595973</td>\n",
       "      <td>3</td>\n",
       "      <td>1</td>\n",
       "      <td>17</td>\n",
       "      <td>...</td>\n",
       "      <td>Joe</td>\n",
       "      <td>Coffey</td>\n",
       "      <td>Male</td>\n",
       "      <td>Vermont</td>\n",
       "      <td>44</td>\n",
       "      <td>2018-04-16</td>\n",
       "      <td>3</td>\n",
       "      <td>married</td>\n",
       "      <td>97209</td>\n",
       "      <td>both</td>\n",
       "    </tr>\n",
       "    <tr>\n",
       "      <th>32404858</th>\n",
       "      <td>74506</td>\n",
       "      <td>49520</td>\n",
       "      <td>Orange Sparkling Water</td>\n",
       "      <td>115</td>\n",
       "      <td>7</td>\n",
       "      <td>7.5</td>\n",
       "      <td>1680478</td>\n",
       "      <td>4</td>\n",
       "      <td>0</td>\n",
       "      <td>16</td>\n",
       "      <td>...</td>\n",
       "      <td>Joe</td>\n",
       "      <td>Coffey</td>\n",
       "      <td>Male</td>\n",
       "      <td>Vermont</td>\n",
       "      <td>44</td>\n",
       "      <td>2018-04-16</td>\n",
       "      <td>3</td>\n",
       "      <td>married</td>\n",
       "      <td>97209</td>\n",
       "      <td>both</td>\n",
       "    </tr>\n",
       "  </tbody>\n",
       "</table>\n",
       "<p>22683761 rows × 35 columns</p>\n",
       "</div>"
      ],
      "text/plain": [
       "          user_id  product_id                   product_name  aisle_id  \\\n",
       "1             138           1     Chocolate Sandwich Cookies        61   \n",
       "4             138        1000                       Apricots        18   \n",
       "5             138        3265  Mini Seedless Watermelon Pack        32   \n",
       "7             138        6184                    Clementines        32   \n",
       "8             138        6901                    Raisin Bran       121   \n",
       "...           ...         ...                            ...       ...   \n",
       "32404854    80734       49235            Organic Half & Half        53   \n",
       "32404855    74506       49520         Orange Sparkling Water       115   \n",
       "32404856    74506       49520         Orange Sparkling Water       115   \n",
       "32404857    74506       49520         Orange Sparkling Water       115   \n",
       "32404858    74506       49520         Orange Sparkling Water       115   \n",
       "\n",
       "          department_id  prices  order_id  order_number  orders_day_of_week  \\\n",
       "1                    19     5.8   1977647            30                   6   \n",
       "4                    10    12.9    505689             9                   6   \n",
       "5                     4     1.7    960220            17                   5   \n",
       "7                     4     4.3   1977647            30                   6   \n",
       "8                    14     2.9   1154289            18                   1   \n",
       "...                 ...     ...       ...           ...                 ...   \n",
       "32404854             16     1.8   2542346             3                   3   \n",
       "32404855              7     7.5   1363278             1                   1   \n",
       "32404856              7     7.5   2008002             2                   0   \n",
       "32404857              7     7.5   1595973             3                   1   \n",
       "32404858              7     7.5   1680478             4                   0   \n",
       "\n",
       "          order_hour_of_day  ...  first_name  surname  gender      State age  \\\n",
       "1                        17  ...     Charles      Cox    Male  Minnesota  81   \n",
       "4                        12  ...     Charles      Cox    Male  Minnesota  81   \n",
       "5                        14  ...     Charles      Cox    Male  Minnesota  81   \n",
       "7                        17  ...     Charles      Cox    Male  Minnesota  81   \n",
       "8                         7  ...     Charles      Cox    Male  Minnesota  81   \n",
       "...                     ...  ...         ...      ...     ...        ...  ..   \n",
       "32404854                  8  ...       Frank   Bowers    Male    Alabama  45   \n",
       "32404855                 14  ...         Joe   Coffey    Male    Vermont  44   \n",
       "32404856                 15  ...         Joe   Coffey    Male    Vermont  44   \n",
       "32404857                 17  ...         Joe   Coffey    Male    Vermont  44   \n",
       "32404858                 16  ...         Joe   Coffey    Male    Vermont  44   \n",
       "\n",
       "         date_joined dependants family_status income  exist  \n",
       "1         2019-08-01          1       married  49620   both  \n",
       "4         2019-08-01          1       married  49620   both  \n",
       "5         2019-08-01          1       married  49620   both  \n",
       "7         2019-08-01          1       married  49620   both  \n",
       "8         2019-08-01          1       married  49620   both  \n",
       "...              ...        ...           ...    ...    ...  \n",
       "32404854  2019-09-28          1       married  41072   both  \n",
       "32404855  2018-04-16          3       married  97209   both  \n",
       "32404856  2018-04-16          3       married  97209   both  \n",
       "32404857  2018-04-16          3       married  97209   both  \n",
       "32404858  2018-04-16          3       married  97209   both  \n",
       "\n",
       "[22683761 rows x 35 columns]"
      ]
     },
     "execution_count": 20,
     "metadata": {},
     "output_type": "execute_result"
    }
   ],
   "source": [
    "big"
   ]
  },
  {
   "cell_type": "markdown",
   "id": "560c7619-dfda-4886-866a-5840ed5141c5",
   "metadata": {},
   "source": [
    "# Store 30% of the sample in the dataframe small"
   ]
  },
  {
   "cell_type": "code",
   "execution_count": 21,
   "id": "d38ef3c8-8649-492d-9f7e-652458c37b78",
   "metadata": {},
   "outputs": [],
   "source": [
    "small = ord_prod_full[~dev]"
   ]
  },
  {
   "cell_type": "code",
   "execution_count": 22,
   "id": "bcaf39a9-8d62-411c-b6b3-63424894a674",
   "metadata": {},
   "outputs": [
    {
     "data": {
      "text/html": [
       "<div>\n",
       "<style scoped>\n",
       "    .dataframe tbody tr th:only-of-type {\n",
       "        vertical-align: middle;\n",
       "    }\n",
       "\n",
       "    .dataframe tbody tr th {\n",
       "        vertical-align: top;\n",
       "    }\n",
       "\n",
       "    .dataframe thead th {\n",
       "        text-align: right;\n",
       "    }\n",
       "</style>\n",
       "<table border=\"1\" class=\"dataframe\">\n",
       "  <thead>\n",
       "    <tr style=\"text-align: right;\">\n",
       "      <th></th>\n",
       "      <th>user_id</th>\n",
       "      <th>product_id</th>\n",
       "      <th>product_name</th>\n",
       "      <th>aisle_id</th>\n",
       "      <th>department_id</th>\n",
       "      <th>prices</th>\n",
       "      <th>order_id</th>\n",
       "      <th>order_number</th>\n",
       "      <th>orders_day_of_week</th>\n",
       "      <th>order_hour_of_day</th>\n",
       "      <th>...</th>\n",
       "      <th>first_name</th>\n",
       "      <th>surname</th>\n",
       "      <th>gender</th>\n",
       "      <th>State</th>\n",
       "      <th>age</th>\n",
       "      <th>date_joined</th>\n",
       "      <th>dependants</th>\n",
       "      <th>family_status</th>\n",
       "      <th>income</th>\n",
       "      <th>exist</th>\n",
       "    </tr>\n",
       "  </thead>\n",
       "  <tbody>\n",
       "    <tr>\n",
       "      <th>0</th>\n",
       "      <td>138</td>\n",
       "      <td>1</td>\n",
       "      <td>Chocolate Sandwich Cookies</td>\n",
       "      <td>61</td>\n",
       "      <td>19</td>\n",
       "      <td>5.8</td>\n",
       "      <td>3139998</td>\n",
       "      <td>28</td>\n",
       "      <td>6</td>\n",
       "      <td>11</td>\n",
       "      <td>...</td>\n",
       "      <td>Charles</td>\n",
       "      <td>Cox</td>\n",
       "      <td>Male</td>\n",
       "      <td>Minnesota</td>\n",
       "      <td>81</td>\n",
       "      <td>2019-08-01</td>\n",
       "      <td>1</td>\n",
       "      <td>married</td>\n",
       "      <td>49620</td>\n",
       "      <td>both</td>\n",
       "    </tr>\n",
       "    <tr>\n",
       "      <th>2</th>\n",
       "      <td>138</td>\n",
       "      <td>907</td>\n",
       "      <td>Premium Sliced Bacon</td>\n",
       "      <td>106</td>\n",
       "      <td>12</td>\n",
       "      <td>20.0</td>\n",
       "      <td>3160996</td>\n",
       "      <td>1</td>\n",
       "      <td>5</td>\n",
       "      <td>13</td>\n",
       "      <td>...</td>\n",
       "      <td>Charles</td>\n",
       "      <td>Cox</td>\n",
       "      <td>Male</td>\n",
       "      <td>Minnesota</td>\n",
       "      <td>81</td>\n",
       "      <td>2019-08-01</td>\n",
       "      <td>1</td>\n",
       "      <td>married</td>\n",
       "      <td>49620</td>\n",
       "      <td>both</td>\n",
       "    </tr>\n",
       "    <tr>\n",
       "      <th>3</th>\n",
       "      <td>138</td>\n",
       "      <td>907</td>\n",
       "      <td>Premium Sliced Bacon</td>\n",
       "      <td>106</td>\n",
       "      <td>12</td>\n",
       "      <td>20.0</td>\n",
       "      <td>2254091</td>\n",
       "      <td>10</td>\n",
       "      <td>5</td>\n",
       "      <td>14</td>\n",
       "      <td>...</td>\n",
       "      <td>Charles</td>\n",
       "      <td>Cox</td>\n",
       "      <td>Male</td>\n",
       "      <td>Minnesota</td>\n",
       "      <td>81</td>\n",
       "      <td>2019-08-01</td>\n",
       "      <td>1</td>\n",
       "      <td>married</td>\n",
       "      <td>49620</td>\n",
       "      <td>both</td>\n",
       "    </tr>\n",
       "    <tr>\n",
       "      <th>6</th>\n",
       "      <td>138</td>\n",
       "      <td>4913</td>\n",
       "      <td>Table Water Crackers</td>\n",
       "      <td>78</td>\n",
       "      <td>19</td>\n",
       "      <td>4.4</td>\n",
       "      <td>894221</td>\n",
       "      <td>23</td>\n",
       "      <td>5</td>\n",
       "      <td>13</td>\n",
       "      <td>...</td>\n",
       "      <td>Charles</td>\n",
       "      <td>Cox</td>\n",
       "      <td>Male</td>\n",
       "      <td>Minnesota</td>\n",
       "      <td>81</td>\n",
       "      <td>2019-08-01</td>\n",
       "      <td>1</td>\n",
       "      <td>married</td>\n",
       "      <td>49620</td>\n",
       "      <td>both</td>\n",
       "    </tr>\n",
       "    <tr>\n",
       "      <th>10</th>\n",
       "      <td>138</td>\n",
       "      <td>7987</td>\n",
       "      <td>Hazelnut Spread with Cocoa</td>\n",
       "      <td>88</td>\n",
       "      <td>13</td>\n",
       "      <td>12.8</td>\n",
       "      <td>1592314</td>\n",
       "      <td>5</td>\n",
       "      <td>0</td>\n",
       "      <td>9</td>\n",
       "      <td>...</td>\n",
       "      <td>Charles</td>\n",
       "      <td>Cox</td>\n",
       "      <td>Male</td>\n",
       "      <td>Minnesota</td>\n",
       "      <td>81</td>\n",
       "      <td>2019-08-01</td>\n",
       "      <td>1</td>\n",
       "      <td>married</td>\n",
       "      <td>49620</td>\n",
       "      <td>both</td>\n",
       "    </tr>\n",
       "    <tr>\n",
       "      <th>...</th>\n",
       "      <td>...</td>\n",
       "      <td>...</td>\n",
       "      <td>...</td>\n",
       "      <td>...</td>\n",
       "      <td>...</td>\n",
       "      <td>...</td>\n",
       "      <td>...</td>\n",
       "      <td>...</td>\n",
       "      <td>...</td>\n",
       "      <td>...</td>\n",
       "      <td>...</td>\n",
       "      <td>...</td>\n",
       "      <td>...</td>\n",
       "      <td>...</td>\n",
       "      <td>...</td>\n",
       "      <td>...</td>\n",
       "      <td>...</td>\n",
       "      <td>...</td>\n",
       "      <td>...</td>\n",
       "      <td>...</td>\n",
       "      <td>...</td>\n",
       "    </tr>\n",
       "    <tr>\n",
       "      <th>32404841</th>\n",
       "      <td>27382</td>\n",
       "      <td>49235</td>\n",
       "      <td>Organic Half &amp; Half</td>\n",
       "      <td>53</td>\n",
       "      <td>16</td>\n",
       "      <td>1.8</td>\n",
       "      <td>2939801</td>\n",
       "      <td>3</td>\n",
       "      <td>3</td>\n",
       "      <td>8</td>\n",
       "      <td>...</td>\n",
       "      <td>Anna</td>\n",
       "      <td>Allison</td>\n",
       "      <td>Female</td>\n",
       "      <td>Vermont</td>\n",
       "      <td>68</td>\n",
       "      <td>2019-11-25</td>\n",
       "      <td>3</td>\n",
       "      <td>married</td>\n",
       "      <td>37867</td>\n",
       "      <td>both</td>\n",
       "    </tr>\n",
       "    <tr>\n",
       "      <th>32404842</th>\n",
       "      <td>27382</td>\n",
       "      <td>49235</td>\n",
       "      <td>Organic Half &amp; Half</td>\n",
       "      <td>53</td>\n",
       "      <td>16</td>\n",
       "      <td>1.8</td>\n",
       "      <td>698928</td>\n",
       "      <td>4</td>\n",
       "      <td>3</td>\n",
       "      <td>7</td>\n",
       "      <td>...</td>\n",
       "      <td>Anna</td>\n",
       "      <td>Allison</td>\n",
       "      <td>Female</td>\n",
       "      <td>Vermont</td>\n",
       "      <td>68</td>\n",
       "      <td>2019-11-25</td>\n",
       "      <td>3</td>\n",
       "      <td>married</td>\n",
       "      <td>37867</td>\n",
       "      <td>both</td>\n",
       "    </tr>\n",
       "    <tr>\n",
       "      <th>32404843</th>\n",
       "      <td>27382</td>\n",
       "      <td>49235</td>\n",
       "      <td>Organic Half &amp; Half</td>\n",
       "      <td>53</td>\n",
       "      <td>16</td>\n",
       "      <td>1.8</td>\n",
       "      <td>3310701</td>\n",
       "      <td>5</td>\n",
       "      <td>3</td>\n",
       "      <td>9</td>\n",
       "      <td>...</td>\n",
       "      <td>Anna</td>\n",
       "      <td>Allison</td>\n",
       "      <td>Female</td>\n",
       "      <td>Vermont</td>\n",
       "      <td>68</td>\n",
       "      <td>2019-11-25</td>\n",
       "      <td>3</td>\n",
       "      <td>married</td>\n",
       "      <td>37867</td>\n",
       "      <td>both</td>\n",
       "    </tr>\n",
       "    <tr>\n",
       "      <th>32404849</th>\n",
       "      <td>56454</td>\n",
       "      <td>49235</td>\n",
       "      <td>Organic Half &amp; Half</td>\n",
       "      <td>53</td>\n",
       "      <td>16</td>\n",
       "      <td>1.8</td>\n",
       "      <td>952054</td>\n",
       "      <td>2</td>\n",
       "      <td>3</td>\n",
       "      <td>9</td>\n",
       "      <td>...</td>\n",
       "      <td>Christopher</td>\n",
       "      <td>Velazquez</td>\n",
       "      <td>Male</td>\n",
       "      <td>Washington</td>\n",
       "      <td>21</td>\n",
       "      <td>2019-02-16</td>\n",
       "      <td>3</td>\n",
       "      <td>living with parents and siblings</td>\n",
       "      <td>27361</td>\n",
       "      <td>both</td>\n",
       "    </tr>\n",
       "    <tr>\n",
       "      <th>32404850</th>\n",
       "      <td>56454</td>\n",
       "      <td>49235</td>\n",
       "      <td>Organic Half &amp; Half</td>\n",
       "      <td>53</td>\n",
       "      <td>16</td>\n",
       "      <td>1.8</td>\n",
       "      <td>1189204</td>\n",
       "      <td>3</td>\n",
       "      <td>1</td>\n",
       "      <td>19</td>\n",
       "      <td>...</td>\n",
       "      <td>Christopher</td>\n",
       "      <td>Velazquez</td>\n",
       "      <td>Male</td>\n",
       "      <td>Washington</td>\n",
       "      <td>21</td>\n",
       "      <td>2019-02-16</td>\n",
       "      <td>3</td>\n",
       "      <td>living with parents and siblings</td>\n",
       "      <td>27361</td>\n",
       "      <td>both</td>\n",
       "    </tr>\n",
       "  </tbody>\n",
       "</table>\n",
       "<p>9721098 rows × 35 columns</p>\n",
       "</div>"
      ],
      "text/plain": [
       "          user_id  product_id                product_name  aisle_id  \\\n",
       "0             138           1  Chocolate Sandwich Cookies        61   \n",
       "2             138         907        Premium Sliced Bacon       106   \n",
       "3             138         907        Premium Sliced Bacon       106   \n",
       "6             138        4913        Table Water Crackers        78   \n",
       "10            138        7987  Hazelnut Spread with Cocoa        88   \n",
       "...           ...         ...                         ...       ...   \n",
       "32404841    27382       49235         Organic Half & Half        53   \n",
       "32404842    27382       49235         Organic Half & Half        53   \n",
       "32404843    27382       49235         Organic Half & Half        53   \n",
       "32404849    56454       49235         Organic Half & Half        53   \n",
       "32404850    56454       49235         Organic Half & Half        53   \n",
       "\n",
       "          department_id  prices  order_id  order_number  orders_day_of_week  \\\n",
       "0                    19     5.8   3139998            28                   6   \n",
       "2                    12    20.0   3160996             1                   5   \n",
       "3                    12    20.0   2254091            10                   5   \n",
       "6                    19     4.4    894221            23                   5   \n",
       "10                   13    12.8   1592314             5                   0   \n",
       "...                 ...     ...       ...           ...                 ...   \n",
       "32404841             16     1.8   2939801             3                   3   \n",
       "32404842             16     1.8    698928             4                   3   \n",
       "32404843             16     1.8   3310701             5                   3   \n",
       "32404849             16     1.8    952054             2                   3   \n",
       "32404850             16     1.8   1189204             3                   1   \n",
       "\n",
       "          order_hour_of_day  ...   first_name    surname  gender       State  \\\n",
       "0                        11  ...      Charles        Cox    Male   Minnesota   \n",
       "2                        13  ...      Charles        Cox    Male   Minnesota   \n",
       "3                        14  ...      Charles        Cox    Male   Minnesota   \n",
       "6                        13  ...      Charles        Cox    Male   Minnesota   \n",
       "10                        9  ...      Charles        Cox    Male   Minnesota   \n",
       "...                     ...  ...          ...        ...     ...         ...   \n",
       "32404841                  8  ...         Anna    Allison  Female     Vermont   \n",
       "32404842                  7  ...         Anna    Allison  Female     Vermont   \n",
       "32404843                  9  ...         Anna    Allison  Female     Vermont   \n",
       "32404849                  9  ...  Christopher  Velazquez    Male  Washington   \n",
       "32404850                 19  ...  Christopher  Velazquez    Male  Washington   \n",
       "\n",
       "         age date_joined dependants                     family_status income  \\\n",
       "0         81  2019-08-01          1                           married  49620   \n",
       "2         81  2019-08-01          1                           married  49620   \n",
       "3         81  2019-08-01          1                           married  49620   \n",
       "6         81  2019-08-01          1                           married  49620   \n",
       "10        81  2019-08-01          1                           married  49620   \n",
       "...       ..         ...        ...                               ...    ...   \n",
       "32404841  68  2019-11-25          3                           married  37867   \n",
       "32404842  68  2019-11-25          3                           married  37867   \n",
       "32404843  68  2019-11-25          3                           married  37867   \n",
       "32404849  21  2019-02-16          3  living with parents and siblings  27361   \n",
       "32404850  21  2019-02-16          3  living with parents and siblings  27361   \n",
       "\n",
       "          exist  \n",
       "0          both  \n",
       "2          both  \n",
       "3          both  \n",
       "6          both  \n",
       "10         both  \n",
       "...         ...  \n",
       "32404841   both  \n",
       "32404842   both  \n",
       "32404843   both  \n",
       "32404849   both  \n",
       "32404850   both  \n",
       "\n",
       "[9721098 rows x 35 columns]"
      ]
     },
     "execution_count": 22,
     "metadata": {},
     "output_type": "execute_result"
    }
   ],
   "source": [
    "small"
   ]
  },
  {
   "cell_type": "code",
   "execution_count": 23,
   "id": "e9165af4-5436-4777-9c19-095abc3d3fa3",
   "metadata": {},
   "outputs": [
    {
     "data": {
      "text/plain": [
       "32404859"
      ]
     },
     "execution_count": 23,
     "metadata": {},
     "output_type": "execute_result"
    }
   ],
   "source": [
    "len(ord_prod_full)"
   ]
  },
  {
   "cell_type": "code",
   "execution_count": 24,
   "id": "78ff6ca1-09bd-4cb1-9847-9c8d72712ac2",
   "metadata": {},
   "outputs": [
    {
     "data": {
      "text/plain": [
       "32404859"
      ]
     },
     "execution_count": 24,
     "metadata": {},
     "output_type": "execute_result"
    }
   ],
   "source": [
    "len(big) + len(small)"
   ]
  },
  {
   "cell_type": "code",
   "execution_count": 25,
   "id": "ca72374d-38ee-4535-902a-89157c5a503a",
   "metadata": {},
   "outputs": [],
   "source": [
    "df_2=small[['orders_day_of_week', 'prices']]"
   ]
  },
  {
   "cell_type": "code",
   "execution_count": 26,
   "id": "5fe24962-1b2b-40bc-8876-be1d20492dd5",
   "metadata": {},
   "outputs": [
    {
     "data": {
      "text/html": [
       "<div>\n",
       "<style scoped>\n",
       "    .dataframe tbody tr th:only-of-type {\n",
       "        vertical-align: middle;\n",
       "    }\n",
       "\n",
       "    .dataframe tbody tr th {\n",
       "        vertical-align: top;\n",
       "    }\n",
       "\n",
       "    .dataframe thead th {\n",
       "        text-align: right;\n",
       "    }\n",
       "</style>\n",
       "<table border=\"1\" class=\"dataframe\">\n",
       "  <thead>\n",
       "    <tr style=\"text-align: right;\">\n",
       "      <th></th>\n",
       "      <th>orders_day_of_week</th>\n",
       "      <th>prices</th>\n",
       "    </tr>\n",
       "  </thead>\n",
       "  <tbody>\n",
       "    <tr>\n",
       "      <th>0</th>\n",
       "      <td>6</td>\n",
       "      <td>5.8</td>\n",
       "    </tr>\n",
       "    <tr>\n",
       "      <th>2</th>\n",
       "      <td>5</td>\n",
       "      <td>20.0</td>\n",
       "    </tr>\n",
       "    <tr>\n",
       "      <th>3</th>\n",
       "      <td>5</td>\n",
       "      <td>20.0</td>\n",
       "    </tr>\n",
       "    <tr>\n",
       "      <th>6</th>\n",
       "      <td>5</td>\n",
       "      <td>4.4</td>\n",
       "    </tr>\n",
       "    <tr>\n",
       "      <th>10</th>\n",
       "      <td>0</td>\n",
       "      <td>12.8</td>\n",
       "    </tr>\n",
       "    <tr>\n",
       "      <th>...</th>\n",
       "      <td>...</td>\n",
       "      <td>...</td>\n",
       "    </tr>\n",
       "    <tr>\n",
       "      <th>32404841</th>\n",
       "      <td>3</td>\n",
       "      <td>1.8</td>\n",
       "    </tr>\n",
       "    <tr>\n",
       "      <th>32404842</th>\n",
       "      <td>3</td>\n",
       "      <td>1.8</td>\n",
       "    </tr>\n",
       "    <tr>\n",
       "      <th>32404843</th>\n",
       "      <td>3</td>\n",
       "      <td>1.8</td>\n",
       "    </tr>\n",
       "    <tr>\n",
       "      <th>32404849</th>\n",
       "      <td>3</td>\n",
       "      <td>1.8</td>\n",
       "    </tr>\n",
       "    <tr>\n",
       "      <th>32404850</th>\n",
       "      <td>1</td>\n",
       "      <td>1.8</td>\n",
       "    </tr>\n",
       "  </tbody>\n",
       "</table>\n",
       "<p>9721098 rows × 2 columns</p>\n",
       "</div>"
      ],
      "text/plain": [
       "          orders_day_of_week  prices\n",
       "0                          6     5.8\n",
       "2                          5    20.0\n",
       "3                          5    20.0\n",
       "6                          5     4.4\n",
       "10                         0    12.8\n",
       "...                      ...     ...\n",
       "32404841                   3     1.8\n",
       "32404842                   3     1.8\n",
       "32404843                   3     1.8\n",
       "32404849                   3     1.8\n",
       "32404850                   1     1.8\n",
       "\n",
       "[9721098 rows x 2 columns]"
      ]
     },
     "execution_count": 26,
     "metadata": {},
     "output_type": "execute_result"
    }
   ],
   "source": [
    "df_2"
   ]
  },
  {
   "cell_type": "markdown",
   "id": "34d87dcb-f1fb-4b58-b891-65aa49a68c0c",
   "metadata": {},
   "source": [
    "# Create Line Chart for the 30% sample"
   ]
  },
  {
   "cell_type": "code",
   "execution_count": 35,
   "id": "9114b685-65ff-4a61-8a5b-b3242b5fb334",
   "metadata": {},
   "outputs": [
    {
     "name": "stderr",
     "output_type": "stream",
     "text": [
      "C:\\Anaconda3\\Lib\\site-packages\\seaborn\\_oldcore.py:1119: FutureWarning: use_inf_as_na option is deprecated and will be removed in a future version. Convert inf values to NaN before operating instead.\n",
      "  with pd.option_context('mode.use_inf_as_na', True):\n",
      "C:\\Anaconda3\\Lib\\site-packages\\seaborn\\_oldcore.py:1119: FutureWarning: use_inf_as_na option is deprecated and will be removed in a future version. Convert inf values to NaN before operating instead.\n",
      "  with pd.option_context('mode.use_inf_as_na', True):\n"
     ]
    },
    {
     "data": {
      "image/png": "[encoded data removed]",
      "text/plain": [
       "<Figure size 640x480 with 1 Axes>"
      ]
     },
     "metadata": {},
     "output_type": "display_data"
    }
   ],
   "source": [
    "line=sns.lineplot(data=df_2, x='orders_day_of_week', y='prices')"
   ]
  },
  {
   "cell_type": "code",
   "execution_count": 34,
   "id": "d2e5e64a-7c33-4c1e-92e8-cddb4be01b5b",
   "metadata": {},
   "outputs": [
    {
     "data": {
      "text/plain": [
       "<Axes: xlabel='orders_day_of_week', ylabel='prices'>"
      ]
     },
     "execution_count": 34,
     "metadata": {},
     "output_type": "execute_result"
    }
   ],
   "source": [
    "line"
   ]
  },
  {
   "cell_type": "markdown",
   "id": "bc95ef50-743c-45ad-a566-688a926480ba",
   "metadata": {},
   "source": [
    "# Export"
   ]
  },
  {
   "cell_type": "code",
   "execution_count": 29,
   "id": "7183e136-2879-4b58-a566-dda67ea33b8b",
   "metadata": {},
   "outputs": [],
   "source": [
    "line.figure.savefig(os.path.join(path, '04 Analysis', 'Visualizations', 'line_orders_dow.png'))"
   ]
  },
  {
   "cell_type": "markdown",
   "id": "67d743c0-3d13-458f-a2ab-6dd249c3f9db",
   "metadata": {},
   "source": [
    "### TASK EXERCISES ### "
   ]
  },
  {
   "cell_type": "markdown",
   "id": "bf239179-cea8-46f0-acec-e417f2e04e18",
   "metadata": {},
   "source": [
    "# 3 Create a histogram of the hour_of_day_ordered column"
   ]
  },
  {
   "cell_type": "code",
   "execution_count": 30,
   "id": "a68b5dfc-a764-473d-9abd-d5a9e940c310",
   "metadata": {},
   "outputs": [
    {
     "data": {
      "text/plain": [
       "Text(0.5, 1.0, 'Number of Orders per Hour')"
      ]
     },
     "execution_count": 30,
     "metadata": {},
     "output_type": "execute_result"
    },
    {
     "data": {
      "image/png": "[encoded data removed]",
      "text/plain": [
       "<Figure size 640x480 with 1 Axes>"
      ]
     },
     "metadata": {},
     "output_type": "display_data"
    }
   ],
   "source": [
    "hist_hour_of_day_ordered = ord_prod_full['order_hour_of_day'].value_counts().sort_index().plot.bar()\n",
    "hist_hour_of_day_ordered.set_xlabel('Hour')\n",
    "hist_hour_of_day_ordered.set_ylabel('Number of Orders')\n",
    "hist_hour_of_day_ordered.set_title('Number of Orders per Hour')"
   ]
  },
  {
   "cell_type": "markdown",
   "id": "7a039e02-f7a0-46e2-a675-32e87a551f9d",
   "metadata": {},
   "source": [
    "# Export the histogram"
   ]
  },
  {
   "cell_type": "code",
   "execution_count": 31,
   "id": "6966f757-49e9-42b5-9317-9db8c32ebdc9",
   "metadata": {},
   "outputs": [],
   "source": [
    "hist_hour_of_day_ordered.figure.savefig(os.path.join(path, '04 Analysis', 'Visualizations', 'hist_hour_of_day_ordered.png'))"
   ]
  },
  {
   "cell_type": "markdown",
   "id": "17c7ccc0-4ad3-46ce-9398-bc7845dbe6b6",
   "metadata": {},
   "source": [
    " #### The histogram illustrates that the least active periods occur between 1 am and 6 am, while the busiest hours for orders are roughly from 9 am to 6 pm. Post 5 pm, there is a gradual decrease in orders, with a steady decline in each subsequent hour. ###"
   ]
  },
  {
   "cell_type": "markdown",
   "id": "043c84fb-e36e-4f6f-8f9b-fe74122e708a",
   "metadata": {},
   "source": [
    " # 4 Create a bar chart from the loyalty_flag column"
   ]
  },
  {
   "cell_type": "code",
   "execution_count": 37,
   "id": "16d1c2b8-706c-4f36-bb4e-dbb6dd954102",
   "metadata": {},
   "outputs": [
    {
     "data": {
      "text/plain": [
       "Index(['user_id', 'product_id', 'product_name', 'aisle_id', 'department_id',\n",
       "       'prices', 'order_id', 'order_number', 'orders_day_of_week',\n",
       "       'order_hour_of_day', 'days_since_prior_order', 'first_order',\n",
       "       'add_to_cart_order', 'reordered', '_merge', 'price_range_loc',\n",
       "       'busiest_day', 'busiest_days', 'busiest_period_of_day', 'max_order',\n",
       "       'loyalty_flag', 'mean_product_price', 'spending_flag',\n",
       "       'median_days_between_orders', 'order_frequency', 'first_name',\n",
       "       'surname', 'gender', 'State', 'age', 'date_joined', 'dependants',\n",
       "       'family_status', 'income', 'exist'],\n",
       "      dtype='object')"
      ]
     },
     "execution_count": 37,
     "metadata": {},
     "output_type": "execute_result"
    }
   ],
   "source": [
    "ord_prod_full.columns"
   ]
  },
  {
   "cell_type": "code",
   "execution_count": 38,
   "id": "65809e84-bd39-40bf-b505-3841bb5aa6ab",
   "metadata": {},
   "outputs": [],
   "source": [
    "df_loyalty=df.groupby('loyalty_flag')['order_id'].nunique()"
   ]
  },
  {
   "cell_type": "code",
   "execution_count": 40,
   "id": "546f0671-bb84-4611-9d69-512087d283fe",
   "metadata": {},
   "outputs": [
    {
     "data": {
      "text/html": [
       "<div>\n",
       "<style scoped>\n",
       "    .dataframe tbody tr th:only-of-type {\n",
       "        vertical-align: middle;\n",
       "    }\n",
       "\n",
       "    .dataframe tbody tr th {\n",
       "        vertical-align: top;\n",
       "    }\n",
       "\n",
       "    .dataframe thead th {\n",
       "        text-align: right;\n",
       "    }\n",
       "</style>\n",
       "<table border=\"1\" class=\"dataframe\">\n",
       "  <thead>\n",
       "    <tr style=\"text-align: right;\">\n",
       "      <th></th>\n",
       "      <th>loyalty_flag</th>\n",
       "      <th>order_id</th>\n",
       "    </tr>\n",
       "  </thead>\n",
       "  <tbody>\n",
       "    <tr>\n",
       "      <th>0</th>\n",
       "      <td>Loyal customer</td>\n",
       "      <td>80928</td>\n",
       "    </tr>\n",
       "    <tr>\n",
       "      <th>1</th>\n",
       "      <td>New customer</td>\n",
       "      <td>13739</td>\n",
       "    </tr>\n",
       "    <tr>\n",
       "      <th>2</th>\n",
       "      <td>Regular customer</td>\n",
       "      <td>76308</td>\n",
       "    </tr>\n",
       "  </tbody>\n",
       "</table>\n",
       "</div>"
      ],
      "text/plain": [
       "       loyalty_flag  order_id\n",
       "0    Loyal customer     80928\n",
       "1      New customer     13739\n",
       "2  Regular customer     76308"
      ]
     },
     "execution_count": 40,
     "metadata": {},
     "output_type": "execute_result"
    }
   ],
   "source": [
    "df_loyalty"
   ]
  },
  {
   "cell_type": "code",
   "execution_count": 41,
   "id": "a478a481-f239-42aa-bd16-aac948a4ecc0",
   "metadata": {},
   "outputs": [
    {
     "data": {
      "text/plain": [
       "Index(['loyalty_flag', 'order_id'], dtype='object')"
      ]
     },
     "execution_count": 41,
     "metadata": {},
     "output_type": "execute_result"
    }
   ],
   "source": [
    "df_loyalty.columns"
   ]
  },
  {
   "cell_type": "code",
   "execution_count": 50,
   "id": "30b5bb28-55ec-470a-b543-22655cc816e6",
   "metadata": {},
   "outputs": [
    {
     "data": {
      "text/plain": [
       "Text(0.5, 1.0, 'Number of orders per Loyalty Status')"
      ]
     },
     "execution_count": 50,
     "metadata": {},
     "output_type": "execute_result"
    },
    {
     "data": {
      "image/png": "[encoded data removed]",
      "text/plain": [
       "<Figure size 640x480 with 1 Axes>"
      ]
     },
     "metadata": {},
     "output_type": "display_data"
    }
   ],
   "source": [
    "bar_loyalty_flag = ord_prod_full['loyalty_flag'].value_counts().plot.bar()\n",
    "bar_loyalty_flag.set_xlabel('Loyalty')\n",
    "bar_loyalty_flag.set_ylabel('Orders')\n",
    "bar_loyalty_flag.set_title('Number of orders per Loyalty Status')"
   ]
  },
  {
   "cell_type": "markdown",
   "id": "22a078a3-9f83-497a-87fe-9db0ef959d24",
   "metadata": {},
   "source": [
    "## The majority of orders originate from our Regular customers, with Loyal customers coming next, and New customers placing orders last ##"
   ]
  },
  {
   "cell_type": "markdown",
   "id": "e275d25a-d5c5-47d3-8ab7-a5b1eee1f839",
   "metadata": {},
   "source": [
    "# Export"
   ]
  },
  {
   "cell_type": "code",
   "execution_count": 51,
   "id": "4de0de27-38f0-4b9b-ac32-9330fe7087e7",
   "metadata": {},
   "outputs": [],
   "source": [
    "bar_loyalty_flag.figure.savefig(os.path.join(path, '04 Analysis', 'Visualizations','loyalty'))"
   ]
  },
  {
   "cell_type": "markdown",
   "id": "43f6f47f-b597-47d3-aae0-ef3539cfeb53",
   "metadata": {},
   "source": [
    "# 5 Check if there is a difference in expenditures depending on the hour of the day"
   ]
  },
  {
   "cell_type": "markdown",
   "id": "106b81dd-f8ad-411c-833f-a69694ce91fd",
   "metadata": {},
   "source": [
    "# Create the seed"
   ]
  },
  {
   "cell_type": "code",
   "execution_count": 49,
   "id": "7d69285d-12c6-49dc-a830-3cd4a57653b6",
   "metadata": {},
   "outputs": [],
   "source": [
    "np.random.seed(4)"
   ]
  },
  {
   "cell_type": "markdown",
   "id": "454f4d8d-f0cd-4d62-bdda-7cbe88148dc0",
   "metadata": {},
   "source": [
    "# Create a list holding True/False values to test the np.random.rand () <= 0.7"
   ]
  },
  {
   "cell_type": "code",
   "execution_count": 53,
   "id": "8c0f1fcc-2a50-4f98-aceb-92a6f29fccbd",
   "metadata": {},
   "outputs": [],
   "source": [
    "dev = np.random.rand(len(ord_prod_full)) <= 0.7"
   ]
  },
  {
   "cell_type": "code",
   "execution_count": 54,
   "id": "a03896b1-f34d-48e9-92ee-1183d3dcc701",
   "metadata": {},
   "outputs": [
    {
     "data": {
      "text/plain": [
       "array([False,  True, False, ...,  True,  True,  True])"
      ]
     },
     "execution_count": 54,
     "metadata": {},
     "output_type": "execute_result"
    }
   ],
   "source": [
    "dev"
   ]
  },
  {
   "cell_type": "code",
   "execution_count": 55,
   "id": "8f776282-b547-48ea-9e3d-d3f4cfd9f9e9",
   "metadata": {},
   "outputs": [
    {
     "data": {
      "text/plain": [
       "array([0.93546686, 0.06557465, 0.85698584, 0.24456371, 0.22683171,\n",
       "       0.17068366, 0.27008946, 0.52534234, 0.83151571, 0.78153402])"
      ]
     },
     "execution_count": 55,
     "metadata": {},
     "output_type": "execute_result"
    }
   ],
   "source": [
    "np.random.rand(10)"
   ]
  },
  {
   "cell_type": "markdown",
   "id": "9e425891-b671-42b8-aae7-81c2451ae51d",
   "metadata": {},
   "source": [
    "# Store 70% of the sample in the dataframe big"
   ]
  },
  {
   "cell_type": "code",
   "execution_count": 56,
   "id": "65bd9058-d458-45e1-96ed-6d73a23f2a22",
   "metadata": {},
   "outputs": [],
   "source": [
    "big = ord_prod_full[dev]"
   ]
  },
  {
   "cell_type": "markdown",
   "id": "1cabed4f-82d7-407c-a89a-b7e2aacbed6b",
   "metadata": {},
   "source": [
    "# Store 30% of the sample in the dataframe small"
   ]
  },
  {
   "cell_type": "code",
   "execution_count": 57,
   "id": "e5046333-99b9-4ea8-bdf1-13c47528b80a",
   "metadata": {},
   "outputs": [],
   "source": [
    "small = ord_prod_full[~dev]"
   ]
  },
  {
   "cell_type": "code",
   "execution_count": 58,
   "id": "cf82e71a-4828-4ada-a811-ca8b4614431d",
   "metadata": {},
   "outputs": [
    {
     "data": {
      "text/plain": [
       "32404859"
      ]
     },
     "execution_count": 58,
     "metadata": {},
     "output_type": "execute_result"
    }
   ],
   "source": [
    "len(ord_prod_full)"
   ]
  },
  {
   "cell_type": "code",
   "execution_count": 60,
   "id": "54cfb206-37a4-42ce-a83b-d2a7e0e31a5f",
   "metadata": {},
   "outputs": [
    {
     "data": {
      "text/plain": [
       "32404859"
      ]
     },
     "execution_count": 60,
     "metadata": {},
     "output_type": "execute_result"
    }
   ],
   "source": [
    "len(big)+len(small)"
   ]
  },
  {
   "cell_type": "code",
   "execution_count": 62,
   "id": "f243c34b-cad1-428c-a666-59fd99fc0160",
   "metadata": {},
   "outputs": [],
   "source": [
    "df_3=small[['order_hour_of_day', 'prices']]"
   ]
  },
  {
   "cell_type": "markdown",
   "id": "d8517823-136b-4405-be0f-38f3e3836327",
   "metadata": {},
   "source": [
    "# Create Line Chart for the 30% sample"
   ]
  },
  {
   "cell_type": "code",
   "execution_count": 66,
   "id": "3c0ec0db-8bd4-4176-b124-1da6f176cee9",
   "metadata": {},
   "outputs": [
    {
     "name": "stderr",
     "output_type": "stream",
     "text": [
      "C:\\Anaconda3\\Lib\\site-packages\\seaborn\\_oldcore.py:1119: FutureWarning: use_inf_as_na option is deprecated and will be removed in a future version. Convert inf values to NaN before operating instead.\n",
      "  with pd.option_context('mode.use_inf_as_na', True):\n",
      "C:\\Anaconda3\\Lib\\site-packages\\seaborn\\_oldcore.py:1119: FutureWarning: use_inf_as_na option is deprecated and will be removed in a future version. Convert inf values to NaN before operating instead.\n",
      "  with pd.option_context('mode.use_inf_as_na', True):\n"
     ]
    },
    {
     "data": {
      "text/plain": [
       "Text(0.5, 1.0, 'Expenditure by Hour during in the day')"
      ]
     },
     "execution_count": 66,
     "metadata": {},
     "output_type": "execute_result"
    },
    {
     "data": {
      "image/png": "[encoded data removed]",
      "text/plain": [
       "<Figure size 640x480 with 1 Axes>"
      ]
     },
     "metadata": {},
     "output_type": "display_data"
    }
   ],
   "source": [
    "line_hour_of_day_ordered=sns.lineplot(data=df_3, x='order_hour_of_day', y='prices')\n",
    "line_hour_of_day_ordered.set_xlabel('Orders per Hour ')\n",
    "line_hour_of_day_ordered.set_ylabel('Prices')\n",
    "line_hour_of_day_ordered.set_title('Expenditure by Hour during in the day')"
   ]
  },
  {
   "cell_type": "markdown",
   "id": "ad93694f-1560-49b0-879d-4172102f2b6b",
   "metadata": {},
   "source": [
    " # Export"
   ]
  },
  {
   "cell_type": "code",
   "execution_count": 67,
   "id": "f9c13a11-d58d-49b1-b28d-d9ba93d2ce68",
   "metadata": {},
   "outputs": [],
   "source": [
    "line_hour_of_day_ordered.figure.savefig(os.path.join(path, '04 Analysis', 'Visualizations', 'line_hour_of_day_ordered.png'))"
   ]
  },
  {
   "cell_type": "markdown",
   "id": "ffe37af5-ab4b-40f5-881e-997b893c5a8a",
   "metadata": {},
   "source": [
    "# 5 Check if there is a connection between age and number dependants"
   ]
  },
  {
   "cell_type": "markdown",
   "id": "6bc8a7d9-44de-4f2f-80e4-cfeb1e83bf14",
   "metadata": {},
   "source": [
    "# Create the seed"
   ]
  },
  {
   "cell_type": "code",
   "execution_count": 68,
   "id": "f7585cdc-91df-412c-b102-0ab4a1d8b2f0",
   "metadata": {},
   "outputs": [],
   "source": [
    "np.random.seed(4)"
   ]
  },
  {
   "cell_type": "markdown",
   "id": "c4591489-b171-48c8-a37a-a7cec19019b5",
   "metadata": {},
   "source": [
    "# Create a list holding True/False values to test the np.random.rand () <= 0.7"
   ]
  },
  {
   "cell_type": "code",
   "execution_count": 70,
   "id": "44f29cd5-f8a9-4996-86ff-31d4a76449cd",
   "metadata": {},
   "outputs": [],
   "source": [
    "dev = np.random.rand(len(ord_prod_full)) <= 0.7"
   ]
  },
  {
   "cell_type": "code",
   "execution_count": 71,
   "id": "fe4f27bd-a202-48b4-bed8-2ae2d4857d9b",
   "metadata": {},
   "outputs": [
    {
     "data": {
      "text/plain": [
       "array([False,  True, False, ...,  True,  True,  True])"
      ]
     },
     "execution_count": 71,
     "metadata": {},
     "output_type": "execute_result"
    }
   ],
   "source": [
    "dev"
   ]
  },
  {
   "cell_type": "code",
   "execution_count": 72,
   "id": "85c19bd4-38fe-45be-818b-aaa20fb86548",
   "metadata": {},
   "outputs": [
    {
     "data": {
      "text/plain": [
       "array([0.93546686, 0.06557465, 0.85698584, 0.24456371, 0.22683171,\n",
       "       0.17068366, 0.27008946, 0.52534234, 0.83151571, 0.78153402])"
      ]
     },
     "execution_count": 72,
     "metadata": {},
     "output_type": "execute_result"
    }
   ],
   "source": [
    "np.random.rand(10)"
   ]
  },
  {
   "cell_type": "markdown",
   "id": "37cafe39-a3d5-424e-8c46-89edb68c5282",
   "metadata": {},
   "source": [
    "# Store 30% of the sample in the dataframe small"
   ]
  },
  {
   "cell_type": "code",
   "execution_count": 73,
   "id": "909c6b55-81b9-4e84-a53c-aaf381110390",
   "metadata": {},
   "outputs": [],
   "source": [
    "small = ord_prod_full[~dev]"
   ]
  },
  {
   "cell_type": "code",
   "execution_count": 74,
   "id": "c55c982d-2ac9-443a-8413-f3ca6301ba7d",
   "metadata": {},
   "outputs": [
    {
     "data": {
      "text/plain": [
       "32404859"
      ]
     },
     "execution_count": 74,
     "metadata": {},
     "output_type": "execute_result"
    }
   ],
   "source": [
    "len(ord_prod_full)"
   ]
  },
  {
   "cell_type": "code",
   "execution_count": 75,
   "id": "a0da3e71-1782-48c0-8243-1c2dc064891b",
   "metadata": {},
   "outputs": [
    {
     "data": {
      "text/plain": [
       "32404859"
      ]
     },
     "execution_count": 75,
     "metadata": {},
     "output_type": "execute_result"
    }
   ],
   "source": [
    "len(big)+len(small)"
   ]
  },
  {
   "cell_type": "code",
   "execution_count": 76,
   "id": "b6c9d475-73d0-4056-8350-b97f259a27f3",
   "metadata": {},
   "outputs": [],
   "source": [
    "df_4=small[['dependants', 'age']]"
   ]
  },
  {
   "cell_type": "markdown",
   "id": "d35adaae-1413-4f02-b073-23f1b886e6a2",
   "metadata": {},
   "source": [
    "# Create Line Chart for the 30% sample"
   ]
  },
  {
   "cell_type": "code",
   "execution_count": 79,
   "id": "6442b143-7ed3-460a-977b-b07cb7474e5e",
   "metadata": {},
   "outputs": [
    {
     "name": "stderr",
     "output_type": "stream",
     "text": [
      "C:\\Anaconda3\\Lib\\site-packages\\seaborn\\_oldcore.py:1119: FutureWarning: use_inf_as_na option is deprecated and will be removed in a future version. Convert inf values to NaN before operating instead.\n",
      "  with pd.option_context('mode.use_inf_as_na', True):\n",
      "C:\\Anaconda3\\Lib\\site-packages\\seaborn\\_oldcore.py:1119: FutureWarning: use_inf_as_na option is deprecated and will be removed in a future version. Convert inf values to NaN before operating instead.\n",
      "  with pd.option_context('mode.use_inf_as_na', True):\n"
     ]
    },
    {
     "data": {
      "text/plain": [
       "Text(0.5, 1.0, 'Relation Between Age and Number of Dependents')"
      ]
     },
     "execution_count": 79,
     "metadata": {},
     "output_type": "execute_result"
    },
    {
     "data": {
      "image/png": "[encoded data removed]",
      "text/plain": [
       "<Figure size 640x480 with 1 Axes>"
      ]
     },
     "metadata": {},
     "output_type": "display_data"
    }
   ],
   "source": [
    "line_number_of_dependants=sns.lineplot(data=df_4, x='age', y='dependants')\n",
    "line_number_of_dependants.set_xlabel('Age')\n",
    "line_number_of_dependants.set_ylabel('Dependents')\n",
    "line_number_of_dependants.set_title('Relation Between Age and Number of Dependents')"
   ]
  },
  {
   "cell_type": "markdown",
   "id": "8a827a0b-96f3-4a46-a73a-5d45bcf9c16e",
   "metadata": {},
   "source": [
    "# Export"
   ]
  },
  {
   "cell_type": "code",
   "execution_count": 80,
   "id": "8546edd8-3c05-422c-af14-68a20ef934bc",
   "metadata": {},
   "outputs": [],
   "source": [
    "line_number_of_dependants.figure.savefig(os.path.join(path, '04 Analysis', 'Visualizations', 'line_number_of_dependants.png'))"
   ]
  },
  {
   "cell_type": "markdown",
   "id": "f5f7e129-b001-4acc-929f-b9bcc92c7988",
   "metadata": {},
   "source": [
    "## The line chart fails to illustrate any correlation between age and the number of dependants. ##"
   ]
  },
  {
   "cell_type": "markdown",
   "id": "c9827220-6071-413d-8ff8-230c6c4c67ef",
   "metadata": {},
   "source": [
    "# 7 Create a scatterplot to see if there is a connection between age and income"
   ]
  },
  {
   "cell_type": "code",
   "execution_count": 82,
   "id": "dc8c5b75-49cd-4b77-a146-89d6b0e934bd",
   "metadata": {},
   "outputs": [
    {
     "data": {
      "text/plain": [
       "Text(0.5, 1.0, 'Relation Between Age and Income')"
      ]
     },
     "execution_count": 82,
     "metadata": {},
     "output_type": "execute_result"
    },
    {
     "data": {
      "image/png": "[encoded data removed]",
      "text/plain": [
       "<Figure size 640x480 with 1 Axes>"
      ]
     },
     "metadata": {},
     "output_type": "display_data"
    }
   ],
   "source": [
    "scatterplot_age_income = sns.scatterplot(x = 'age', y = 'income', data = ord_prod_full)\n",
    "scatterplot_age_income.set_xlabel('Age')\n",
    "scatterplot_age_income.set_ylabel('Income $')\n",
    "scatterplot_age_income.set_title('Relation Between Age and Income')"
   ]
  },
  {
   "cell_type": "markdown",
   "id": "80214723-1b99-49f2-9275-1885cfe7f04f",
   "metadata": {},
   "source": [
    "## The scatterplot indicates that the highest density of income across all ages falls within the range of $0.00 to $200,000. Following this, the next significant income bracket is observed between $200,000 and $300,000, particularly within the 40+ age group. Income values ranging from $200,000 to $400,000 are apparent across all age ranges. Additionally, income values ranging from $300,000 to $600,000 are scattered within the 40+ age ranges. ##"
   ]
  },
  {
   "cell_type": "markdown",
   "id": "7b941b37-67ad-41d7-9445-56cfa0f5cec8",
   "metadata": {},
   "source": [
    "# Export"
   ]
  },
  {
   "cell_type": "code",
   "execution_count": 83,
   "id": "98db5afc-d8d2-4eba-a795-e909be316e97",
   "metadata": {},
   "outputs": [],
   "source": [
    "scatterplot_age_income.figure.savefig(os.path.join(path, '04 Analysis', 'Visualizations', 'scatterplot_age_income.png'))"
   ]
  },
  {
   "cell_type": "markdown",
   "id": "59efbbde-bbb8-46ae-844f-80e0cd6f57dd",
   "metadata": {},
   "source": []
  },
  {
   "cell_type": "code",
   "execution_count": null,
   "id": "51d4119b-5574-4b88-b2b9-f886e397deab",
   "metadata": {},
   "outputs": [],
   "source": []
  },
  {
   "cell_type": "code",
   "execution_count": null,
   "id": "f2f4b591-f898-44e0-ba3b-068ecb815d28",
   "metadata": {},
   "outputs": [],
   "source": []
  },
  {
   "cell_type": "code",
   "execution_count": null,
   "id": "6188663b-57f3-41a2-88a9-d4bacadd1e12",
   "metadata": {},
   "outputs": [],
   "source": []
  },
  {
   "cell_type": "code",
   "execution_count": null,
   "id": "9528f77f-2e33-406f-b657-c8c2d7f12979",
   "metadata": {},
   "outputs": [],
   "source": []
  },
  {
   "cell_type": "code",
   "execution_count": null,
   "id": "c0d570be-7092-40aa-86fb-29edf24a2f8d",
   "metadata": {},
   "outputs": [],
   "source": []
  },
  {
   "cell_type": "code",
   "execution_count": null,
   "id": "0e2fb021-7c38-40c5-b77c-14b0ebf2fdc7",
   "metadata": {},
   "outputs": [],
   "source": []
  },
  {
   "cell_type": "code",
   "execution_count": null,
   "id": "0050db80-5aa7-42c3-8952-007939d9f989",
   "metadata": {},
   "outputs": [],
   "source": []
  }
 ],
 "metadata": {
  "kernelspec": {
   "display_name": "Python 3 (ipykernel)",
   "language": "python",
   "name": "python3"
  },
  "language_info": {
   "codemirror_mode": {
    "name": "ipython",
    "version": 3
   },
   "file_extension": ".py",
   "mimetype": "text/x-python",
   "name": "python",
   "nbconvert_exporter": "python",
   "pygments_lexer": "ipython3",
   "version": "3.11.7"
  }
 },
 "nbformat": 4,
 "nbformat_minor": 5
}
