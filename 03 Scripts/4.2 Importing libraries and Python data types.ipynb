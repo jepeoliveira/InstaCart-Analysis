{
 "cells": [
  {
   "cell_type": "markdown",
   "id": "791abe45",
   "metadata": {},
   "source": [
    "# IMPORT LIBRARIES"
   ]
  },
  {
   "cell_type": "code",
   "execution_count": 2,
   "id": "cbbb720d",
   "metadata": {},
   "outputs": [],
   "source": [
    "# IMPORTING LIBRARIES\n",
    "import pandas as pd\n",
    "import numpy as np\n",
    "import os "
   ]
  },
  {
   "cell_type": "markdown",
   "id": "0ae19756",
   "metadata": {},
   "source": [
    "# WORKING PYTHON DATA TYPES"
   ]
  },
  {
   "cell_type": "markdown",
   "id": "902706bb",
   "metadata": {},
   "source": [
    "# 3 different ways of reaching a result of 100 by adding or subtracting numeric variables"
   ]
  },
  {
   "cell_type": "code",
   "execution_count": 5,
   "id": "0c2c91d5",
   "metadata": {},
   "outputs": [
    {
     "name": "stdout",
     "output_type": "stream",
     "text": [
      "100\n"
     ]
    }
   ],
   "source": [
    "a = 90\n",
    "b = 30\n",
    "result = a + (b - 20)\n",
    "print(result)"
   ]
  },
  {
   "cell_type": "code",
   "execution_count": 7,
   "id": "dbda62fe",
   "metadata": {},
   "outputs": [
    {
     "name": "stdout",
     "output_type": "stream",
     "text": [
      "100\n"
     ]
    }
   ],
   "source": [
    "c = 20\n",
    "d = 20\n",
    "result = c + (100 - d)\n",
    "print(result)"
   ]
  },
  {
   "cell_type": "code",
   "execution_count": 9,
   "id": "eb94e8db",
   "metadata": {},
   "outputs": [
    {
     "name": "stdout",
     "output_type": "stream",
     "text": [
      "100\n"
     ]
    }
   ],
   "source": [
    "e = 100\n",
    "f = 20\n",
    "result = e - (f - 20)\n",
    "print(result)"
   ]
  },
  {
   "cell_type": "markdown",
   "id": "d9a5105c",
   "metadata": {},
   "source": [
    "#  2 floating-point variables and divide them by each other"
   ]
  },
  {
   "cell_type": "code",
   "execution_count": 25,
   "id": "a51915ae",
   "metadata": {},
   "outputs": [
    {
     "data": {
      "text/plain": [
       "3.36"
      ]
     },
     "execution_count": 25,
     "metadata": {},
     "output_type": "execute_result"
    }
   ],
   "source": [
    "x = 7.56\n",
    "\n",
    "y = 2.25\n",
    "\n",
    "x/y"
   ]
  },
  {
   "cell_type": "markdown",
   "id": "1fbfa4d0",
   "metadata": {},
   "source": [
    "# a short word made of separate strings (you’ll need to concatenate some strings!)"
   ]
  },
  {
   "cell_type": "code",
   "execution_count": 22,
   "id": "7c8bdb77",
   "metadata": {},
   "outputs": [
    {
     "data": {
      "text/plain": [
       "'handball'"
      ]
     },
     "execution_count": 22,
     "metadata": {},
     "output_type": "execute_result"
    }
   ],
   "source": [
    "a = 'hand'\n",
    "b = 'ball'\n",
    "\n",
    "a+b"
   ]
  },
  {
   "cell_type": "markdown",
   "id": "3f89be96",
   "metadata": {},
   "source": [
    "# 2 short sentences made of separate strings."
   ]
  },
  {
   "cell_type": "code",
   "execution_count": 23,
   "id": "05f1f595",
   "metadata": {},
   "outputs": [
    {
     "data": {
      "text/plain": [
       "'Hello,Bamidele'"
      ]
     },
     "execution_count": 23,
     "metadata": {},
     "output_type": "execute_result"
    }
   ],
   "source": [
    "a ='Hello,'\n",
    "b= 'Bamidele'\n",
    "\n",
    "a+b"
   ]
  },
  {
   "cell_type": "code",
   "execution_count": null,
   "id": "192d29bf",
   "metadata": {},
   "outputs": [],
   "source": []
  }
 ],
 "metadata": {
  "kernelspec": {
   "display_name": "Python 3 (ipykernel)",
   "language": "python",
   "name": "python3"
  },
  "language_info": {
   "codemirror_mode": {
    "name": "ipython",
    "version": 3
   },
   "file_extension": ".py",
   "mimetype": "text/x-python",
   "name": "python",
   "nbconvert_exporter": "python",
   "pygments_lexer": "ipython3",
   "version": "3.11.5"
  }
 },
 "nbformat": 4,
 "nbformat_minor": 5
}
