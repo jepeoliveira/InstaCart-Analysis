{
 "cells": [
  {
   "cell_type": "markdown",
   "id": "5abae369-a983-47a9-b9d0-b6fcf90cfb8c",
   "metadata": {},
   "source": [
    " ### 4.10 TASK PART 1A ###"
   ]
  },
  {
   "cell_type": "markdown",
   "id": "c467a1e0-b8ae-4eff-91f6-75c38014d3a1",
   "metadata": {},
   "source": [
    " ## 1. Import data\r",
    " ## \n",
    "2. Address PII data in the dataframe ## \r\n",
    "3. Regional segmentatio ## n\r\n",
    "4. Exclusion flag for low-activity customizations"
   ]
  },
  {
   "cell_type": "markdown",
   "id": "87985219-c7e3-43be-8c07-56349af57ae2",
   "metadata": {},
   "source": [
    " ## 1. Import data"
   ]
  },
  {
   "cell_type": "markdown",
   "id": "63668340-76c1-402e-a3a7-288f5a72c43a",
   "metadata": {},
   "source": [
    " # Importing Libraries"
   ]
  },
  {
   "cell_type": "code",
   "execution_count": 1,
   "id": "965b4e6a-fd97-4831-84f6-605fd8be9363",
   "metadata": {},
   "outputs": [],
   "source": [
    "import pandas as pd\n",
    "import numpy as np\n",
    "import os\n",
    "import matplotlib.pyplot as plt\n",
    "import seaborn as sns\n",
    "import scipy"
   ]
  },
  {
   "cell_type": "markdown",
   "id": "15e2ce9b-10c1-40c1-b056-2daf3605abdd",
   "metadata": {},
   "source": [
    " # Create path to main folder "
   ]
  },
  {
   "cell_type": "code",
   "execution_count": 3,
   "id": "6e06eb90-5fe1-4383-a7a5-70cec7d37dd4",
   "metadata": {},
   "outputs": [],
   "source": [
    "path = r'C:\\Users\\João Pedro\\MAR-Instacart Basket Analysis'"
   ]
  },
  {
   "cell_type": "code",
   "execution_count": 4,
   "id": "c38f887d-05cd-4114-9a98-076858d9547e",
   "metadata": {},
   "outputs": [
    {
     "data": {
      "text/plain": [
       "'C:\\\\Users\\\\João Pedro\\\\MAR-Instacart Basket Analysis'"
      ]
     },
     "execution_count": 4,
     "metadata": {},
     "output_type": "execute_result"
    }
   ],
   "source": [
    "path"
   ]
  },
  {
   "cell_type": "markdown",
   "id": "5398d5a5-fc3b-4c82-92e3-1e15c3fddddc",
   "metadata": {},
   "source": [
    " # Import data set"
   ]
  },
  {
   "cell_type": "code",
   "execution_count": 7,
   "id": "61717ada-1d0b-4dbd-ac29-5efa68835f36",
   "metadata": {},
   "outputs": [],
   "source": [
    "df = pd.read_pickle(os.path.join(path,'02 Data' ,'Prepared Data' , 'orders_products_merged_derived_2.pkl'))"
   ]
  },
  {
   "cell_type": "markdown",
   "id": "b3557202-e57b-4bbb-8579-8d52057294f2",
   "metadata": {},
   "source": [
    " # Check output"
   ]
  },
  {
   "cell_type": "code",
   "execution_count": 8,
   "id": "1a394da9-842d-4ec3-957e-397cd3842445",
   "metadata": {},
   "outputs": [
    {
     "data": {
      "text/html": [
       "<div>\n",
       "<style scoped>\n",
       "    .dataframe tbody tr th:only-of-type {\n",
       "        vertical-align: middle;\n",
       "    }\n",
       "\n",
       "    .dataframe tbody tr th {\n",
       "        vertical-align: top;\n",
       "    }\n",
       "\n",
       "    .dataframe thead th {\n",
       "        text-align: right;\n",
       "    }\n",
       "</style>\n",
       "<table border=\"1\" class=\"dataframe\">\n",
       "  <thead>\n",
       "    <tr style=\"text-align: right;\">\n",
       "      <th></th>\n",
       "      <th>user_id</th>\n",
       "      <th>product_id</th>\n",
       "      <th>product_name</th>\n",
       "      <th>aisle_id</th>\n",
       "      <th>department_id</th>\n",
       "      <th>prices</th>\n",
       "      <th>order_id</th>\n",
       "      <th>order_number</th>\n",
       "      <th>orders_day_of_week</th>\n",
       "      <th>order_hour_of_day</th>\n",
       "      <th>...</th>\n",
       "      <th>first_name</th>\n",
       "      <th>surname</th>\n",
       "      <th>gender</th>\n",
       "      <th>State</th>\n",
       "      <th>age</th>\n",
       "      <th>date_joined</th>\n",
       "      <th>dependants</th>\n",
       "      <th>family_status</th>\n",
       "      <th>income</th>\n",
       "      <th>exist</th>\n",
       "    </tr>\n",
       "  </thead>\n",
       "  <tbody>\n",
       "    <tr>\n",
       "      <th>0</th>\n",
       "      <td>138</td>\n",
       "      <td>1</td>\n",
       "      <td>Chocolate Sandwich Cookies</td>\n",
       "      <td>61</td>\n",
       "      <td>19</td>\n",
       "      <td>5.8</td>\n",
       "      <td>3139998</td>\n",
       "      <td>28</td>\n",
       "      <td>6</td>\n",
       "      <td>11</td>\n",
       "      <td>...</td>\n",
       "      <td>Charles</td>\n",
       "      <td>Cox</td>\n",
       "      <td>Male</td>\n",
       "      <td>Minnesota</td>\n",
       "      <td>81</td>\n",
       "      <td>2019-08-01</td>\n",
       "      <td>1</td>\n",
       "      <td>married</td>\n",
       "      <td>49620</td>\n",
       "      <td>both</td>\n",
       "    </tr>\n",
       "    <tr>\n",
       "      <th>1</th>\n",
       "      <td>138</td>\n",
       "      <td>1</td>\n",
       "      <td>Chocolate Sandwich Cookies</td>\n",
       "      <td>61</td>\n",
       "      <td>19</td>\n",
       "      <td>5.8</td>\n",
       "      <td>1977647</td>\n",
       "      <td>30</td>\n",
       "      <td>6</td>\n",
       "      <td>17</td>\n",
       "      <td>...</td>\n",
       "      <td>Charles</td>\n",
       "      <td>Cox</td>\n",
       "      <td>Male</td>\n",
       "      <td>Minnesota</td>\n",
       "      <td>81</td>\n",
       "      <td>2019-08-01</td>\n",
       "      <td>1</td>\n",
       "      <td>married</td>\n",
       "      <td>49620</td>\n",
       "      <td>both</td>\n",
       "    </tr>\n",
       "    <tr>\n",
       "      <th>2</th>\n",
       "      <td>138</td>\n",
       "      <td>907</td>\n",
       "      <td>Premium Sliced Bacon</td>\n",
       "      <td>106</td>\n",
       "      <td>12</td>\n",
       "      <td>20.0</td>\n",
       "      <td>3160996</td>\n",
       "      <td>1</td>\n",
       "      <td>5</td>\n",
       "      <td>13</td>\n",
       "      <td>...</td>\n",
       "      <td>Charles</td>\n",
       "      <td>Cox</td>\n",
       "      <td>Male</td>\n",
       "      <td>Minnesota</td>\n",
       "      <td>81</td>\n",
       "      <td>2019-08-01</td>\n",
       "      <td>1</td>\n",
       "      <td>married</td>\n",
       "      <td>49620</td>\n",
       "      <td>both</td>\n",
       "    </tr>\n",
       "    <tr>\n",
       "      <th>3</th>\n",
       "      <td>138</td>\n",
       "      <td>907</td>\n",
       "      <td>Premium Sliced Bacon</td>\n",
       "      <td>106</td>\n",
       "      <td>12</td>\n",
       "      <td>20.0</td>\n",
       "      <td>2254091</td>\n",
       "      <td>10</td>\n",
       "      <td>5</td>\n",
       "      <td>14</td>\n",
       "      <td>...</td>\n",
       "      <td>Charles</td>\n",
       "      <td>Cox</td>\n",
       "      <td>Male</td>\n",
       "      <td>Minnesota</td>\n",
       "      <td>81</td>\n",
       "      <td>2019-08-01</td>\n",
       "      <td>1</td>\n",
       "      <td>married</td>\n",
       "      <td>49620</td>\n",
       "      <td>both</td>\n",
       "    </tr>\n",
       "    <tr>\n",
       "      <th>4</th>\n",
       "      <td>138</td>\n",
       "      <td>1000</td>\n",
       "      <td>Apricots</td>\n",
       "      <td>18</td>\n",
       "      <td>10</td>\n",
       "      <td>12.9</td>\n",
       "      <td>505689</td>\n",
       "      <td>9</td>\n",
       "      <td>6</td>\n",
       "      <td>12</td>\n",
       "      <td>...</td>\n",
       "      <td>Charles</td>\n",
       "      <td>Cox</td>\n",
       "      <td>Male</td>\n",
       "      <td>Minnesota</td>\n",
       "      <td>81</td>\n",
       "      <td>2019-08-01</td>\n",
       "      <td>1</td>\n",
       "      <td>married</td>\n",
       "      <td>49620</td>\n",
       "      <td>both</td>\n",
       "    </tr>\n",
       "  </tbody>\n",
       "</table>\n",
       "<p>5 rows × 35 columns</p>\n",
       "</div>"
      ],
      "text/plain": [
       "   user_id  product_id                product_name  aisle_id  department_id  \\\n",
       "0      138           1  Chocolate Sandwich Cookies        61             19   \n",
       "1      138           1  Chocolate Sandwich Cookies        61             19   \n",
       "2      138         907        Premium Sliced Bacon       106             12   \n",
       "3      138         907        Premium Sliced Bacon       106             12   \n",
       "4      138        1000                    Apricots        18             10   \n",
       "\n",
       "   prices  order_id  order_number  orders_day_of_week  order_hour_of_day  ...  \\\n",
       "0     5.8   3139998            28                   6                 11  ...   \n",
       "1     5.8   1977647            30                   6                 17  ...   \n",
       "2    20.0   3160996             1                   5                 13  ...   \n",
       "3    20.0   2254091            10                   5                 14  ...   \n",
       "4    12.9    505689             9                   6                 12  ...   \n",
       "\n",
       "   first_name  surname  gender      State age date_joined dependants  \\\n",
       "0     Charles      Cox    Male  Minnesota  81  2019-08-01          1   \n",
       "1     Charles      Cox    Male  Minnesota  81  2019-08-01          1   \n",
       "2     Charles      Cox    Male  Minnesota  81  2019-08-01          1   \n",
       "3     Charles      Cox    Male  Minnesota  81  2019-08-01          1   \n",
       "4     Charles      Cox    Male  Minnesota  81  2019-08-01          1   \n",
       "\n",
       "  family_status income  exist  \n",
       "0       married  49620   both  \n",
       "1       married  49620   both  \n",
       "2       married  49620   both  \n",
       "3       married  49620   both  \n",
       "4       married  49620   both  \n",
       "\n",
       "[5 rows x 35 columns]"
      ]
     },
     "execution_count": 8,
     "metadata": {},
     "output_type": "execute_result"
    }
   ],
   "source": [
    "df.head()"
   ]
  },
  {
   "cell_type": "code",
   "execution_count": 9,
   "id": "2d918771-d42f-4654-8d7f-5e1f3af2b0be",
   "metadata": {},
   "outputs": [
    {
     "data": {
      "text/plain": [
       "(32404859, 35)"
      ]
     },
     "execution_count": 9,
     "metadata": {},
     "output_type": "execute_result"
    }
   ],
   "source": [
    "df.shape"
   ]
  },
  {
   "cell_type": "markdown",
   "id": "b9714b2d-9e01-47db-b0f1-ea8de6af4b20",
   "metadata": {},
   "source": [
    " ## 2. Address PII data in the dataframe"
   ]
  },
  {
   "cell_type": "markdown",
   "id": "fe9f0aec-23e9-4661-ae99-e628c29422f3",
   "metadata": {},
   "source": [
    "# The dataset contains what are commonly referred to as personally identifiable information (PII), which can be linked back to an individual. In order to safeguard data privacy, columns containing customers' first names and surnames have been omitted from this dataset. #"
   ]
  },
  {
   "cell_type": "markdown",
   "id": "7138dd65-2e27-4dc1-881f-7b3bf3d13314",
   "metadata": {},
   "source": [
    "# Drop columns 'first_name' & 'surname' "
   ]
  },
  {
   "cell_type": "code",
   "execution_count": 10,
   "id": "86ca59c4-df84-4055-b0aa-4eeeed997bb8",
   "metadata": {},
   "outputs": [],
   "source": [
    "df = df.drop(columns = ['first_name', 'surname'])"
   ]
  },
  {
   "cell_type": "markdown",
   "id": "4f28add9-e689-446b-b082-60d7fe499448",
   "metadata": {},
   "source": [
    "# Check output"
   ]
  },
  {
   "cell_type": "code",
   "execution_count": 13,
   "id": "78460b1a-5571-48eb-b30b-fc56f30da92d",
   "metadata": {},
   "outputs": [
    {
     "data": {
      "text/html": [
       "<div>\n",
       "<style scoped>\n",
       "    .dataframe tbody tr th:only-of-type {\n",
       "        vertical-align: middle;\n",
       "    }\n",
       "\n",
       "    .dataframe tbody tr th {\n",
       "        vertical-align: top;\n",
       "    }\n",
       "\n",
       "    .dataframe thead th {\n",
       "        text-align: right;\n",
       "    }\n",
       "</style>\n",
       "<table border=\"1\" class=\"dataframe\">\n",
       "  <thead>\n",
       "    <tr style=\"text-align: right;\">\n",
       "      <th></th>\n",
       "      <th>user_id</th>\n",
       "      <th>product_id</th>\n",
       "      <th>product_name</th>\n",
       "      <th>aisle_id</th>\n",
       "      <th>department_id</th>\n",
       "      <th>prices</th>\n",
       "      <th>order_id</th>\n",
       "      <th>order_number</th>\n",
       "      <th>orders_day_of_week</th>\n",
       "      <th>order_hour_of_day</th>\n",
       "      <th>...</th>\n",
       "      <th>median_days_between_orders</th>\n",
       "      <th>order_frequency</th>\n",
       "      <th>gender</th>\n",
       "      <th>State</th>\n",
       "      <th>age</th>\n",
       "      <th>date_joined</th>\n",
       "      <th>dependants</th>\n",
       "      <th>family_status</th>\n",
       "      <th>income</th>\n",
       "      <th>exist</th>\n",
       "    </tr>\n",
       "  </thead>\n",
       "  <tbody>\n",
       "    <tr>\n",
       "      <th>0</th>\n",
       "      <td>138</td>\n",
       "      <td>1</td>\n",
       "      <td>Chocolate Sandwich Cookies</td>\n",
       "      <td>61</td>\n",
       "      <td>19</td>\n",
       "      <td>5.8</td>\n",
       "      <td>3139998</td>\n",
       "      <td>28</td>\n",
       "      <td>6</td>\n",
       "      <td>11</td>\n",
       "      <td>...</td>\n",
       "      <td>8.0</td>\n",
       "      <td>Frequent customer</td>\n",
       "      <td>Male</td>\n",
       "      <td>Minnesota</td>\n",
       "      <td>81</td>\n",
       "      <td>2019-08-01</td>\n",
       "      <td>1</td>\n",
       "      <td>married</td>\n",
       "      <td>49620</td>\n",
       "      <td>both</td>\n",
       "    </tr>\n",
       "    <tr>\n",
       "      <th>1</th>\n",
       "      <td>138</td>\n",
       "      <td>1</td>\n",
       "      <td>Chocolate Sandwich Cookies</td>\n",
       "      <td>61</td>\n",
       "      <td>19</td>\n",
       "      <td>5.8</td>\n",
       "      <td>1977647</td>\n",
       "      <td>30</td>\n",
       "      <td>6</td>\n",
       "      <td>17</td>\n",
       "      <td>...</td>\n",
       "      <td>8.0</td>\n",
       "      <td>Frequent customer</td>\n",
       "      <td>Male</td>\n",
       "      <td>Minnesota</td>\n",
       "      <td>81</td>\n",
       "      <td>2019-08-01</td>\n",
       "      <td>1</td>\n",
       "      <td>married</td>\n",
       "      <td>49620</td>\n",
       "      <td>both</td>\n",
       "    </tr>\n",
       "    <tr>\n",
       "      <th>2</th>\n",
       "      <td>138</td>\n",
       "      <td>907</td>\n",
       "      <td>Premium Sliced Bacon</td>\n",
       "      <td>106</td>\n",
       "      <td>12</td>\n",
       "      <td>20.0</td>\n",
       "      <td>3160996</td>\n",
       "      <td>1</td>\n",
       "      <td>5</td>\n",
       "      <td>13</td>\n",
       "      <td>...</td>\n",
       "      <td>8.0</td>\n",
       "      <td>Frequent customer</td>\n",
       "      <td>Male</td>\n",
       "      <td>Minnesota</td>\n",
       "      <td>81</td>\n",
       "      <td>2019-08-01</td>\n",
       "      <td>1</td>\n",
       "      <td>married</td>\n",
       "      <td>49620</td>\n",
       "      <td>both</td>\n",
       "    </tr>\n",
       "    <tr>\n",
       "      <th>3</th>\n",
       "      <td>138</td>\n",
       "      <td>907</td>\n",
       "      <td>Premium Sliced Bacon</td>\n",
       "      <td>106</td>\n",
       "      <td>12</td>\n",
       "      <td>20.0</td>\n",
       "      <td>2254091</td>\n",
       "      <td>10</td>\n",
       "      <td>5</td>\n",
       "      <td>14</td>\n",
       "      <td>...</td>\n",
       "      <td>8.0</td>\n",
       "      <td>Frequent customer</td>\n",
       "      <td>Male</td>\n",
       "      <td>Minnesota</td>\n",
       "      <td>81</td>\n",
       "      <td>2019-08-01</td>\n",
       "      <td>1</td>\n",
       "      <td>married</td>\n",
       "      <td>49620</td>\n",
       "      <td>both</td>\n",
       "    </tr>\n",
       "    <tr>\n",
       "      <th>4</th>\n",
       "      <td>138</td>\n",
       "      <td>1000</td>\n",
       "      <td>Apricots</td>\n",
       "      <td>18</td>\n",
       "      <td>10</td>\n",
       "      <td>12.9</td>\n",
       "      <td>505689</td>\n",
       "      <td>9</td>\n",
       "      <td>6</td>\n",
       "      <td>12</td>\n",
       "      <td>...</td>\n",
       "      <td>8.0</td>\n",
       "      <td>Frequent customer</td>\n",
       "      <td>Male</td>\n",
       "      <td>Minnesota</td>\n",
       "      <td>81</td>\n",
       "      <td>2019-08-01</td>\n",
       "      <td>1</td>\n",
       "      <td>married</td>\n",
       "      <td>49620</td>\n",
       "      <td>both</td>\n",
       "    </tr>\n",
       "  </tbody>\n",
       "</table>\n",
       "<p>5 rows × 33 columns</p>\n",
       "</div>"
      ],
      "text/plain": [
       "   user_id  product_id                product_name  aisle_id  department_id  \\\n",
       "0      138           1  Chocolate Sandwich Cookies        61             19   \n",
       "1      138           1  Chocolate Sandwich Cookies        61             19   \n",
       "2      138         907        Premium Sliced Bacon       106             12   \n",
       "3      138         907        Premium Sliced Bacon       106             12   \n",
       "4      138        1000                    Apricots        18             10   \n",
       "\n",
       "   prices  order_id  order_number  orders_day_of_week  order_hour_of_day  ...  \\\n",
       "0     5.8   3139998            28                   6                 11  ...   \n",
       "1     5.8   1977647            30                   6                 17  ...   \n",
       "2    20.0   3160996             1                   5                 13  ...   \n",
       "3    20.0   2254091            10                   5                 14  ...   \n",
       "4    12.9    505689             9                   6                 12  ...   \n",
       "\n",
       "   median_days_between_orders    order_frequency  gender      State age  \\\n",
       "0                         8.0  Frequent customer    Male  Minnesota  81   \n",
       "1                         8.0  Frequent customer    Male  Minnesota  81   \n",
       "2                         8.0  Frequent customer    Male  Minnesota  81   \n",
       "3                         8.0  Frequent customer    Male  Minnesota  81   \n",
       "4                         8.0  Frequent customer    Male  Minnesota  81   \n",
       "\n",
       "  date_joined dependants family_status income  exist  \n",
       "0  2019-08-01          1       married  49620   both  \n",
       "1  2019-08-01          1       married  49620   both  \n",
       "2  2019-08-01          1       married  49620   both  \n",
       "3  2019-08-01          1       married  49620   both  \n",
       "4  2019-08-01          1       married  49620   both  \n",
       "\n",
       "[5 rows x 33 columns]"
      ]
     },
     "execution_count": 13,
     "metadata": {},
     "output_type": "execute_result"
    }
   ],
   "source": [
    "df.head()"
   ]
  },
  {
   "cell_type": "code",
   "execution_count": 12,
   "id": "7c600a4a-c63b-4d79-9c44-79a30edd8d69",
   "metadata": {},
   "outputs": [
    {
     "data": {
      "text/plain": [
       "(32404859, 33)"
      ]
     },
     "execution_count": 12,
     "metadata": {},
     "output_type": "execute_result"
    }
   ],
   "source": [
    "df.shape"
   ]
  },
  {
   "cell_type": "markdown",
   "id": "92c6a2a5-0ccf-4505-a99b-6a79d1470464",
   "metadata": {},
   "source": [
    " ## 3. Regional segmentation"
   ]
  },
  {
   "cell_type": "markdown",
   "id": "dce1b90b-74b0-4b26-97b0-9f2a2c570885",
   "metadata": {},
   "source": [
    "  # Create 'region' column based on 'state' column "
   ]
  },
  {
   "cell_type": "code",
   "execution_count": 17,
   "id": "ce0c40db-a360-442b-a645-bf51e05fe661",
   "metadata": {},
   "outputs": [],
   "source": [
    "result = []\n",
    "\n",
    "for value in df[\"State\"]:\n",
    "    if value in ['Maine', 'New Hampshire' , 'Vermont' , 'Massachusetts' , 'Rhode Island' , 'Connecticut' , 'New York' , 'Pennsylvania' , 'New Jersey']:\n",
    "        result.append(\"Northeast\")\n",
    "    elif value in ['Wisconsin' , 'Michigan' , 'Illinois' , 'Indiana' , 'Ohio' , 'North Dakota' , 'South Dakota' , 'Nebraska' , 'Kansas' , 'Minnesota' , \n",
    "               'Iowa' , 'Missouri']:\n",
    "        result.append(\"Midwest\")\n",
    "    elif value in ['Delaware' , 'Maryland' , 'District of Columbia' , 'Virginia' , 'West Virginia' , 'North Carolina' , 'South Carolina' , 'Georgia' ,\n",
    "               'Florida' , 'Kentucky' , 'Tennessee' , 'Mississippi' , 'Alabama' , 'Oklahoma' , 'Texas' , 'Arkansas' , 'Louisiana']:\n",
    "        result.append(\"South\")\n",
    "    else:\n",
    "        result.append(\"West\")\n"
   ]
  },
  {
   "cell_type": "code",
   "execution_count": 18,
   "id": "95a74d3e-ddb8-43f6-abe5-d78a25f6125f",
   "metadata": {},
   "outputs": [],
   "source": [
    "df['region'] = result"
   ]
  },
  {
   "cell_type": "markdown",
   "id": "f4bd2418-7374-4de7-ab82-16fc23fb4fc2",
   "metadata": {},
   "source": [
    " # Check output "
   ]
  },
  {
   "cell_type": "code",
   "execution_count": 19,
   "id": "c0e23520-9628-4de3-a95e-94d513207cec",
   "metadata": {},
   "outputs": [
    {
     "data": {
      "text/html": [
       "<div>\n",
       "<style scoped>\n",
       "    .dataframe tbody tr th:only-of-type {\n",
       "        vertical-align: middle;\n",
       "    }\n",
       "\n",
       "    .dataframe tbody tr th {\n",
       "        vertical-align: top;\n",
       "    }\n",
       "\n",
       "    .dataframe thead th {\n",
       "        text-align: right;\n",
       "    }\n",
       "</style>\n",
       "<table border=\"1\" class=\"dataframe\">\n",
       "  <thead>\n",
       "    <tr style=\"text-align: right;\">\n",
       "      <th></th>\n",
       "      <th>user_id</th>\n",
       "      <th>product_id</th>\n",
       "      <th>product_name</th>\n",
       "      <th>aisle_id</th>\n",
       "      <th>department_id</th>\n",
       "      <th>prices</th>\n",
       "      <th>order_id</th>\n",
       "      <th>order_number</th>\n",
       "      <th>orders_day_of_week</th>\n",
       "      <th>order_hour_of_day</th>\n",
       "      <th>...</th>\n",
       "      <th>order_frequency</th>\n",
       "      <th>gender</th>\n",
       "      <th>State</th>\n",
       "      <th>age</th>\n",
       "      <th>date_joined</th>\n",
       "      <th>dependants</th>\n",
       "      <th>family_status</th>\n",
       "      <th>income</th>\n",
       "      <th>exist</th>\n",
       "      <th>region</th>\n",
       "    </tr>\n",
       "  </thead>\n",
       "  <tbody>\n",
       "    <tr>\n",
       "      <th>0</th>\n",
       "      <td>138</td>\n",
       "      <td>1</td>\n",
       "      <td>Chocolate Sandwich Cookies</td>\n",
       "      <td>61</td>\n",
       "      <td>19</td>\n",
       "      <td>5.8</td>\n",
       "      <td>3139998</td>\n",
       "      <td>28</td>\n",
       "      <td>6</td>\n",
       "      <td>11</td>\n",
       "      <td>...</td>\n",
       "      <td>Frequent customer</td>\n",
       "      <td>Male</td>\n",
       "      <td>Minnesota</td>\n",
       "      <td>81</td>\n",
       "      <td>2019-08-01</td>\n",
       "      <td>1</td>\n",
       "      <td>married</td>\n",
       "      <td>49620</td>\n",
       "      <td>both</td>\n",
       "      <td>Midwest</td>\n",
       "    </tr>\n",
       "    <tr>\n",
       "      <th>1</th>\n",
       "      <td>138</td>\n",
       "      <td>1</td>\n",
       "      <td>Chocolate Sandwich Cookies</td>\n",
       "      <td>61</td>\n",
       "      <td>19</td>\n",
       "      <td>5.8</td>\n",
       "      <td>1977647</td>\n",
       "      <td>30</td>\n",
       "      <td>6</td>\n",
       "      <td>17</td>\n",
       "      <td>...</td>\n",
       "      <td>Frequent customer</td>\n",
       "      <td>Male</td>\n",
       "      <td>Minnesota</td>\n",
       "      <td>81</td>\n",
       "      <td>2019-08-01</td>\n",
       "      <td>1</td>\n",
       "      <td>married</td>\n",
       "      <td>49620</td>\n",
       "      <td>both</td>\n",
       "      <td>Midwest</td>\n",
       "    </tr>\n",
       "    <tr>\n",
       "      <th>2</th>\n",
       "      <td>138</td>\n",
       "      <td>907</td>\n",
       "      <td>Premium Sliced Bacon</td>\n",
       "      <td>106</td>\n",
       "      <td>12</td>\n",
       "      <td>20.0</td>\n",
       "      <td>3160996</td>\n",
       "      <td>1</td>\n",
       "      <td>5</td>\n",
       "      <td>13</td>\n",
       "      <td>...</td>\n",
       "      <td>Frequent customer</td>\n",
       "      <td>Male</td>\n",
       "      <td>Minnesota</td>\n",
       "      <td>81</td>\n",
       "      <td>2019-08-01</td>\n",
       "      <td>1</td>\n",
       "      <td>married</td>\n",
       "      <td>49620</td>\n",
       "      <td>both</td>\n",
       "      <td>Midwest</td>\n",
       "    </tr>\n",
       "    <tr>\n",
       "      <th>3</th>\n",
       "      <td>138</td>\n",
       "      <td>907</td>\n",
       "      <td>Premium Sliced Bacon</td>\n",
       "      <td>106</td>\n",
       "      <td>12</td>\n",
       "      <td>20.0</td>\n",
       "      <td>2254091</td>\n",
       "      <td>10</td>\n",
       "      <td>5</td>\n",
       "      <td>14</td>\n",
       "      <td>...</td>\n",
       "      <td>Frequent customer</td>\n",
       "      <td>Male</td>\n",
       "      <td>Minnesota</td>\n",
       "      <td>81</td>\n",
       "      <td>2019-08-01</td>\n",
       "      <td>1</td>\n",
       "      <td>married</td>\n",
       "      <td>49620</td>\n",
       "      <td>both</td>\n",
       "      <td>Midwest</td>\n",
       "    </tr>\n",
       "    <tr>\n",
       "      <th>4</th>\n",
       "      <td>138</td>\n",
       "      <td>1000</td>\n",
       "      <td>Apricots</td>\n",
       "      <td>18</td>\n",
       "      <td>10</td>\n",
       "      <td>12.9</td>\n",
       "      <td>505689</td>\n",
       "      <td>9</td>\n",
       "      <td>6</td>\n",
       "      <td>12</td>\n",
       "      <td>...</td>\n",
       "      <td>Frequent customer</td>\n",
       "      <td>Male</td>\n",
       "      <td>Minnesota</td>\n",
       "      <td>81</td>\n",
       "      <td>2019-08-01</td>\n",
       "      <td>1</td>\n",
       "      <td>married</td>\n",
       "      <td>49620</td>\n",
       "      <td>both</td>\n",
       "      <td>Midwest</td>\n",
       "    </tr>\n",
       "  </tbody>\n",
       "</table>\n",
       "<p>5 rows × 34 columns</p>\n",
       "</div>"
      ],
      "text/plain": [
       "   user_id  product_id                product_name  aisle_id  department_id  \\\n",
       "0      138           1  Chocolate Sandwich Cookies        61             19   \n",
       "1      138           1  Chocolate Sandwich Cookies        61             19   \n",
       "2      138         907        Premium Sliced Bacon       106             12   \n",
       "3      138         907        Premium Sliced Bacon       106             12   \n",
       "4      138        1000                    Apricots        18             10   \n",
       "\n",
       "   prices  order_id  order_number  orders_day_of_week  order_hour_of_day  ...  \\\n",
       "0     5.8   3139998            28                   6                 11  ...   \n",
       "1     5.8   1977647            30                   6                 17  ...   \n",
       "2    20.0   3160996             1                   5                 13  ...   \n",
       "3    20.0   2254091            10                   5                 14  ...   \n",
       "4    12.9    505689             9                   6                 12  ...   \n",
       "\n",
       "     order_frequency  gender      State  age date_joined dependants  \\\n",
       "0  Frequent customer    Male  Minnesota   81  2019-08-01          1   \n",
       "1  Frequent customer    Male  Minnesota   81  2019-08-01          1   \n",
       "2  Frequent customer    Male  Minnesota   81  2019-08-01          1   \n",
       "3  Frequent customer    Male  Minnesota   81  2019-08-01          1   \n",
       "4  Frequent customer    Male  Minnesota   81  2019-08-01          1   \n",
       "\n",
       "  family_status income exist   region  \n",
       "0       married  49620  both  Midwest  \n",
       "1       married  49620  both  Midwest  \n",
       "2       married  49620  both  Midwest  \n",
       "3       married  49620  both  Midwest  \n",
       "4       married  49620  both  Midwest  \n",
       "\n",
       "[5 rows x 34 columns]"
      ]
     },
     "execution_count": 19,
     "metadata": {},
     "output_type": "execute_result"
    }
   ],
   "source": [
    "df.head()"
   ]
  },
  {
   "cell_type": "markdown",
   "id": "69285efb-5c11-48e6-9a1b-330809581109",
   "metadata": {},
   "source": [
    " # Determine whether there’s a difference in spending habits between the different U.S. region"
   ]
  },
  {
   "cell_type": "markdown",
   "id": "11edd98d-c7d7-48fc-8eb6-238856c4598d",
   "metadata": {},
   "source": [
    "# Checking habits across the regions"
   ]
  },
  {
   "cell_type": "markdown",
   "id": "e1d62933-df9e-4751-a89c-48fcdb5c23e1",
   "metadata": {},
   "source": [
    " # Create a table that holds the absolute numbers of customers in each region "
   ]
  },
  {
   "cell_type": "code",
   "execution_count": 20,
   "id": "1e50f52e-1178-4ea3-9bf2-c16381be9306",
   "metadata": {},
   "outputs": [],
   "source": [
    "crosstab = pd.crosstab(df['region'], df['spending_flag'], dropna = False)"
   ]
  },
  {
   "cell_type": "code",
   "execution_count": 21,
   "id": "77d489d1-c747-480c-9f5a-b10f23d89764",
   "metadata": {},
   "outputs": [
    {
     "data": {
      "text/html": [
       "<div>\n",
       "<style scoped>\n",
       "    .dataframe tbody tr th:only-of-type {\n",
       "        vertical-align: middle;\n",
       "    }\n",
       "\n",
       "    .dataframe tbody tr th {\n",
       "        vertical-align: top;\n",
       "    }\n",
       "\n",
       "    .dataframe thead th {\n",
       "        text-align: right;\n",
       "    }\n",
       "</style>\n",
       "<table border=\"1\" class=\"dataframe\">\n",
       "  <thead>\n",
       "    <tr style=\"text-align: right;\">\n",
       "      <th>spending_flag</th>\n",
       "      <th>High spender</th>\n",
       "      <th>Low spender</th>\n",
       "    </tr>\n",
       "    <tr>\n",
       "      <th>region</th>\n",
       "      <th></th>\n",
       "      <th></th>\n",
       "    </tr>\n",
       "  </thead>\n",
       "  <tbody>\n",
       "    <tr>\n",
       "      <th>Midwest</th>\n",
       "      <td>155975</td>\n",
       "      <td>7441350</td>\n",
       "    </tr>\n",
       "    <tr>\n",
       "      <th>Northeast</th>\n",
       "      <td>108225</td>\n",
       "      <td>5614511</td>\n",
       "    </tr>\n",
       "    <tr>\n",
       "      <th>South</th>\n",
       "      <td>209691</td>\n",
       "      <td>10582194</td>\n",
       "    </tr>\n",
       "    <tr>\n",
       "      <th>West</th>\n",
       "      <td>160354</td>\n",
       "      <td>8132559</td>\n",
       "    </tr>\n",
       "  </tbody>\n",
       "</table>\n",
       "</div>"
      ],
      "text/plain": [
       "spending_flag  High spender  Low spender\n",
       "region                                  \n",
       "Midwest              155975      7441350\n",
       "Northeast            108225      5614511\n",
       "South                209691     10582194\n",
       "West                 160354      8132559"
      ]
     },
     "execution_count": 21,
     "metadata": {},
     "output_type": "execute_result"
    }
   ],
   "source": [
    "crosstab"
   ]
  },
  {
   "cell_type": "markdown",
   "id": "7c8d4929-200c-4e6d-a25a-c0c146302f00",
   "metadata": {},
   "source": [
    " # crosstab that displays spending habit as percentage of region total"
   ]
  },
  {
   "cell_type": "code",
   "execution_count": 22,
   "id": "01d31fac-3e7f-4b1c-a046-2cd02cc8ef0e",
   "metadata": {},
   "outputs": [],
   "source": [
    "crosstab_percentage = pd.crosstab(df['region'], df['spending_flag'], normalize = 'index')"
   ]
  },
  {
   "cell_type": "code",
   "execution_count": 23,
   "id": "fd1b45d5-a715-4085-b1f5-0e98ae5d1571",
   "metadata": {},
   "outputs": [
    {
     "data": {
      "text/html": [
       "<div>\n",
       "<style scoped>\n",
       "    .dataframe tbody tr th:only-of-type {\n",
       "        vertical-align: middle;\n",
       "    }\n",
       "\n",
       "    .dataframe tbody tr th {\n",
       "        vertical-align: top;\n",
       "    }\n",
       "\n",
       "    .dataframe thead th {\n",
       "        text-align: right;\n",
       "    }\n",
       "</style>\n",
       "<table border=\"1\" class=\"dataframe\">\n",
       "  <thead>\n",
       "    <tr style=\"text-align: right;\">\n",
       "      <th>spending_flag</th>\n",
       "      <th>High spender</th>\n",
       "      <th>Low spender</th>\n",
       "    </tr>\n",
       "    <tr>\n",
       "      <th>region</th>\n",
       "      <th></th>\n",
       "      <th></th>\n",
       "    </tr>\n",
       "  </thead>\n",
       "  <tbody>\n",
       "    <tr>\n",
       "      <th>Midwest</th>\n",
       "      <td>0.020530</td>\n",
       "      <td>0.979470</td>\n",
       "    </tr>\n",
       "    <tr>\n",
       "      <th>Northeast</th>\n",
       "      <td>0.018911</td>\n",
       "      <td>0.981089</td>\n",
       "    </tr>\n",
       "    <tr>\n",
       "      <th>South</th>\n",
       "      <td>0.019430</td>\n",
       "      <td>0.980570</td>\n",
       "    </tr>\n",
       "    <tr>\n",
       "      <th>West</th>\n",
       "      <td>0.019336</td>\n",
       "      <td>0.980664</td>\n",
       "    </tr>\n",
       "  </tbody>\n",
       "</table>\n",
       "</div>"
      ],
      "text/plain": [
       "spending_flag  High spender  Low spender\n",
       "region                                  \n",
       "Midwest            0.020530     0.979470\n",
       "Northeast          0.018911     0.981089\n",
       "South              0.019430     0.980570\n",
       "West               0.019336     0.980664"
      ]
     },
     "execution_count": 23,
     "metadata": {},
     "output_type": "execute_result"
    }
   ],
   "source": [
    "crosstab_percentage"
   ]
  },
  {
   "cell_type": "markdown",
   "id": "1e7211eb-cd49-4c6f-a510-dee547f30e54",
   "metadata": {},
   "source": [
    "# crosstab that displays proportion of spending  habit of each spender as percentage of total spending habit at Instacart"
   ]
  },
  {
   "cell_type": "code",
   "execution_count": 24,
   "id": "bdb8d963-3381-478f-b411-d6585b143221",
   "metadata": {},
   "outputs": [],
   "source": [
    "crosstab_spenders = pd.crosstab(df['region'], df['spending_flag'], normalize = 'columns')"
   ]
  },
  {
   "cell_type": "code",
   "execution_count": 25,
   "id": "8abe1dd4-3cef-4fcb-97aa-e004b421bc35",
   "metadata": {},
   "outputs": [
    {
     "data": {
      "text/html": [
       "<div>\n",
       "<style scoped>\n",
       "    .dataframe tbody tr th:only-of-type {\n",
       "        vertical-align: middle;\n",
       "    }\n",
       "\n",
       "    .dataframe tbody tr th {\n",
       "        vertical-align: top;\n",
       "    }\n",
       "\n",
       "    .dataframe thead th {\n",
       "        text-align: right;\n",
       "    }\n",
       "</style>\n",
       "<table border=\"1\" class=\"dataframe\">\n",
       "  <thead>\n",
       "    <tr style=\"text-align: right;\">\n",
       "      <th>spending_flag</th>\n",
       "      <th>High spender</th>\n",
       "      <th>Low spender</th>\n",
       "    </tr>\n",
       "    <tr>\n",
       "      <th>region</th>\n",
       "      <th></th>\n",
       "      <th></th>\n",
       "    </tr>\n",
       "  </thead>\n",
       "  <tbody>\n",
       "    <tr>\n",
       "      <th>Midwest</th>\n",
       "      <td>0.245922</td>\n",
       "      <td>0.234221</td>\n",
       "    </tr>\n",
       "    <tr>\n",
       "      <th>Northeast</th>\n",
       "      <td>0.170636</td>\n",
       "      <td>0.176720</td>\n",
       "    </tr>\n",
       "    <tr>\n",
       "      <th>South</th>\n",
       "      <td>0.330615</td>\n",
       "      <td>0.333081</td>\n",
       "    </tr>\n",
       "    <tr>\n",
       "      <th>West</th>\n",
       "      <td>0.252827</td>\n",
       "      <td>0.255977</td>\n",
       "    </tr>\n",
       "  </tbody>\n",
       "</table>\n",
       "</div>"
      ],
      "text/plain": [
       "spending_flag  High spender  Low spender\n",
       "region                                  \n",
       "Midwest            0.245922     0.234221\n",
       "Northeast          0.170636     0.176720\n",
       "South              0.330615     0.333081\n",
       "West               0.252827     0.255977"
      ]
     },
     "execution_count": 25,
     "metadata": {},
     "output_type": "execute_result"
    }
   ],
   "source": [
    "crosstab_spenders"
   ]
  },
  {
   "cell_type": "markdown",
   "id": "977b0000-9650-4e84-8f58-5f8be5bec71c",
   "metadata": {},
   "source": [
    "# The findings suggest that although the ratio of high spenders to low spenders remains consistent across regions, at approximately 98% to 2%, there are variations in regional proportions when analyzed by spending category. Specifically, 33% of high spenders are located in the South region, followed by the West, Midwest, and Northeast regions in descending order. This distribution pattern is mirrored in the low spending category. #"
   ]
  },
  {
   "cell_type": "markdown",
   "id": "8a88f8f3-7915-4647-af5a-71384e557488",
   "metadata": {},
   "source": [
    "# Checking the distribution of brand loyalty across regions bh"
   ]
  },
  {
   "cell_type": "code",
   "execution_count": 26,
   "id": "152e28f6-3baa-4a12-a1a4-6a4536380cce",
   "metadata": {},
   "outputs": [],
   "source": [
    "loyalty_region = pd.crosstab(df['region'], df['loyalty_flag'], normalize = 'columns')"
   ]
  },
  {
   "cell_type": "markdown",
   "id": "25c39aff-5add-4cd2-a6f4-e8fe5a06a0ba",
   "metadata": {},
   "source": [
    "# check output "
   ]
  },
  {
   "cell_type": "code",
   "execution_count": 27,
   "id": "48ba2ce2-190a-4f04-aaf0-dee205010b92",
   "metadata": {},
   "outputs": [
    {
     "data": {
      "text/html": [
       "<div>\n",
       "<style scoped>\n",
       "    .dataframe tbody tr th:only-of-type {\n",
       "        vertical-align: middle;\n",
       "    }\n",
       "\n",
       "    .dataframe tbody tr th {\n",
       "        vertical-align: top;\n",
       "    }\n",
       "\n",
       "    .dataframe thead th {\n",
       "        text-align: right;\n",
       "    }\n",
       "</style>\n",
       "<table border=\"1\" class=\"dataframe\">\n",
       "  <thead>\n",
       "    <tr style=\"text-align: right;\">\n",
       "      <th>loyalty_flag</th>\n",
       "      <th>Loyal customer</th>\n",
       "      <th>New customer</th>\n",
       "      <th>Regular customer</th>\n",
       "    </tr>\n",
       "    <tr>\n",
       "      <th>region</th>\n",
       "      <th></th>\n",
       "      <th></th>\n",
       "      <th></th>\n",
       "    </tr>\n",
       "  </thead>\n",
       "  <tbody>\n",
       "    <tr>\n",
       "      <th>Midwest</th>\n",
       "      <td>0.230820</td>\n",
       "      <td>0.235838</td>\n",
       "      <td>0.236256</td>\n",
       "    </tr>\n",
       "    <tr>\n",
       "      <th>Northeast</th>\n",
       "      <td>0.179091</td>\n",
       "      <td>0.176203</td>\n",
       "      <td>0.175145</td>\n",
       "    </tr>\n",
       "    <tr>\n",
       "      <th>South</th>\n",
       "      <td>0.331176</td>\n",
       "      <td>0.332225</td>\n",
       "      <td>0.334554</td>\n",
       "    </tr>\n",
       "    <tr>\n",
       "      <th>West</th>\n",
       "      <td>0.258913</td>\n",
       "      <td>0.255734</td>\n",
       "      <td>0.254045</td>\n",
       "    </tr>\n",
       "  </tbody>\n",
       "</table>\n",
       "</div>"
      ],
      "text/plain": [
       "loyalty_flag  Loyal customer  New customer  Regular customer\n",
       "region                                                      \n",
       "Midwest             0.230820      0.235838          0.236256\n",
       "Northeast           0.179091      0.176203          0.175145\n",
       "South               0.331176      0.332225          0.334554\n",
       "West                0.258913      0.255734          0.254045"
      ]
     },
     "execution_count": 27,
     "metadata": {},
     "output_type": "execute_result"
    }
   ],
   "source": [
    "loyalty_region"
   ]
  },
  {
   "cell_type": "markdown",
   "id": "966a34e5-dced-4c4e-9d66-a7a30ccd9595",
   "metadata": {},
   "source": [
    " ## 4. Exclusion flag for low-activity customers"
   ]
  },
  {
   "cell_type": "markdown",
   "id": "a1576694-a9e8-4502-a294-644cac50f4ee",
   "metadata": {},
   "source": [
    "# Add a column holding exclusion flag"
   ]
  },
  {
   "cell_type": "code",
   "execution_count": 28,
   "id": "f58b6934-710d-456a-9a73-68f82ffbe9da",
   "metadata": {},
   "outputs": [],
   "source": [
    "df.loc[df['order_number'] >= 5, 'exclusion_flag'] = 'high activity'"
   ]
  },
  {
   "cell_type": "code",
   "execution_count": 29,
   "id": "0b9f951f-97bd-4926-b259-13b988dadd62",
   "metadata": {},
   "outputs": [],
   "source": [
    "df.loc[df['order_number'] < 5, 'exclusion_flag'] = 'low activity'"
   ]
  },
  {
   "cell_type": "markdown",
   "id": "e85a494c-4ecd-49a5-84c4-7f2288435055",
   "metadata": {},
   "source": [
    "# Check output "
   ]
  },
  {
   "cell_type": "code",
   "execution_count": 30,
   "id": "523fa0f1-d56e-45c5-b98f-7b25b760cf40",
   "metadata": {},
   "outputs": [
    {
     "data": {
      "text/plain": [
       "exclusion_flag\n",
       "high activity    24414877\n",
       "low activity      7989982\n",
       "Name: count, dtype: int64"
      ]
     },
     "execution_count": 30,
     "metadata": {},
     "output_type": "execute_result"
    }
   ],
   "source": [
    "df['exclusion_flag'].value_counts(dropna = False)"
   ]
  },
  {
   "cell_type": "markdown",
   "id": "5caefc7a-941b-4718-8ada-82898b84a9b2",
   "metadata": {},
   "source": [
    "# Order activity/habits based on region"
   ]
  },
  {
   "cell_type": "code",
   "execution_count": 31,
   "id": "d49d6bd8-5e33-49ee-92ab-58d960854b6f",
   "metadata": {},
   "outputs": [],
   "source": [
    "order_region = pd.crosstab(df['region'], df['exclusion_flag'], normalize = 'index')"
   ]
  },
  {
   "cell_type": "code",
   "execution_count": 33,
   "id": "432cc4a4-ad1b-4b24-aadd-aae1e73db531",
   "metadata": {},
   "outputs": [
    {
     "data": {
      "text/html": [
       "<div>\n",
       "<style scoped>\n",
       "    .dataframe tbody tr th:only-of-type {\n",
       "        vertical-align: middle;\n",
       "    }\n",
       "\n",
       "    .dataframe tbody tr th {\n",
       "        vertical-align: top;\n",
       "    }\n",
       "\n",
       "    .dataframe thead th {\n",
       "        text-align: right;\n",
       "    }\n",
       "</style>\n",
       "<table border=\"1\" class=\"dataframe\">\n",
       "  <thead>\n",
       "    <tr style=\"text-align: right;\">\n",
       "      <th>exclusion_flag</th>\n",
       "      <th>high activity</th>\n",
       "      <th>low activity</th>\n",
       "    </tr>\n",
       "    <tr>\n",
       "      <th>region</th>\n",
       "      <th></th>\n",
       "      <th></th>\n",
       "    </tr>\n",
       "  </thead>\n",
       "  <tbody>\n",
       "    <tr>\n",
       "      <th>Midwest</th>\n",
       "      <td>0.751811</td>\n",
       "      <td>0.248189</td>\n",
       "    </tr>\n",
       "    <tr>\n",
       "      <th>Northeast</th>\n",
       "      <td>0.754057</td>\n",
       "      <td>0.245943</td>\n",
       "    </tr>\n",
       "    <tr>\n",
       "      <th>South</th>\n",
       "      <td>0.753259</td>\n",
       "      <td>0.246741</td>\n",
       "    </tr>\n",
       "    <tr>\n",
       "      <th>West</th>\n",
       "      <td>0.754712</td>\n",
       "      <td>0.245288</td>\n",
       "    </tr>\n",
       "  </tbody>\n",
       "</table>\n",
       "</div>"
      ],
      "text/plain": [
       "exclusion_flag  high activity  low activity\n",
       "region                                     \n",
       "Midwest              0.751811      0.248189\n",
       "Northeast            0.754057      0.245943\n",
       "South                0.753259      0.246741\n",
       "West                 0.754712      0.245288"
      ]
     },
     "execution_count": 33,
     "metadata": {},
     "output_type": "execute_result"
    }
   ],
   "source": [
    "order_region"
   ]
  },
  {
   "cell_type": "markdown",
   "id": "f50102e4-eb18-44b1-935b-2502cbf8a41d",
   "metadata": {},
   "source": [
    " # Regardless of the region, three out of every four customers place orders at least five times. #"
   ]
  },
  {
   "cell_type": "markdown",
   "id": "ccf9cbe5-27d1-432a-8b59-f204e368794e",
   "metadata": {},
   "source": [
    " # order habits/activity based on loyalty "
   ]
  },
  {
   "cell_type": "code",
   "execution_count": 34,
   "id": "3e88071b-1c1f-4383-8652-0887a9889e34",
   "metadata": {},
   "outputs": [],
   "source": [
    "order_habits = pd.crosstab(df['loyalty_flag'], df['exclusion_flag'], normalize = 'index')"
   ]
  },
  {
   "cell_type": "code",
   "execution_count": 35,
   "id": "3b2d6610-1991-4677-87d5-045b991e0897",
   "metadata": {},
   "outputs": [
    {
     "data": {
      "text/html": [
       "<div>\n",
       "<style scoped>\n",
       "    .dataframe tbody tr th:only-of-type {\n",
       "        vertical-align: middle;\n",
       "    }\n",
       "\n",
       "    .dataframe tbody tr th {\n",
       "        vertical-align: top;\n",
       "    }\n",
       "\n",
       "    .dataframe thead th {\n",
       "        text-align: right;\n",
       "    }\n",
       "</style>\n",
       "<table border=\"1\" class=\"dataframe\">\n",
       "  <thead>\n",
       "    <tr style=\"text-align: right;\">\n",
       "      <th>exclusion_flag</th>\n",
       "      <th>high activity</th>\n",
       "      <th>low activity</th>\n",
       "    </tr>\n",
       "    <tr>\n",
       "      <th>loyalty_flag</th>\n",
       "      <th></th>\n",
       "      <th></th>\n",
       "    </tr>\n",
       "  </thead>\n",
       "  <tbody>\n",
       "    <tr>\n",
       "      <th>Loyal customer</th>\n",
       "      <td>0.929153</td>\n",
       "      <td>0.070847</td>\n",
       "    </tr>\n",
       "    <tr>\n",
       "      <th>New customer</th>\n",
       "      <td>0.338698</td>\n",
       "      <td>0.661302</td>\n",
       "    </tr>\n",
       "    <tr>\n",
       "      <th>Regular customer</th>\n",
       "      <td>0.802717</td>\n",
       "      <td>0.197283</td>\n",
       "    </tr>\n",
       "  </tbody>\n",
       "</table>\n",
       "</div>"
      ],
      "text/plain": [
       "exclusion_flag    high activity  low activity\n",
       "loyalty_flag                                 \n",
       "Loyal customer         0.929153      0.070847\n",
       "New customer           0.338698      0.661302\n",
       "Regular customer       0.802717      0.197283"
      ]
     },
     "execution_count": 35,
     "metadata": {},
     "output_type": "execute_result"
    }
   ],
   "source": [
    "order_habits"
   ]
  },
  {
   "cell_type": "markdown",
   "id": "d1c31fa7-db0e-445c-b887-093dfba2f98d",
   "metadata": {},
   "source": [
    "# Most loyal or regular customers are highly active, whereas for new customers, the opposite is understandably true, given their recent introduction to the service.#"
   ]
  },
  {
   "cell_type": "markdown",
   "id": "b3727cec-1d5b-4961-8548-9f67e8f0cc59",
   "metadata": {},
   "source": [
    "# Create dataframe with \"high-activity\" customers"
   ]
  },
  {
   "cell_type": "code",
   "execution_count": 36,
   "id": "cc58e30f-d2f0-4aff-b382-37a7b5721a34",
   "metadata": {},
   "outputs": [],
   "source": [
    "df_2 = df[df['exclusion_flag'] =='high activity']"
   ]
  },
  {
   "cell_type": "markdown",
   "id": "30231b96-455c-4d3e-b3d0-7a30949f52f1",
   "metadata": {},
   "source": [
    "# Check output"
   ]
  },
  {
   "cell_type": "code",
   "execution_count": 37,
   "id": "51fa1642-23d8-4512-8041-cebe430af20b",
   "metadata": {},
   "outputs": [
    {
     "data": {
      "text/plain": [
       "(24414877, 35)"
      ]
     },
     "execution_count": 37,
     "metadata": {},
     "output_type": "execute_result"
    }
   ],
   "source": [
    "df_2.shape"
   ]
  },
  {
   "cell_type": "markdown",
   "id": "75dc4d03-8ba3-48d4-a12d-ad5af0d12b69",
   "metadata": {},
   "source": [
    "# Export the dataframe for next script"
   ]
  },
  {
   "cell_type": "code",
   "execution_count": 38,
   "id": "22654c05-49d8-47b9-9f45-3e80d136140a",
   "metadata": {},
   "outputs": [],
   "source": [
    "df_2.to_pickle(os.path.join(path, '02 Data' , 'Prepared Data' , 'df_part1.pkl' ))"
   ]
  },
  {
   "cell_type": "code",
   "execution_count": null,
   "id": "f04f9df8-dabe-4937-92ee-b811ef1e787d",
   "metadata": {},
   "outputs": [],
   "source": []
  },
  {
   "cell_type": "code",
   "execution_count": null,
   "id": "8a7cd3de-7eb4-433e-afa4-53a653425715",
   "metadata": {},
   "outputs": [],
   "source": []
  },
  {
   "cell_type": "code",
   "execution_count": null,
   "id": "e2373ee3-7e70-4a61-a268-aeb70d3240d2",
   "metadata": {},
   "outputs": [],
   "source": []
  },
  {
   "cell_type": "code",
   "execution_count": null,
   "id": "ddfce14a-5f21-4afa-a7ec-ae838fb1e077",
   "metadata": {},
   "outputs": [],
   "source": []
  },
  {
   "cell_type": "code",
   "execution_count": null,
   "id": "fde495db-ec6f-432b-a420-07a621d7a0b7",
   "metadata": {},
   "outputs": [],
   "source": []
  },
  {
   "cell_type": "code",
   "execution_count": null,
   "id": "92f8d293-89c8-4566-8443-f19059c67b4a",
   "metadata": {},
   "outputs": [],
   "source": []
  },
  {
   "cell_type": "code",
   "execution_count": null,
   "id": "49213d9c-a68c-4d9c-b67e-f05065f70cfd",
   "metadata": {},
   "outputs": [],
   "source": []
  },
  {
   "cell_type": "code",
   "execution_count": null,
   "id": "9b6cf1f6-e7a3-4b24-a189-d32f8a3f33a1",
   "metadata": {},
   "outputs": [],
   "source": []
  },
  {
   "cell_type": "code",
   "execution_count": null,
   "id": "4ef6438a-6a9d-4ac5-ab68-6bbb27534bb6",
   "metadata": {},
   "outputs": [],
   "source": []
  }
 ],
 "metadata": {
  "kernelspec": {
   "display_name": "Python 3 (ipykernel)",
   "language": "python",
   "name": "python3"
  },
  "language_info": {
   "codemirror_mode": {
    "name": "ipython",
    "version": 3
   },
   "file_extension": ".py",
   "mimetype": "text/x-python",
   "name": "python",
   "nbconvert_exporter": "python",
   "pygments_lexer": "ipython3",
   "version": "3.11.7"
  }
 },
 "nbformat": 4,
 "nbformat_minor": 5
}
