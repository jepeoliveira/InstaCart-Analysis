{
 "cells": [
  {
   "cell_type": "markdown",
   "id": "ed1593e1-6edc-4cf1-9fa7-4ee434ee0598",
   "metadata": {},
   "source": [
    "### 4.10 TASK PART 1B ###"
   ]
  },
  {
   "cell_type": "markdown",
   "id": "369bec38-3095-428e-85c5-b7c1ba591d46",
   "metadata": {},
   "source": [
    " ## 5. Customer profiling\n",
    " ## 6. Visualization for distribution of profiles\n",
    " ## 7. Aggregation of customer profiles\n",
    " ## 8. Analysis by regions\n",
    " ## 9. Visualizations"
   ]
  },
  {
   "cell_type": "markdown",
   "id": "833c0ee1-bde5-4553-b77a-2db44bdee809",
   "metadata": {},
   "source": [
    "# Import Libraries"
   ]
  },
  {
   "cell_type": "code",
   "execution_count": 2,
   "id": "9c4420d1-aa1a-4279-bb98-a91e010260ab",
   "metadata": {},
   "outputs": [],
   "source": [
    "import pandas as pd\n",
    "import numpy as np\n",
    "import os\n",
    "import matplotlib.pyplot as plt\n",
    "import seaborn as sns\n",
    "import scipy"
   ]
  },
  {
   "cell_type": "markdown",
   "id": "818f39cf-d3ce-40e2-8c8c-9fe55fbab1d6",
   "metadata": {},
   "source": [
    "# Create path to main folder"
   ]
  },
  {
   "cell_type": "code",
   "execution_count": 3,
   "id": "e1c93ca7-4336-4a6a-a909-17b4ed164886",
   "metadata": {},
   "outputs": [],
   "source": [
    "path = r'C:\\Users\\João Pedro\\MAR-Instacart Basket Analysis'"
   ]
  },
  {
   "cell_type": "code",
   "execution_count": 4,
   "id": "b42d6799-3662-4d87-bca0-698a9addc163",
   "metadata": {},
   "outputs": [
    {
     "data": {
      "text/plain": [
       "'C:\\\\Users\\\\João Pedro\\\\MAR-Instacart Basket Analysis'"
      ]
     },
     "execution_count": 4,
     "metadata": {},
     "output_type": "execute_result"
    }
   ],
   "source": [
    "path"
   ]
  },
  {
   "cell_type": "markdown",
   "id": "8a4590b2-c7cb-44dd-8ffd-891f5161b0f8",
   "metadata": {},
   "source": [
    "# Import data "
   ]
  },
  {
   "cell_type": "code",
   "execution_count": 5,
   "id": "225c3a8b-7345-4c35-9ead-ca37e409faf7",
   "metadata": {},
   "outputs": [],
   "source": [
    "df = pd.read_pickle(os.path.join(path, '02 Data' , 'Prepared Data' , 'df_part1.pkl'))"
   ]
  },
  {
   "cell_type": "code",
   "execution_count": 6,
   "id": "961c32cb-2141-4835-923d-0d8a6c6bcfad",
   "metadata": {},
   "outputs": [
    {
     "data": {
      "text/plain": [
       "Index(['user_id', 'product_id', 'product_name', 'aisle_id', 'department_id',\n",
       "       'prices', 'order_id', 'order_number', 'orders_day_of_week',\n",
       "       'order_hour_of_day', 'days_since_prior_order', 'first_order',\n",
       "       'add_to_cart_order', 'reordered', '_merge', 'price_range_loc',\n",
       "       'busiest_day', 'busiest_days', 'busiest_period_of_day', 'max_order',\n",
       "       'loyalty_flag', 'mean_product_price', 'spending_flag',\n",
       "       'median_days_between_orders', 'order_frequency', 'gender', 'State',\n",
       "       'age', 'date_joined', 'dependants', 'family_status', 'income', 'exist',\n",
       "       'region', 'exclusion_flag'],\n",
       "      dtype='object')"
      ]
     },
     "execution_count": 6,
     "metadata": {},
     "output_type": "execute_result"
    }
   ],
   "source": [
    "df.columns"
   ]
  },
  {
   "cell_type": "markdown",
   "id": "267a1e09-0d95-42d4-88b7-dfb493e54073",
   "metadata": {},
   "source": [
    " ## 5. Customer profiling"
   ]
  },
  {
   "cell_type": "markdown",
   "id": "bf4b447e-0a4f-4635-bfd7-1511c4d58b7d",
   "metadata": {},
   "source": [
    " #  Create a profiling variable based on age, income, certain goods in the “department_id” column, and number of dependents. #"
   ]
  },
  {
   "cell_type": "markdown",
   "id": "18b48164-305a-4e64-9b68-73cf1729dbde",
   "metadata": {},
   "source": [
    "# Check dataframe columns "
   ]
  },
  {
   "cell_type": "code",
   "execution_count": 7,
   "id": "f35c853d-e00d-49cf-afb6-bfac66280293",
   "metadata": {},
   "outputs": [
    {
     "data": {
      "text/plain": [
       "count    2.441488e+07\n",
       "mean     9.989505e+04\n",
       "std      4.333357e+04\n",
       "min      2.590300e+04\n",
       "25%      6.752400e+04\n",
       "50%      9.683600e+04\n",
       "75%      1.281600e+05\n",
       "max      5.939010e+05\n",
       "Name: income, dtype: float64"
      ]
     },
     "execution_count": 7,
     "metadata": {},
     "output_type": "execute_result"
    }
   ],
   "source": [
    "df['income'].describe()"
   ]
  },
  {
   "cell_type": "code",
   "execution_count": 8,
   "id": "6d4ae9b4-5711-4b31-914e-3a39f93be6b2",
   "metadata": {},
   "outputs": [
    {
     "data": {
      "text/plain": [
       "count    2.441488e+07\n",
       "mean     4.945734e+01\n",
       "std      1.848532e+01\n",
       "min      1.800000e+01\n",
       "25%      3.300000e+01\n",
       "50%      4.900000e+01\n",
       "75%      6.500000e+01\n",
       "max      8.100000e+01\n",
       "Name: age, dtype: float64"
      ]
     },
     "execution_count": 8,
     "metadata": {},
     "output_type": "execute_result"
    }
   ],
   "source": [
    "df['age'].describe()"
   ]
  },
  {
   "cell_type": "markdown",
   "id": "41853b14-8cc8-4e8b-adef-5dd86b43865b",
   "metadata": {},
   "source": [
    " # For analytical purposes, the following classification is applied:\r\n",
    "\r\n",
    "Income is categorized into four groups based on income quartiles. Individuals in the first quartile fall under the low-income category (< $67,004), followed by the low-middle-income group ($67,004 to $96,618), then the upper-middle-income group ($96,618 to $127,912), and finally, those in the highest quartile (> $127,912) are classified as belonging to the upper-income bracket.\r\n",
    "\r\n",
    "Age is classified as follows: individuals below 30 years old are categorized as young adults, those between 30 and 65 years old are considered adults, and individuals above 65 years old are labeled as seniors. Consequently, the following customer profiles are establis\n",
    "\n",
    "1. low-income, young adult\r",
    "2. \n",
    "low-income, adult3. \r\n",
    "low-income, senio4. r\r\n",
    "lower-middle income, young adu5. lt\r\n",
    "lower-middle income, ad6. ult\r\n",
    "lower-middle income, se7. nior\r\n",
    "upper-middle income, young 8. adult\r\n",
    "upper-middle income,9.  adult\r\n",
    "upper-middle income,10.  senior\r\n",
    "high-income, you11. ng adult\r\n",
    "high-inco12. me, adult\r\n",
    "high-inc me, senior\n",
    "hed:"
   ]
  },
  {
   "cell_type": "markdown",
   "id": "d6bbdee8-2898-40d6-9be8-9c89c1596837",
   "metadata": {},
   "source": [
    "# Create the customer profiles "
   ]
  },
  {
   "cell_type": "markdown",
   "id": "b9a979c2-27e9-4929-8cf9-80194c3c67e9",
   "metadata": {},
   "source": [
    "# Define low-income, young adult group"
   ]
  },
  {
   "cell_type": "code",
   "execution_count": 9,
   "id": "1a14371f-8155-49d3-8011-833f1af2e892",
   "metadata": {},
   "outputs": [],
   "source": [
    "df.loc[(df['age'] < 30) & (df['income'] < 67004), 'customer_profile'] = 'low-income, young adult'"
   ]
  },
  {
   "cell_type": "markdown",
   "id": "de11cc53-27ea-4d9b-85dc-3d1d1a3ab87f",
   "metadata": {},
   "source": [
    "# Define low-income, adult group"
   ]
  },
  {
   "cell_type": "code",
   "execution_count": 10,
   "id": "389432a4-3e44-4ef3-a755-04c0d46b806c",
   "metadata": {},
   "outputs": [],
   "source": [
    "df.loc[(df['age'] >= 30) & (df['age'] < 65) & (df['income'] < 67004) , 'customer_profile'] = 'low-income, adult'"
   ]
  },
  {
   "cell_type": "markdown",
   "id": "3dfe60a2-517b-496c-a920-855b38f2a693",
   "metadata": {},
   "source": [
    "# Define low-income, senior group"
   ]
  },
  {
   "cell_type": "code",
   "execution_count": 11,
   "id": "7cf96c12-ad54-4c78-8b53-5af89fee171c",
   "metadata": {},
   "outputs": [],
   "source": [
    "df.loc[(df['age'] >= 65) & (df['income'] < 67004), 'customer_profile'] = 'low-income, senior'"
   ]
  },
  {
   "cell_type": "markdown",
   "id": "6c270c9f-cff1-4e60-8ec0-7a28a96d3461",
   "metadata": {},
   "source": [
    "# Define lower-middle income, young adult group"
   ]
  },
  {
   "cell_type": "code",
   "execution_count": 12,
   "id": "36671fd5-7157-48c3-b35a-29615088a82e",
   "metadata": {},
   "outputs": [],
   "source": [
    "df.loc[(df['age'] < 30) & (df['income'] >= 67004) & (df['income'] < 96618), 'customer_profile'] = 'lower-middle income, young adult'"
   ]
  },
  {
   "cell_type": "markdown",
   "id": "e27f3f01-9f51-4bc1-a188-53835bbf79c4",
   "metadata": {},
   "source": [
    "# Define upper-middle income, adult group"
   ]
  },
  {
   "cell_type": "code",
   "execution_count": 13,
   "id": "f6418a7f-8761-4af7-9715-3814cc802b6c",
   "metadata": {},
   "outputs": [],
   "source": [
    "df.loc[(df['age'] >= 30) & (df['age'] < 65) & (df['income'] >= 67004) & (df['income'] < 96618), 'customer_profile'] = 'lower-middle income, adult'"
   ]
  },
  {
   "cell_type": "markdown",
   "id": "dd7de4af-ae16-4d7f-84cd-006ef17384f3",
   "metadata": {},
   "source": [
    "# Define lower-middle income, senior group"
   ]
  },
  {
   "cell_type": "code",
   "execution_count": 14,
   "id": "4e29d550-fc56-4c35-94bb-9e719433ae09",
   "metadata": {},
   "outputs": [],
   "source": [
    "df.loc[(df['age'] >= 65) & (df['income'] >= 67004) & (df['income'] < 96618), 'customer_profile'] = 'lower-middle income, senior'"
   ]
  },
  {
   "cell_type": "markdown",
   "id": "7d6c021c-b869-4429-9013-7a629508b757",
   "metadata": {},
   "source": [
    "# Define upper-middle income, young adult group"
   ]
  },
  {
   "cell_type": "code",
   "execution_count": 15,
   "id": "efe68355-c5f6-460d-91e2-536210a0b5af",
   "metadata": {},
   "outputs": [],
   "source": [
    "df.loc[(df['age'] < 30) & (df['income'] >= 96618) & (df['income'] < 127912), 'customer_profile'] = 'upper-middle income, young adult'"
   ]
  },
  {
   "cell_type": "markdown",
   "id": "3260a509-877b-4b9d-9e67-3f7435750d87",
   "metadata": {},
   "source": [
    "# Define upper-middle income, adult group"
   ]
  },
  {
   "cell_type": "code",
   "execution_count": 16,
   "id": "64248aae-122e-4a44-b688-626dba07b960",
   "metadata": {},
   "outputs": [],
   "source": [
    "df.loc[(df['age'] >= 30) & (df['age'] < 65) & (df['income'] >= 96618) & (df['income'] < 127912), 'customer_profile'] = 'upper-middle income, adult'"
   ]
  },
  {
   "cell_type": "markdown",
   "id": "7dd78326-7780-4c06-864b-32b80eae21aa",
   "metadata": {},
   "source": [
    "# Define upper-middle income, senior group"
   ]
  },
  {
   "cell_type": "code",
   "execution_count": 17,
   "id": "c100fffc-28a9-4e75-902b-a039612c28b2",
   "metadata": {},
   "outputs": [],
   "source": [
    "df.loc[(df['age'] >= 65) & (df['income'] >= 96618) & (df['income'] < 127912), 'customer_profile'] = 'upper-middle income, senior'"
   ]
  },
  {
   "cell_type": "markdown",
   "id": "c004babc-0ec9-464d-b164-ff934be360e3",
   "metadata": {},
   "source": [
    "# Define high-income, young adult group"
   ]
  },
  {
   "cell_type": "code",
   "execution_count": 18,
   "id": "294058ce-f1ac-4f8f-b087-78c8607feb09",
   "metadata": {},
   "outputs": [],
   "source": [
    "df.loc[(df['age'] < 30) & (df['income'] >= 127912), 'customer_profile'] = 'high-income, young adult'"
   ]
  },
  {
   "cell_type": "markdown",
   "id": "58a05f23-f955-48d0-a668-762d227ea30d",
   "metadata": {},
   "source": [
    "# Define high-income, adult group"
   ]
  },
  {
   "cell_type": "code",
   "execution_count": 19,
   "id": "f51a2a99-d97d-4da8-a371-cc728fd87b8c",
   "metadata": {},
   "outputs": [],
   "source": [
    "df.loc[(df['age'] >= 30) & (df['age'] < 65) & (df['income'] >= 127912), 'customer_profile'] = 'high-income, adult'"
   ]
  },
  {
   "cell_type": "markdown",
   "id": "e58b52fc-407e-44e7-9b81-6fb7aff780a1",
   "metadata": {},
   "source": [
    "# Define high-income, senior group"
   ]
  },
  {
   "cell_type": "code",
   "execution_count": 20,
   "id": "3d37150c-07c4-49ff-81fe-2f2ada52c384",
   "metadata": {},
   "outputs": [],
   "source": [
    "df.loc[(df['age'] >= 65) & (df['income'] >= 127912), 'customer_profile'] = 'high-income, senior'"
   ]
  },
  {
   "cell_type": "markdown",
   "id": "929928c9-2c5d-4d0b-897c-70d729765107",
   "metadata": {},
   "source": [
    "# The customer profiles outlined above can be cross-tabulated with the number of dependents in each customer group as follows: "
   ]
  },
  {
   "cell_type": "markdown",
   "id": "fe55af19-3c76-4d2c-8be9-68c57f5789b0",
   "metadata": {},
   "source": [
    "# Crosstab indicating proportion of number of dependents in each customer profile"
   ]
  },
  {
   "cell_type": "code",
   "execution_count": 21,
   "id": "08188499-53d6-4112-a955-7fe0a8bfa814",
   "metadata": {},
   "outputs": [],
   "source": [
    "crosstab_proportion_ndependents = pd.crosstab(df['customer_profile'], df['dependants'], normalize = 'index')"
   ]
  },
  {
   "cell_type": "code",
   "execution_count": 22,
   "id": "04589dd7-4bda-4ae3-850b-e0a9f9867b4c",
   "metadata": {},
   "outputs": [
    {
     "data": {
      "text/html": [
       "<div>\n",
       "<style scoped>\n",
       "    .dataframe tbody tr th:only-of-type {\n",
       "        vertical-align: middle;\n",
       "    }\n",
       "\n",
       "    .dataframe tbody tr th {\n",
       "        vertical-align: top;\n",
       "    }\n",
       "\n",
       "    .dataframe thead th {\n",
       "        text-align: right;\n",
       "    }\n",
       "</style>\n",
       "<table border=\"1\" class=\"dataframe\">\n",
       "  <thead>\n",
       "    <tr style=\"text-align: right;\">\n",
       "      <th>dependants</th>\n",
       "      <th>0</th>\n",
       "      <th>1</th>\n",
       "      <th>2</th>\n",
       "      <th>3</th>\n",
       "    </tr>\n",
       "    <tr>\n",
       "      <th>customer_profile</th>\n",
       "      <th></th>\n",
       "      <th></th>\n",
       "      <th></th>\n",
       "      <th></th>\n",
       "    </tr>\n",
       "  </thead>\n",
       "  <tbody>\n",
       "    <tr>\n",
       "      <th>high-income, adult</th>\n",
       "      <td>0.256774</td>\n",
       "      <td>0.247724</td>\n",
       "      <td>0.245811</td>\n",
       "      <td>0.249691</td>\n",
       "    </tr>\n",
       "    <tr>\n",
       "      <th>high-income, senior</th>\n",
       "      <td>0.245499</td>\n",
       "      <td>0.244771</td>\n",
       "      <td>0.255853</td>\n",
       "      <td>0.253877</td>\n",
       "    </tr>\n",
       "    <tr>\n",
       "      <th>high-income, young adult</th>\n",
       "      <td>0.203151</td>\n",
       "      <td>0.262793</td>\n",
       "      <td>0.278747</td>\n",
       "      <td>0.255309</td>\n",
       "    </tr>\n",
       "    <tr>\n",
       "      <th>low-income, adult</th>\n",
       "      <td>0.254789</td>\n",
       "      <td>0.244368</td>\n",
       "      <td>0.251625</td>\n",
       "      <td>0.249219</td>\n",
       "    </tr>\n",
       "    <tr>\n",
       "      <th>low-income, senior</th>\n",
       "      <td>0.235693</td>\n",
       "      <td>0.261690</td>\n",
       "      <td>0.252166</td>\n",
       "      <td>0.250451</td>\n",
       "    </tr>\n",
       "    <tr>\n",
       "      <th>low-income, young adult</th>\n",
       "      <td>0.246467</td>\n",
       "      <td>0.251071</td>\n",
       "      <td>0.246145</td>\n",
       "      <td>0.256316</td>\n",
       "    </tr>\n",
       "    <tr>\n",
       "      <th>lower-middle income, adult</th>\n",
       "      <td>0.245996</td>\n",
       "      <td>0.252864</td>\n",
       "      <td>0.247664</td>\n",
       "      <td>0.253476</td>\n",
       "    </tr>\n",
       "    <tr>\n",
       "      <th>lower-middle income, senior</th>\n",
       "      <td>0.250040</td>\n",
       "      <td>0.243434</td>\n",
       "      <td>0.262774</td>\n",
       "      <td>0.243752</td>\n",
       "    </tr>\n",
       "    <tr>\n",
       "      <th>lower-middle income, young adult</th>\n",
       "      <td>0.249577</td>\n",
       "      <td>0.253970</td>\n",
       "      <td>0.247145</td>\n",
       "      <td>0.249308</td>\n",
       "    </tr>\n",
       "    <tr>\n",
       "      <th>upper-middle income, adult</th>\n",
       "      <td>0.251243</td>\n",
       "      <td>0.251761</td>\n",
       "      <td>0.243994</td>\n",
       "      <td>0.253003</td>\n",
       "    </tr>\n",
       "    <tr>\n",
       "      <th>upper-middle income, senior</th>\n",
       "      <td>0.251098</td>\n",
       "      <td>0.245698</td>\n",
       "      <td>0.255037</td>\n",
       "      <td>0.248167</td>\n",
       "    </tr>\n",
       "    <tr>\n",
       "      <th>upper-middle income, young adult</th>\n",
       "      <td>0.254502</td>\n",
       "      <td>0.238350</td>\n",
       "      <td>0.258748</td>\n",
       "      <td>0.248400</td>\n",
       "    </tr>\n",
       "  </tbody>\n",
       "</table>\n",
       "</div>"
      ],
      "text/plain": [
       "dependants                               0         1         2         3\n",
       "customer_profile                                                        \n",
       "high-income, adult                0.256774  0.247724  0.245811  0.249691\n",
       "high-income, senior               0.245499  0.244771  0.255853  0.253877\n",
       "high-income, young adult          0.203151  0.262793  0.278747  0.255309\n",
       "low-income, adult                 0.254789  0.244368  0.251625  0.249219\n",
       "low-income, senior                0.235693  0.261690  0.252166  0.250451\n",
       "low-income, young adult           0.246467  0.251071  0.246145  0.256316\n",
       "lower-middle income, adult        0.245996  0.252864  0.247664  0.253476\n",
       "lower-middle income, senior       0.250040  0.243434  0.262774  0.243752\n",
       "lower-middle income, young adult  0.249577  0.253970  0.247145  0.249308\n",
       "upper-middle income, adult        0.251243  0.251761  0.243994  0.253003\n",
       "upper-middle income, senior       0.251098  0.245698  0.255037  0.248167\n",
       "upper-middle income, young adult  0.254502  0.238350  0.258748  0.248400"
      ]
     },
     "execution_count": 22,
     "metadata": {},
     "output_type": "execute_result"
    }
   ],
   "source": [
    "crosstab_proportion_ndependents"
   ]
  },
  {
   "cell_type": "markdown",
   "id": "f2f0757d-76ed-46ff-8c47-5f2c4238029f",
   "metadata": {},
   "source": [
    " # An equal distribution of the number of dependents appears to be present across the various customer profiles #"
   ]
  },
  {
   "cell_type": "markdown",
   "id": "8c2cb08b-e4f7-4476-8f45-12c4c2d9c465",
   "metadata": {},
   "source": [
    "# 6. Visualization for distribution of profiles"
   ]
  },
  {
   "cell_type": "code",
   "execution_count": 23,
   "id": "01822212-df30-46f6-a671-75ad9bd58fa2",
   "metadata": {},
   "outputs": [
    {
     "data": {
      "text/plain": [
       "customer_profile\n",
       "high-income, adult                  3595029\n",
       "upper-middle income, adult          3544536\n",
       "lower-middle income, adult          3131341\n",
       "low-income, adult                   3095261\n",
       "high-income, senior                 2488216\n",
       "upper-middle income, senior         2282205\n",
       "lower-middle income, young adult    2147184\n",
       "low-income, young adult             2082053\n",
       "lower-middle income, senior          877734\n",
       "low-income, senior                   810295\n",
       "upper-middle income, young adult     305173\n",
       "high-income, young adult              55850\n",
       "Name: count, dtype: int64"
      ]
     },
     "execution_count": 23,
     "metadata": {},
     "output_type": "execute_result"
    }
   ],
   "source": [
    "df['customer_profile'].value_counts()"
   ]
  },
  {
   "cell_type": "markdown",
   "id": "827e4296-9f24-45c4-a2a7-1a2cf410c27e",
   "metadata": {},
   "source": [
    "# Create a horizontal bar chart to visualize the distribution of customer profiles"
   ]
  },
  {
   "cell_type": "code",
   "execution_count": 24,
   "id": "9cd449d2-78db-4f01-b117-9ceac07553b5",
   "metadata": {},
   "outputs": [
    {
     "data": {
      "text/plain": [
       "Text(0.5, 1.0, 'Relation Between Income and Customer Profile')"
      ]
     },
     "execution_count": 24,
     "metadata": {},
     "output_type": "execute_result"
    },
    {
     "data": {
      "image/png": "[encoded data removed]",
      "text/plain": [
       "<Figure size 640x480 with 1 Axes>"
      ]
     },
     "metadata": {},
     "output_type": "display_data"
    }
   ],
   "source": [
    "bar_customerprofile = df['customer_profile'].value_counts().sort_values().plot(kind='barh')\n",
    "bar_customerprofile.set_xlabel('Income (in Millions)')\n",
    "bar_customerprofile.set_ylabel('Customer Profile')\n",
    "bar_customerprofile.set_title('Relation Between Income and Customer Profile')"
   ]
  },
  {
   "cell_type": "markdown",
   "id": "c710ffb4-2c7c-4476-9a49-5eab306db020",
   "metadata": {},
   "source": [
    "# The visualization clearly illustrates that the highest proportion belongs to the high-income adult group, whereas the lowest proportion pertains to the high-income young adult group, possibly indicating that achieving a high income requires time. Conversely, regardless of income, the adult age group constitutes the top customers of Instacart. #"
   ]
  },
  {
   "cell_type": "markdown",
   "id": "3e3900af-14ef-4acb-99da-9452183b7258",
   "metadata": {},
   "source": [
    "# Export Chart"
   ]
  },
  {
   "cell_type": "code",
   "execution_count": 25,
   "id": "0313ae60-afa3-49a3-b58e-adcf0900ada3",
   "metadata": {},
   "outputs": [],
   "source": [
    "bar_customerprofile.figure.savefig(os.path.join(path,'04 Analysis' , 'Visualizations' , 'bar_customerprofile.png'))"
   ]
  },
  {
   "cell_type": "markdown",
   "id": "a95e982d-a64a-4116-a650-a40657340c31",
   "metadata": {},
   "source": [
    "  ## 7. Aggregation of customer profiles"
   ]
  },
  {
   "cell_type": "markdown",
   "id": "77c82304-3f24-4066-bf8a-868535bca343",
   "metadata": {},
   "source": [
    "# Create crossbar  mean, min and max values of usage frequency of customer profiles"
   ]
  },
  {
   "cell_type": "code",
   "execution_count": 26,
   "id": "a022b14e-7103-4c6c-b221-4c9701993607",
   "metadata": {},
   "outputs": [],
   "source": [
    "customers_usage_frequency = df.groupby('customer_profile').agg({'days_since_prior_order': ['mean' , 'min' , 'max']})"
   ]
  },
  {
   "cell_type": "code",
   "execution_count": 27,
   "id": "0e31d2e9-76fd-43d3-afb6-03c113afa205",
   "metadata": {},
   "outputs": [
    {
     "data": {
      "text/html": [
       "<div>\n",
       "<style scoped>\n",
       "    .dataframe tbody tr th:only-of-type {\n",
       "        vertical-align: middle;\n",
       "    }\n",
       "\n",
       "    .dataframe tbody tr th {\n",
       "        vertical-align: top;\n",
       "    }\n",
       "\n",
       "    .dataframe thead tr th {\n",
       "        text-align: left;\n",
       "    }\n",
       "\n",
       "    .dataframe thead tr:last-of-type th {\n",
       "        text-align: right;\n",
       "    }\n",
       "</style>\n",
       "<table border=\"1\" class=\"dataframe\">\n",
       "  <thead>\n",
       "    <tr>\n",
       "      <th></th>\n",
       "      <th colspan=\"3\" halign=\"left\">days_since_prior_order</th>\n",
       "    </tr>\n",
       "    <tr>\n",
       "      <th></th>\n",
       "      <th>mean</th>\n",
       "      <th>min</th>\n",
       "      <th>max</th>\n",
       "    </tr>\n",
       "    <tr>\n",
       "      <th>customer_profile</th>\n",
       "      <th></th>\n",
       "      <th></th>\n",
       "      <th></th>\n",
       "    </tr>\n",
       "  </thead>\n",
       "  <tbody>\n",
       "    <tr>\n",
       "      <th>high-income, adult</th>\n",
       "      <td>10.067508</td>\n",
       "      <td>0.0</td>\n",
       "      <td>30.0</td>\n",
       "    </tr>\n",
       "    <tr>\n",
       "      <th>high-income, senior</th>\n",
       "      <td>10.004289</td>\n",
       "      <td>0.0</td>\n",
       "      <td>30.0</td>\n",
       "    </tr>\n",
       "    <tr>\n",
       "      <th>high-income, young adult</th>\n",
       "      <td>9.420161</td>\n",
       "      <td>0.0</td>\n",
       "      <td>30.0</td>\n",
       "    </tr>\n",
       "    <tr>\n",
       "      <th>low-income, adult</th>\n",
       "      <td>10.185615</td>\n",
       "      <td>0.0</td>\n",
       "      <td>30.0</td>\n",
       "    </tr>\n",
       "    <tr>\n",
       "      <th>low-income, senior</th>\n",
       "      <td>10.321906</td>\n",
       "      <td>0.0</td>\n",
       "      <td>30.0</td>\n",
       "    </tr>\n",
       "    <tr>\n",
       "      <th>low-income, young adult</th>\n",
       "      <td>10.193614</td>\n",
       "      <td>0.0</td>\n",
       "      <td>30.0</td>\n",
       "    </tr>\n",
       "    <tr>\n",
       "      <th>lower-middle income, adult</th>\n",
       "      <td>10.037629</td>\n",
       "      <td>0.0</td>\n",
       "      <td>30.0</td>\n",
       "    </tr>\n",
       "    <tr>\n",
       "      <th>lower-middle income, senior</th>\n",
       "      <td>9.909195</td>\n",
       "      <td>0.0</td>\n",
       "      <td>30.0</td>\n",
       "    </tr>\n",
       "    <tr>\n",
       "      <th>lower-middle income, young adult</th>\n",
       "      <td>10.004431</td>\n",
       "      <td>0.0</td>\n",
       "      <td>30.0</td>\n",
       "    </tr>\n",
       "    <tr>\n",
       "      <th>upper-middle income, adult</th>\n",
       "      <td>10.051700</td>\n",
       "      <td>0.0</td>\n",
       "      <td>30.0</td>\n",
       "    </tr>\n",
       "    <tr>\n",
       "      <th>upper-middle income, senior</th>\n",
       "      <td>10.134371</td>\n",
       "      <td>0.0</td>\n",
       "      <td>30.0</td>\n",
       "    </tr>\n",
       "    <tr>\n",
       "      <th>upper-middle income, young adult</th>\n",
       "      <td>10.275142</td>\n",
       "      <td>0.0</td>\n",
       "      <td>30.0</td>\n",
       "    </tr>\n",
       "  </tbody>\n",
       "</table>\n",
       "</div>"
      ],
      "text/plain": [
       "                                 days_since_prior_order           \n",
       "                                                   mean  min   max\n",
       "customer_profile                                                  \n",
       "high-income, adult                            10.067508  0.0  30.0\n",
       "high-income, senior                           10.004289  0.0  30.0\n",
       "high-income, young adult                       9.420161  0.0  30.0\n",
       "low-income, adult                             10.185615  0.0  30.0\n",
       "low-income, senior                            10.321906  0.0  30.0\n",
       "low-income, young adult                       10.193614  0.0  30.0\n",
       "lower-middle income, adult                    10.037629  0.0  30.0\n",
       "lower-middle income, senior                    9.909195  0.0  30.0\n",
       "lower-middle income, young adult              10.004431  0.0  30.0\n",
       "upper-middle income, adult                    10.051700  0.0  30.0\n",
       "upper-middle income, senior                   10.134371  0.0  30.0\n",
       "upper-middle income, young adult              10.275142  0.0  30.0"
      ]
     },
     "execution_count": 27,
     "metadata": {},
     "output_type": "execute_result"
    }
   ],
   "source": [
    "customers_usage_frequency"
   ]
  },
  {
   "cell_type": "markdown",
   "id": "39ed7765-39f9-4e96-bb2f-c012c75865d2",
   "metadata": {},
   "source": [
    "# Create crossbar mean, min and max values of expenditure of customer profiles"
   ]
  },
  {
   "cell_type": "code",
   "execution_count": 28,
   "id": "ba330ede-2664-43a2-983b-5459ca6c33ef",
   "metadata": {},
   "outputs": [],
   "source": [
    "customers_expenditure = df.groupby('customer_profile').agg({'prices':['mean', 'min' , 'max']})"
   ]
  },
  {
   "cell_type": "code",
   "execution_count": 29,
   "id": "5e833562-ac15-4e70-8721-bcb88d8f9140",
   "metadata": {},
   "outputs": [
    {
     "data": {
      "text/html": [
       "<div>\n",
       "<style scoped>\n",
       "    .dataframe tbody tr th:only-of-type {\n",
       "        vertical-align: middle;\n",
       "    }\n",
       "\n",
       "    .dataframe tbody tr th {\n",
       "        vertical-align: top;\n",
       "    }\n",
       "\n",
       "    .dataframe thead tr th {\n",
       "        text-align: left;\n",
       "    }\n",
       "\n",
       "    .dataframe thead tr:last-of-type th {\n",
       "        text-align: right;\n",
       "    }\n",
       "</style>\n",
       "<table border=\"1\" class=\"dataframe\">\n",
       "  <thead>\n",
       "    <tr>\n",
       "      <th></th>\n",
       "      <th colspan=\"3\" halign=\"left\">prices</th>\n",
       "    </tr>\n",
       "    <tr>\n",
       "      <th></th>\n",
       "      <th>mean</th>\n",
       "      <th>min</th>\n",
       "      <th>max</th>\n",
       "    </tr>\n",
       "    <tr>\n",
       "      <th>customer_profile</th>\n",
       "      <th></th>\n",
       "      <th></th>\n",
       "      <th></th>\n",
       "    </tr>\n",
       "  </thead>\n",
       "  <tbody>\n",
       "    <tr>\n",
       "      <th>high-income, adult</th>\n",
       "      <td>20.842343</td>\n",
       "      <td>1.0</td>\n",
       "      <td>99999.0</td>\n",
       "    </tr>\n",
       "    <tr>\n",
       "      <th>high-income, senior</th>\n",
       "      <td>16.903986</td>\n",
       "      <td>1.0</td>\n",
       "      <td>99999.0</td>\n",
       "    </tr>\n",
       "    <tr>\n",
       "      <th>high-income, young adult</th>\n",
       "      <td>281.996038</td>\n",
       "      <td>1.0</td>\n",
       "      <td>99999.0</td>\n",
       "    </tr>\n",
       "    <tr>\n",
       "      <th>low-income, adult</th>\n",
       "      <td>7.278045</td>\n",
       "      <td>1.0</td>\n",
       "      <td>14900.0</td>\n",
       "    </tr>\n",
       "    <tr>\n",
       "      <th>low-income, senior</th>\n",
       "      <td>6.709261</td>\n",
       "      <td>1.0</td>\n",
       "      <td>25.0</td>\n",
       "    </tr>\n",
       "    <tr>\n",
       "      <th>low-income, young adult</th>\n",
       "      <td>7.600615</td>\n",
       "      <td>1.0</td>\n",
       "      <td>14900.0</td>\n",
       "    </tr>\n",
       "    <tr>\n",
       "      <th>lower-middle income, adult</th>\n",
       "      <td>8.661349</td>\n",
       "      <td>1.0</td>\n",
       "      <td>99999.0</td>\n",
       "    </tr>\n",
       "    <tr>\n",
       "      <th>lower-middle income, senior</th>\n",
       "      <td>8.766952</td>\n",
       "      <td>1.0</td>\n",
       "      <td>99999.0</td>\n",
       "    </tr>\n",
       "    <tr>\n",
       "      <th>lower-middle income, young adult</th>\n",
       "      <td>8.859249</td>\n",
       "      <td>1.0</td>\n",
       "      <td>99999.0</td>\n",
       "    </tr>\n",
       "    <tr>\n",
       "      <th>upper-middle income, adult</th>\n",
       "      <td>9.374225</td>\n",
       "      <td>1.0</td>\n",
       "      <td>99999.0</td>\n",
       "    </tr>\n",
       "    <tr>\n",
       "      <th>upper-middle income, senior</th>\n",
       "      <td>8.707137</td>\n",
       "      <td>1.0</td>\n",
       "      <td>99999.0</td>\n",
       "    </tr>\n",
       "    <tr>\n",
       "      <th>upper-middle income, young adult</th>\n",
       "      <td>17.442318</td>\n",
       "      <td>1.0</td>\n",
       "      <td>99999.0</td>\n",
       "    </tr>\n",
       "  </tbody>\n",
       "</table>\n",
       "</div>"
      ],
      "text/plain": [
       "                                      prices              \n",
       "                                        mean  min      max\n",
       "customer_profile                                          \n",
       "high-income, adult                 20.842343  1.0  99999.0\n",
       "high-income, senior                16.903986  1.0  99999.0\n",
       "high-income, young adult          281.996038  1.0  99999.0\n",
       "low-income, adult                   7.278045  1.0  14900.0\n",
       "low-income, senior                  6.709261  1.0     25.0\n",
       "low-income, young adult             7.600615  1.0  14900.0\n",
       "lower-middle income, adult          8.661349  1.0  99999.0\n",
       "lower-middle income, senior         8.766952  1.0  99999.0\n",
       "lower-middle income, young adult    8.859249  1.0  99999.0\n",
       "upper-middle income, adult          9.374225  1.0  99999.0\n",
       "upper-middle income, senior         8.707137  1.0  99999.0\n",
       "upper-middle income, young adult   17.442318  1.0  99999.0"
      ]
     },
     "execution_count": 29,
     "metadata": {},
     "output_type": "execute_result"
    }
   ],
   "source": [
    "customers_expenditure"
   ]
  },
  {
   "cell_type": "markdown",
   "id": "385b4799-a589-4a1d-aab0-a13c9483c79f",
   "metadata": {},
   "source": [
    "## 8. Analysis by regions"
   ]
  },
  {
   "cell_type": "markdown",
   "id": "63d044ab-a6d6-4d88-8817-d092b8276f12",
   "metadata": {},
   "source": [
    "# 8.1. Northeast region"
   ]
  },
  {
   "cell_type": "markdown",
   "id": "cb62276b-d077-4a7c-922e-b3cc56445c4a",
   "metadata": {},
   "source": [
    "# Create subset of the dataframe for the Northeast region"
   ]
  },
  {
   "cell_type": "code",
   "execution_count": 30,
   "id": "082d1df8-6b12-40da-b6b7-b101eb05cb9e",
   "metadata": {},
   "outputs": [],
   "source": [
    "df_ne = df[df['region'] == 'Northeast']"
   ]
  },
  {
   "cell_type": "markdown",
   "id": "1e27e6f3-044a-45ba-a411-6310c34a7abd",
   "metadata": {},
   "source": [
    "# Count the customers in the region"
   ]
  },
  {
   "cell_type": "code",
   "execution_count": 31,
   "id": "38f98099-b91c-4cef-b06e-f117439e01dc",
   "metadata": {},
   "outputs": [
    {
     "data": {
      "text/plain": [
       "4315271"
      ]
     },
     "execution_count": 31,
     "metadata": {},
     "output_type": "execute_result"
    }
   ],
   "source": [
    "df_ne['user_id'].value_counts().sum()"
   ]
  },
  {
   "cell_type": "markdown",
   "id": "a4256f00-6f6e-4ec4-adfc-6c8a48c42e3f",
   "metadata": {},
   "source": [
    "# 8.1.1. Demographic outlook"
   ]
  },
  {
   "cell_type": "markdown",
   "id": "75dcc727-933b-4741-b99f-4c45b706c15a",
   "metadata": {},
   "source": [
    "# Check customer profile in region"
   ]
  },
  {
   "cell_type": "code",
   "execution_count": 32,
   "id": "f86fe575-4ee9-4cb3-b57c-50c119b7aa91",
   "metadata": {},
   "outputs": [
    {
     "data": {
      "text/plain": [
       "customer_profile\n",
       "upper-middle income, adult          632369\n",
       "high-income, adult                  622255\n",
       "low-income, adult                   550405\n",
       "lower-middle income, adult          521727\n",
       "high-income, senior                 458112\n",
       "upper-middle income, senior         409439\n",
       "lower-middle income, young adult    400178\n",
       "low-income, young adult             359069\n",
       "lower-middle income, senior         157370\n",
       "low-income, senior                  151958\n",
       "upper-middle income, young adult     44806\n",
       "high-income, young adult              7583\n",
       "Name: count, dtype: int64"
      ]
     },
     "execution_count": 32,
     "metadata": {},
     "output_type": "execute_result"
    }
   ],
   "source": [
    "df_ne['customer_profile'].value_counts()"
   ]
  },
  {
   "cell_type": "markdown",
   "id": "c14d50dd-63ef-45c4-8b8a-7b6d9bd0e051",
   "metadata": {},
   "source": [
    "# Check family status in region"
   ]
  },
  {
   "cell_type": "code",
   "execution_count": 33,
   "id": "76f92503-f0cf-40fa-9d77-b69f0d5c8065",
   "metadata": {},
   "outputs": [
    {
     "data": {
      "text/plain": [
       "family_status\n",
       "married                             3045202\n",
       "single                               684778\n",
       "divorced/widowed                     380360\n",
       "living with parents and siblings     204931\n",
       "Name: count, dtype: int64"
      ]
     },
     "execution_count": 33,
     "metadata": {},
     "output_type": "execute_result"
    }
   ],
   "source": [
    "df_ne['family_status'].value_counts()"
   ]
  },
  {
   "cell_type": "markdown",
   "id": "92ee3bfc-37ac-4dcb-9bae-22e83cfe6083",
   "metadata": {},
   "source": [
    "# Check number of dependents in region"
   ]
  },
  {
   "cell_type": "code",
   "execution_count": 34,
   "id": "548e5be5-9a09-443a-a174-ec9160f2a2df",
   "metadata": {},
   "outputs": [
    {
     "data": {
      "text/plain": [
       "dependants\n",
       "3    1094308\n",
       "1    1087111\n",
       "2    1068714\n",
       "0    1065138\n",
       "Name: count, dtype: int64"
      ]
     },
     "execution_count": 34,
     "metadata": {},
     "output_type": "execute_result"
    }
   ],
   "source": [
    "df_ne['dependants'].value_counts()"
   ]
  },
  {
   "cell_type": "markdown",
   "id": "621d823d-05aa-4151-885d-69913049dbea",
   "metadata": {},
   "source": [
    "# 8.1.2. Spending habits"
   ]
  },
  {
   "cell_type": "markdown",
   "id": "79e305d4-dc2f-41b6-b9cc-d8fa02e7210f",
   "metadata": {},
   "source": [
    "# Check stats for spendings in region"
   ]
  },
  {
   "cell_type": "code",
   "execution_count": 35,
   "id": "134cc54a-6491-4680-b913-d3f9a96c4c6f",
   "metadata": {},
   "outputs": [
    {
     "data": {
      "text/plain": [
       "count    4.315271e+06\n",
       "mean     1.129023e+01\n",
       "std      4.473718e+02\n",
       "min      1.000000e+00\n",
       "25%      4.200000e+00\n",
       "50%      7.400000e+00\n",
       "75%      1.120000e+01\n",
       "max      9.999900e+04\n",
       "Name: prices, dtype: float64"
      ]
     },
     "execution_count": 35,
     "metadata": {},
     "output_type": "execute_result"
    }
   ],
   "source": [
    "df_ne['prices'].describe()"
   ]
  },
  {
   "cell_type": "markdown",
   "id": "4e791a4f-8829-4bd5-919c-b414e1ae9a9a",
   "metadata": {},
   "source": [
    "# Check customers spending habits in region"
   ]
  },
  {
   "cell_type": "code",
   "execution_count": 36,
   "id": "469f146f-463f-41e6-addb-44497a9f7ca5",
   "metadata": {},
   "outputs": [
    {
     "data": {
      "text/plain": [
       "spending_flag\n",
       "Low spender     4232654\n",
       "High spender      82617\n",
       "Name: count, dtype: int64"
      ]
     },
     "execution_count": 36,
     "metadata": {},
     "output_type": "execute_result"
    }
   ],
   "source": [
    "df_ne['spending_flag'].value_counts(dropna = False)"
   ]
  },
  {
   "cell_type": "markdown",
   "id": "d57093ea-e7d0-4032-b68e-37d7f046d213",
   "metadata": {},
   "source": [
    " # Check proportion of customer spending habits by customer profile"
   ]
  },
  {
   "cell_type": "code",
   "execution_count": 37,
   "id": "d3b10a5e-f655-4a83-9b09-0b2fc7a277e1",
   "metadata": {},
   "outputs": [
    {
     "data": {
      "text/html": [
       "<div>\n",
       "<style scoped>\n",
       "    .dataframe tbody tr th:only-of-type {\n",
       "        vertical-align: middle;\n",
       "    }\n",
       "\n",
       "    .dataframe tbody tr th {\n",
       "        vertical-align: top;\n",
       "    }\n",
       "\n",
       "    .dataframe thead th {\n",
       "        text-align: right;\n",
       "    }\n",
       "</style>\n",
       "<table border=\"1\" class=\"dataframe\">\n",
       "  <thead>\n",
       "    <tr style=\"text-align: right;\">\n",
       "      <th>spending_flag</th>\n",
       "      <th>High spender</th>\n",
       "      <th>Low spender</th>\n",
       "    </tr>\n",
       "    <tr>\n",
       "      <th>customer_profile</th>\n",
       "      <th></th>\n",
       "      <th></th>\n",
       "    </tr>\n",
       "  </thead>\n",
       "  <tbody>\n",
       "    <tr>\n",
       "      <th>high-income, adult</th>\n",
       "      <td>0.061075</td>\n",
       "      <td>0.938925</td>\n",
       "    </tr>\n",
       "    <tr>\n",
       "      <th>high-income, senior</th>\n",
       "      <td>0.035212</td>\n",
       "      <td>0.964788</td>\n",
       "    </tr>\n",
       "    <tr>\n",
       "      <th>high-income, young adult</th>\n",
       "      <td>1.000000</td>\n",
       "      <td>0.000000</td>\n",
       "    </tr>\n",
       "    <tr>\n",
       "      <th>low-income, adult</th>\n",
       "      <td>0.001544</td>\n",
       "      <td>0.998456</td>\n",
       "    </tr>\n",
       "    <tr>\n",
       "      <th>low-income, senior</th>\n",
       "      <td>0.000000</td>\n",
       "      <td>1.000000</td>\n",
       "    </tr>\n",
       "    <tr>\n",
       "      <th>low-income, young adult</th>\n",
       "      <td>0.002331</td>\n",
       "      <td>0.997669</td>\n",
       "    </tr>\n",
       "    <tr>\n",
       "      <th>lower-middle income, adult</th>\n",
       "      <td>0.006975</td>\n",
       "      <td>0.993025</td>\n",
       "    </tr>\n",
       "    <tr>\n",
       "      <th>lower-middle income, senior</th>\n",
       "      <td>0.004887</td>\n",
       "      <td>0.995113</td>\n",
       "    </tr>\n",
       "    <tr>\n",
       "      <th>lower-middle income, young adult</th>\n",
       "      <td>0.010308</td>\n",
       "      <td>0.989692</td>\n",
       "    </tr>\n",
       "    <tr>\n",
       "      <th>upper-middle income, adult</th>\n",
       "      <td>0.008598</td>\n",
       "      <td>0.991402</td>\n",
       "    </tr>\n",
       "    <tr>\n",
       "      <th>upper-middle income, senior</th>\n",
       "      <td>0.007420</td>\n",
       "      <td>0.992580</td>\n",
       "    </tr>\n",
       "    <tr>\n",
       "      <th>upper-middle income, young adult</th>\n",
       "      <td>0.049190</td>\n",
       "      <td>0.950810</td>\n",
       "    </tr>\n",
       "  </tbody>\n",
       "</table>\n",
       "</div>"
      ],
      "text/plain": [
       "spending_flag                     High spender  Low spender\n",
       "customer_profile                                           \n",
       "high-income, adult                    0.061075     0.938925\n",
       "high-income, senior                   0.035212     0.964788\n",
       "high-income, young adult              1.000000     0.000000\n",
       "low-income, adult                     0.001544     0.998456\n",
       "low-income, senior                    0.000000     1.000000\n",
       "low-income, young adult               0.002331     0.997669\n",
       "lower-middle income, adult            0.006975     0.993025\n",
       "lower-middle income, senior           0.004887     0.995113\n",
       "lower-middle income, young adult      0.010308     0.989692\n",
       "upper-middle income, adult            0.008598     0.991402\n",
       "upper-middle income, senior           0.007420     0.992580\n",
       "upper-middle income, young adult      0.049190     0.950810"
      ]
     },
     "execution_count": 37,
     "metadata": {},
     "output_type": "execute_result"
    }
   ],
   "source": [
    "ne_spendinghabits = pd.crosstab(df_ne['customer_profile'], df_ne['spending_flag'], normalize = 'index')\n",
    "ne_spendinghabits"
   ]
  },
  {
   "cell_type": "markdown",
   "id": "2b2255c7-73ea-470b-b482-b66f4e1ecba5",
   "metadata": {},
   "source": [
    "# Check preferences of customers spending range of prices in region "
   ]
  },
  {
   "cell_type": "code",
   "execution_count": 38,
   "id": "0f07d1f3-fd36-415b-bb21-05da8a8a2b2d",
   "metadata": {},
   "outputs": [
    {
     "data": {
      "text/html": [
       "<div>\n",
       "<style scoped>\n",
       "    .dataframe tbody tr th:only-of-type {\n",
       "        vertical-align: middle;\n",
       "    }\n",
       "\n",
       "    .dataframe tbody tr th {\n",
       "        vertical-align: top;\n",
       "    }\n",
       "\n",
       "    .dataframe thead th {\n",
       "        text-align: right;\n",
       "    }\n",
       "</style>\n",
       "<table border=\"1\" class=\"dataframe\">\n",
       "  <thead>\n",
       "    <tr style=\"text-align: right;\">\n",
       "      <th>price_range_loc</th>\n",
       "      <th>High-range product</th>\n",
       "      <th>Low-range product</th>\n",
       "      <th>Mid-range product</th>\n",
       "    </tr>\n",
       "    <tr>\n",
       "      <th>customer_profile</th>\n",
       "      <th></th>\n",
       "      <th></th>\n",
       "      <th></th>\n",
       "    </tr>\n",
       "  </thead>\n",
       "  <tbody>\n",
       "    <tr>\n",
       "      <th>high-income, adult</th>\n",
       "      <td>0.014554</td>\n",
       "      <td>0.300051</td>\n",
       "      <td>0.685396</td>\n",
       "    </tr>\n",
       "    <tr>\n",
       "      <th>high-income, senior</th>\n",
       "      <td>0.014494</td>\n",
       "      <td>0.294240</td>\n",
       "      <td>0.691265</td>\n",
       "    </tr>\n",
       "    <tr>\n",
       "      <th>high-income, young adult</th>\n",
       "      <td>0.020177</td>\n",
       "      <td>0.313860</td>\n",
       "      <td>0.665963</td>\n",
       "    </tr>\n",
       "    <tr>\n",
       "      <th>low-income, adult</th>\n",
       "      <td>0.008614</td>\n",
       "      <td>0.361376</td>\n",
       "      <td>0.630011</td>\n",
       "    </tr>\n",
       "    <tr>\n",
       "      <th>low-income, senior</th>\n",
       "      <td>0.005212</td>\n",
       "      <td>0.407803</td>\n",
       "      <td>0.586985</td>\n",
       "    </tr>\n",
       "    <tr>\n",
       "      <th>low-income, young adult</th>\n",
       "      <td>0.010767</td>\n",
       "      <td>0.332167</td>\n",
       "      <td>0.657066</td>\n",
       "    </tr>\n",
       "    <tr>\n",
       "      <th>lower-middle income, adult</th>\n",
       "      <td>0.013212</td>\n",
       "      <td>0.296180</td>\n",
       "      <td>0.690608</td>\n",
       "    </tr>\n",
       "    <tr>\n",
       "      <th>lower-middle income, senior</th>\n",
       "      <td>0.013300</td>\n",
       "      <td>0.301601</td>\n",
       "      <td>0.685099</td>\n",
       "    </tr>\n",
       "    <tr>\n",
       "      <th>lower-middle income, young adult</th>\n",
       "      <td>0.012942</td>\n",
       "      <td>0.300979</td>\n",
       "      <td>0.686080</td>\n",
       "    </tr>\n",
       "    <tr>\n",
       "      <th>upper-middle income, adult</th>\n",
       "      <td>0.013661</td>\n",
       "      <td>0.297167</td>\n",
       "      <td>0.689172</td>\n",
       "    </tr>\n",
       "    <tr>\n",
       "      <th>upper-middle income, senior</th>\n",
       "      <td>0.013680</td>\n",
       "      <td>0.301891</td>\n",
       "      <td>0.684429</td>\n",
       "    </tr>\n",
       "    <tr>\n",
       "      <th>upper-middle income, young adult</th>\n",
       "      <td>0.012922</td>\n",
       "      <td>0.306566</td>\n",
       "      <td>0.680512</td>\n",
       "    </tr>\n",
       "  </tbody>\n",
       "</table>\n",
       "</div>"
      ],
      "text/plain": [
       "price_range_loc                   High-range product  Low-range product  \\\n",
       "customer_profile                                                          \n",
       "high-income, adult                          0.014554           0.300051   \n",
       "high-income, senior                         0.014494           0.294240   \n",
       "high-income, young adult                    0.020177           0.313860   \n",
       "low-income, adult                           0.008614           0.361376   \n",
       "low-income, senior                          0.005212           0.407803   \n",
       "low-income, young adult                     0.010767           0.332167   \n",
       "lower-middle income, adult                  0.013212           0.296180   \n",
       "lower-middle income, senior                 0.013300           0.301601   \n",
       "lower-middle income, young adult            0.012942           0.300979   \n",
       "upper-middle income, adult                  0.013661           0.297167   \n",
       "upper-middle income, senior                 0.013680           0.301891   \n",
       "upper-middle income, young adult            0.012922           0.306566   \n",
       "\n",
       "price_range_loc                   Mid-range product  \n",
       "customer_profile                                     \n",
       "high-income, adult                         0.685396  \n",
       "high-income, senior                        0.691265  \n",
       "high-income, young adult                   0.665963  \n",
       "low-income, adult                          0.630011  \n",
       "low-income, senior                         0.586985  \n",
       "low-income, young adult                    0.657066  \n",
       "lower-middle income, adult                 0.690608  \n",
       "lower-middle income, senior                0.685099  \n",
       "lower-middle income, young adult           0.686080  \n",
       "upper-middle income, adult                 0.689172  \n",
       "upper-middle income, senior                0.684429  \n",
       "upper-middle income, young adult           0.680512  "
      ]
     },
     "execution_count": 38,
     "metadata": {},
     "output_type": "execute_result"
    }
   ],
   "source": [
    "ne_prefcustomersrange = pd.crosstab(df_ne['customer_profile'], df_ne['price_range_loc'], normalize = 'index')\n",
    "ne_prefcustomersrange"
   ]
  },
  {
   "cell_type": "markdown",
   "id": "8a7fbe89-5602-4577-8049-f2de4a4b623e",
   "metadata": {},
   "source": [
    "# 8.1.3. Ordering habits"
   ]
  },
  {
   "cell_type": "markdown",
   "id": "ea86a2f0-cd65-4e04-976f-5e43fc6257f5",
   "metadata": {},
   "source": [
    "# Order stats by region"
   ]
  },
  {
   "cell_type": "code",
   "execution_count": 39,
   "id": "e7d2622e-17d7-48cb-bb5d-a2d4fb54525f",
   "metadata": {},
   "outputs": [
    {
     "data": {
      "text/plain": [
       "count    4.315271e+06\n",
       "mean     8.923366e+00\n",
       "std      5.776320e+00\n",
       "min      0.000000e+00\n",
       "25%      5.000000e+00\n",
       "50%      7.000000e+00\n",
       "75%      1.100000e+01\n",
       "max      3.000000e+01\n",
       "Name: median_days_between_orders, dtype: float64"
      ]
     },
     "execution_count": 39,
     "metadata": {},
     "output_type": "execute_result"
    }
   ],
   "source": [
    "df_ne['median_days_between_orders'].describe()"
   ]
  },
  {
   "cell_type": "markdown",
   "id": "c52e7fb7-570a-4dbb-810a-0259bec4b694",
   "metadata": {},
   "source": [
    "# Customer ordering habits"
   ]
  },
  {
   "cell_type": "code",
   "execution_count": 40,
   "id": "77ae8a2f-586a-4caf-bc02-6530408beee8",
   "metadata": {},
   "outputs": [
    {
     "data": {
      "text/plain": [
       "order_frequency\n",
       "Frequent customer        3204565\n",
       "Regular customer          860198\n",
       "Non-frequent customer     250508\n",
       "Name: count, dtype: int64"
      ]
     },
     "execution_count": 40,
     "metadata": {},
     "output_type": "execute_result"
    }
   ],
   "source": [
    "df_ne['order_frequency'].value_counts(dropna=False)"
   ]
  },
  {
   "cell_type": "markdown",
   "id": "8d77552d-7eb6-4323-9808-b6c90e9af9a6",
   "metadata": {},
   "source": [
    "# Profile of active customers"
   ]
  },
  {
   "cell_type": "code",
   "execution_count": 41,
   "id": "310089c9-2371-4bcd-92a3-45c483ec7f1d",
   "metadata": {},
   "outputs": [
    {
     "data": {
      "text/html": [
       "<div>\n",
       "<style scoped>\n",
       "    .dataframe tbody tr th:only-of-type {\n",
       "        vertical-align: middle;\n",
       "    }\n",
       "\n",
       "    .dataframe tbody tr th {\n",
       "        vertical-align: top;\n",
       "    }\n",
       "\n",
       "    .dataframe thead th {\n",
       "        text-align: right;\n",
       "    }\n",
       "</style>\n",
       "<table border=\"1\" class=\"dataframe\">\n",
       "  <thead>\n",
       "    <tr style=\"text-align: right;\">\n",
       "      <th>order_frequency</th>\n",
       "      <th>Frequent customer</th>\n",
       "      <th>Non-frequent customer</th>\n",
       "      <th>Regular customer</th>\n",
       "    </tr>\n",
       "    <tr>\n",
       "      <th>customer_profile</th>\n",
       "      <th></th>\n",
       "      <th></th>\n",
       "      <th></th>\n",
       "    </tr>\n",
       "  </thead>\n",
       "  <tbody>\n",
       "    <tr>\n",
       "      <th>high-income, adult</th>\n",
       "      <td>0.731422</td>\n",
       "      <td>0.061314</td>\n",
       "      <td>0.207264</td>\n",
       "    </tr>\n",
       "    <tr>\n",
       "      <th>high-income, senior</th>\n",
       "      <td>0.764870</td>\n",
       "      <td>0.046853</td>\n",
       "      <td>0.188277</td>\n",
       "    </tr>\n",
       "    <tr>\n",
       "      <th>high-income, young adult</th>\n",
       "      <td>0.776606</td>\n",
       "      <td>0.019781</td>\n",
       "      <td>0.203613</td>\n",
       "    </tr>\n",
       "    <tr>\n",
       "      <th>low-income, adult</th>\n",
       "      <td>0.733563</td>\n",
       "      <td>0.064182</td>\n",
       "      <td>0.202255</td>\n",
       "    </tr>\n",
       "    <tr>\n",
       "      <th>low-income, senior</th>\n",
       "      <td>0.749740</td>\n",
       "      <td>0.070934</td>\n",
       "      <td>0.179326</td>\n",
       "    </tr>\n",
       "    <tr>\n",
       "      <th>low-income, young adult</th>\n",
       "      <td>0.736552</td>\n",
       "      <td>0.061364</td>\n",
       "      <td>0.202084</td>\n",
       "    </tr>\n",
       "    <tr>\n",
       "      <th>lower-middle income, adult</th>\n",
       "      <td>0.730392</td>\n",
       "      <td>0.061022</td>\n",
       "      <td>0.208586</td>\n",
       "    </tr>\n",
       "    <tr>\n",
       "      <th>lower-middle income, senior</th>\n",
       "      <td>0.766105</td>\n",
       "      <td>0.058995</td>\n",
       "      <td>0.174900</td>\n",
       "    </tr>\n",
       "    <tr>\n",
       "      <th>lower-middle income, young adult</th>\n",
       "      <td>0.767696</td>\n",
       "      <td>0.051115</td>\n",
       "      <td>0.181189</td>\n",
       "    </tr>\n",
       "    <tr>\n",
       "      <th>upper-middle income, adult</th>\n",
       "      <td>0.737500</td>\n",
       "      <td>0.059437</td>\n",
       "      <td>0.203063</td>\n",
       "    </tr>\n",
       "    <tr>\n",
       "      <th>upper-middle income, senior</th>\n",
       "      <td>0.740887</td>\n",
       "      <td>0.050923</td>\n",
       "      <td>0.208190</td>\n",
       "    </tr>\n",
       "    <tr>\n",
       "      <th>upper-middle income, young adult</th>\n",
       "      <td>0.723742</td>\n",
       "      <td>0.057805</td>\n",
       "      <td>0.218453</td>\n",
       "    </tr>\n",
       "  </tbody>\n",
       "</table>\n",
       "</div>"
      ],
      "text/plain": [
       "order_frequency                   Frequent customer  Non-frequent customer  \\\n",
       "customer_profile                                                             \n",
       "high-income, adult                         0.731422               0.061314   \n",
       "high-income, senior                        0.764870               0.046853   \n",
       "high-income, young adult                   0.776606               0.019781   \n",
       "low-income, adult                          0.733563               0.064182   \n",
       "low-income, senior                         0.749740               0.070934   \n",
       "low-income, young adult                    0.736552               0.061364   \n",
       "lower-middle income, adult                 0.730392               0.061022   \n",
       "lower-middle income, senior                0.766105               0.058995   \n",
       "lower-middle income, young adult           0.767696               0.051115   \n",
       "upper-middle income, adult                 0.737500               0.059437   \n",
       "upper-middle income, senior                0.740887               0.050923   \n",
       "upper-middle income, young adult           0.723742               0.057805   \n",
       "\n",
       "order_frequency                   Regular customer  \n",
       "customer_profile                                    \n",
       "high-income, adult                        0.207264  \n",
       "high-income, senior                       0.188277  \n",
       "high-income, young adult                  0.203613  \n",
       "low-income, adult                         0.202255  \n",
       "low-income, senior                        0.179326  \n",
       "low-income, young adult                   0.202084  \n",
       "lower-middle income, adult                0.208586  \n",
       "lower-middle income, senior               0.174900  \n",
       "lower-middle income, young adult          0.181189  \n",
       "upper-middle income, adult                0.203063  \n",
       "upper-middle income, senior               0.208190  \n",
       "upper-middle income, young adult          0.218453  "
      ]
     },
     "execution_count": 41,
     "metadata": {},
     "output_type": "execute_result"
    }
   ],
   "source": [
    "ne_activity = pd.crosstab(df_ne['customer_profile'], df_ne['order_frequency'], normalize = 'index')\n",
    "ne_activity"
   ]
  },
  {
   "cell_type": "markdown",
   "id": "758eb2b0-4a74-4950-a9ed-c711eb0ff456",
   "metadata": {},
   "source": [
    "# 8.1.4. Brand loyalty"
   ]
  },
  {
   "cell_type": "markdown",
   "id": "c7ec84c3-c0cc-4907-b637-4fecc7b81328",
   "metadata": {},
   "source": [
    "# Stats by loyalty in the region"
   ]
  },
  {
   "cell_type": "code",
   "execution_count": 42,
   "id": "d6692f5c-c8d2-4286-9e0d-980e802947d2",
   "metadata": {},
   "outputs": [
    {
     "data": {
      "text/plain": [
       "count    4.315271e+06\n",
       "mean     3.865876e+01\n",
       "std      2.499140e+01\n",
       "min      5.000000e+00\n",
       "25%      1.900000e+01\n",
       "50%      3.300000e+01\n",
       "75%      5.300000e+01\n",
       "max      9.900000e+01\n",
       "Name: max_order, dtype: float64"
      ]
     },
     "execution_count": 42,
     "metadata": {},
     "output_type": "execute_result"
    }
   ],
   "source": [
    "df_ne['max_order'].describe()"
   ]
  },
  {
   "cell_type": "markdown",
   "id": "771ecb12-c280-4f85-9277-bfd7a1cedb01",
   "metadata": {},
   "source": [
    "# Customer brand loyalty"
   ]
  },
  {
   "cell_type": "code",
   "execution_count": 43,
   "id": "2c33f865-e4b9-48dd-bf68-6fca8e6dfb6f",
   "metadata": {},
   "outputs": [
    {
     "data": {
      "text/plain": [
       "loyalty_flag\n",
       "Regular customer    2234113\n",
       "Loyal customer      1710886\n",
       "New customer         370272\n",
       "Name: count, dtype: int64"
      ]
     },
     "execution_count": 43,
     "metadata": {},
     "output_type": "execute_result"
    }
   ],
   "source": [
    "df_ne['loyalty_flag'].value_counts(dropna=False)"
   ]
  },
  {
   "cell_type": "markdown",
   "id": "a719cc85-e183-4e24-871d-6711d6d9b921",
   "metadata": {},
   "source": [
    "# Brand loyalty by customer profile"
   ]
  },
  {
   "cell_type": "code",
   "execution_count": 44,
   "id": "c5a60109-e5fc-4909-9406-1a0f6732ef33",
   "metadata": {
    "scrolled": true
   },
   "outputs": [
    {
     "data": {
      "text/html": [
       "<div>\n",
       "<style scoped>\n",
       "    .dataframe tbody tr th:only-of-type {\n",
       "        vertical-align: middle;\n",
       "    }\n",
       "\n",
       "    .dataframe tbody tr th {\n",
       "        vertical-align: top;\n",
       "    }\n",
       "\n",
       "    .dataframe thead th {\n",
       "        text-align: right;\n",
       "    }\n",
       "</style>\n",
       "<table border=\"1\" class=\"dataframe\">\n",
       "  <thead>\n",
       "    <tr style=\"text-align: right;\">\n",
       "      <th>loyalty_flag</th>\n",
       "      <th>Loyal customer</th>\n",
       "      <th>New customer</th>\n",
       "      <th>Regular customer</th>\n",
       "    </tr>\n",
       "    <tr>\n",
       "      <th>customer_profile</th>\n",
       "      <th></th>\n",
       "      <th></th>\n",
       "      <th></th>\n",
       "    </tr>\n",
       "  </thead>\n",
       "  <tbody>\n",
       "    <tr>\n",
       "      <th>high-income, adult</th>\n",
       "      <td>0.376185</td>\n",
       "      <td>0.086884</td>\n",
       "      <td>0.536931</td>\n",
       "    </tr>\n",
       "    <tr>\n",
       "      <th>high-income, senior</th>\n",
       "      <td>0.427699</td>\n",
       "      <td>0.082654</td>\n",
       "      <td>0.489647</td>\n",
       "    </tr>\n",
       "    <tr>\n",
       "      <th>high-income, young adult</th>\n",
       "      <td>0.491626</td>\n",
       "      <td>0.068706</td>\n",
       "      <td>0.439668</td>\n",
       "    </tr>\n",
       "    <tr>\n",
       "      <th>low-income, adult</th>\n",
       "      <td>0.388132</td>\n",
       "      <td>0.092734</td>\n",
       "      <td>0.519134</td>\n",
       "    </tr>\n",
       "    <tr>\n",
       "      <th>low-income, senior</th>\n",
       "      <td>0.402473</td>\n",
       "      <td>0.099883</td>\n",
       "      <td>0.497644</td>\n",
       "    </tr>\n",
       "    <tr>\n",
       "      <th>low-income, young adult</th>\n",
       "      <td>0.393456</td>\n",
       "      <td>0.089665</td>\n",
       "      <td>0.516878</td>\n",
       "    </tr>\n",
       "    <tr>\n",
       "      <th>lower-middle income, adult</th>\n",
       "      <td>0.365743</td>\n",
       "      <td>0.088928</td>\n",
       "      <td>0.545329</td>\n",
       "    </tr>\n",
       "    <tr>\n",
       "      <th>lower-middle income, senior</th>\n",
       "      <td>0.453041</td>\n",
       "      <td>0.078814</td>\n",
       "      <td>0.468145</td>\n",
       "    </tr>\n",
       "    <tr>\n",
       "      <th>lower-middle income, young adult</th>\n",
       "      <td>0.415445</td>\n",
       "      <td>0.077768</td>\n",
       "      <td>0.506787</td>\n",
       "    </tr>\n",
       "    <tr>\n",
       "      <th>upper-middle income, adult</th>\n",
       "      <td>0.398944</td>\n",
       "      <td>0.081631</td>\n",
       "      <td>0.519425</td>\n",
       "    </tr>\n",
       "    <tr>\n",
       "      <th>upper-middle income, senior</th>\n",
       "      <td>0.401645</td>\n",
       "      <td>0.081204</td>\n",
       "      <td>0.517152</td>\n",
       "    </tr>\n",
       "    <tr>\n",
       "      <th>upper-middle income, young adult</th>\n",
       "      <td>0.356649</td>\n",
       "      <td>0.103067</td>\n",
       "      <td>0.540285</td>\n",
       "    </tr>\n",
       "  </tbody>\n",
       "</table>\n",
       "</div>"
      ],
      "text/plain": [
       "loyalty_flag                      Loyal customer  New customer  \\\n",
       "customer_profile                                                 \n",
       "high-income, adult                      0.376185      0.086884   \n",
       "high-income, senior                     0.427699      0.082654   \n",
       "high-income, young adult                0.491626      0.068706   \n",
       "low-income, adult                       0.388132      0.092734   \n",
       "low-income, senior                      0.402473      0.099883   \n",
       "low-income, young adult                 0.393456      0.089665   \n",
       "lower-middle income, adult              0.365743      0.088928   \n",
       "lower-middle income, senior             0.453041      0.078814   \n",
       "lower-middle income, young adult        0.415445      0.077768   \n",
       "upper-middle income, adult              0.398944      0.081631   \n",
       "upper-middle income, senior             0.401645      0.081204   \n",
       "upper-middle income, young adult        0.356649      0.103067   \n",
       "\n",
       "loyalty_flag                      Regular customer  \n",
       "customer_profile                                    \n",
       "high-income, adult                        0.536931  \n",
       "high-income, senior                       0.489647  \n",
       "high-income, young adult                  0.439668  \n",
       "low-income, adult                         0.519134  \n",
       "low-income, senior                        0.497644  \n",
       "low-income, young adult                   0.516878  \n",
       "lower-middle income, adult                0.545329  \n",
       "lower-middle income, senior               0.468145  \n",
       "lower-middle income, young adult          0.506787  \n",
       "upper-middle income, adult                0.519425  \n",
       "upper-middle income, senior               0.517152  \n",
       "upper-middle income, young adult          0.540285  "
      ]
     },
     "execution_count": 44,
     "metadata": {},
     "output_type": "execute_result"
    }
   ],
   "source": [
    "ne_brand = pd.crosstab(df_ne['customer_profile'], df_ne['loyalty_flag'], normalize = 'index')\n",
    "ne_brand"
   ]
  },
  {
   "cell_type": "markdown",
   "id": "dcfb20ae-8d87-4096-97e4-1253ebcf001a",
   "metadata": {},
   "source": [
    "# 8.1.5. Product preferences"
   ]
  },
  {
   "cell_type": "markdown",
   "id": "a05ae679-7fb1-40a7-ad8d-b0ff15130918",
   "metadata": {},
   "source": [
    "# Highest frequency departments by region"
   ]
  },
  {
   "cell_type": "code",
   "execution_count": 45,
   "id": "8e8c12c5-2d43-4390-a005-57417e1140cd",
   "metadata": {},
   "outputs": [
    {
     "data": {
      "text/plain": [
       "department_id\n",
       "4     1269360\n",
       "16     729754\n",
       "19     389733\n",
       "7      367868\n",
       "1      283259\n",
       "13     243728\n",
       "3      157635\n",
       "20     139553\n",
       "15     137950\n",
       "9      110708\n",
       "Name: count, dtype: int64"
      ]
     },
     "execution_count": 45,
     "metadata": {},
     "output_type": "execute_result"
    }
   ],
   "source": [
    "df_ne['department_id'].value_counts(dropna = False).head(10)"
   ]
  },
  {
   "cell_type": "markdown",
   "id": "1ada6a11-744a-4977-838b-20e432fcf8f5",
   "metadata": {},
   "source": [
    "# Most popular products "
   ]
  },
  {
   "cell_type": "code",
   "execution_count": 46,
   "id": "bcc00594-59d1-4a0e-a0ae-992ae3deeb43",
   "metadata": {},
   "outputs": [
    {
     "data": {
      "text/plain": [
       "product_name\n",
       "Banana                    63398\n",
       "Bag of Organic Bananas    53545\n",
       "Organic Strawberries      35818\n",
       "Organic Baby Spinach      32368\n",
       "Organic Hass Avocado      30013\n",
       "Organic Avocado           22614\n",
       "Large Lemon               20794\n",
       "Organic Whole Milk        19805\n",
       "Organic Raspberries       19723\n",
       "Strawberries              18856\n",
       "Name: count, dtype: int64"
      ]
     },
     "execution_count": 46,
     "metadata": {},
     "output_type": "execute_result"
    }
   ],
   "source": [
    "df_ne['product_name'].value_counts(dropna=False).head(10)"
   ]
  },
  {
   "cell_type": "markdown",
   "id": "1fe8dd29-8c9e-41b8-bf5e-851d8d44060c",
   "metadata": {},
   "source": [
    "# Less popular products"
   ]
  },
  {
   "cell_type": "code",
   "execution_count": 47,
   "id": "f9cb8ac3-86b3-4e1f-a86a-6506e567836b",
   "metadata": {},
   "outputs": [
    {
     "data": {
      "text/plain": [
       "product_name\n",
       "Waffeletten Milk Fine European Biscuits                              1\n",
       "Minis, Vanilla                                                       1\n",
       "Mango Mango Fruit Puree & Juice Blend 100% Organic Fruit Smoothie    1\n",
       "Body Bar Soap Milk & Honey Complexion                                1\n",
       "Taco Night Blend                                                     1\n",
       "Salted Almond Chocolate Bar                                          1\n",
       "Number 4 Vim and Vigor Cold-Pressed Juice                            1\n",
       "Wrigley's 5 React2 Unique Mint Sugar-Free Gum                        1\n",
       "Classic Vegetables Crinkle Cut Carrots                               1\n",
       "Citron Vodka                                                         1\n",
       "Name: count, dtype: int64"
      ]
     },
     "execution_count": 47,
     "metadata": {},
     "output_type": "execute_result"
    }
   ],
   "source": [
    "df_ne['product_name'].value_counts(dropna=False).tail(10)"
   ]
  },
  {
   "cell_type": "markdown",
   "id": "a8a60fe4-761b-4c77-a71f-02149a6e52df",
   "metadata": {},
   "source": [
    "# 8.2. Midwest region"
   ]
  },
  {
   "cell_type": "markdown",
   "id": "8645c137-01d6-4f39-a087-1aae057f29fd",
   "metadata": {},
   "source": [
    "# Create subset of the dataframe for the Midewest region"
   ]
  },
  {
   "cell_type": "code",
   "execution_count": 48,
   "id": "2d9023da-9b12-4af3-b5a9-e36ae89fa7ef",
   "metadata": {},
   "outputs": [],
   "source": [
    "df_mw = df[df['region'] == 'Midwest']"
   ]
  },
  {
   "cell_type": "markdown",
   "id": "502720ce-d51b-4bc5-8ba9-34e1a758b51e",
   "metadata": {},
   "source": [
    "# Count the customers in the region"
   ]
  },
  {
   "cell_type": "code",
   "execution_count": 49,
   "id": "e26c7a7c-0fad-47e6-adbd-211201e8bd48",
   "metadata": {},
   "outputs": [
    {
     "data": {
      "text/plain": [
       "5711756"
      ]
     },
     "execution_count": 49,
     "metadata": {},
     "output_type": "execute_result"
    }
   ],
   "source": [
    "df_mw['user_id'].value_counts().sum()"
   ]
  },
  {
   "cell_type": "markdown",
   "id": "103df326-4872-4b17-bf7a-b84ce71efcdf",
   "metadata": {},
   "source": [
    "# 8.2.1. Demographic outlook"
   ]
  },
  {
   "cell_type": "markdown",
   "id": "e91414c3-8a42-4fe3-a379-ab415a624f62",
   "metadata": {},
   "source": [
    "# Check customer profile in region"
   ]
  },
  {
   "cell_type": "code",
   "execution_count": 50,
   "id": "9802d1a9-6ac6-4db7-b53b-fe3d0b570030",
   "metadata": {},
   "outputs": [
    {
     "data": {
      "text/plain": [
       "customer_profile\n",
       "high-income, adult                  873489\n",
       "upper-middle income, adult          848009\n",
       "low-income, adult                   721424\n",
       "lower-middle income, adult          707850\n",
       "high-income, senior                 575095\n",
       "upper-middle income, senior         538439\n",
       "lower-middle income, young adult    496120\n",
       "low-income, young adult             479058\n",
       "lower-middle income, senior         200167\n",
       "low-income, senior                  179051\n",
       "upper-middle income, young adult     79688\n",
       "high-income, young adult             13366\n",
       "Name: count, dtype: int64"
      ]
     },
     "execution_count": 50,
     "metadata": {},
     "output_type": "execute_result"
    }
   ],
   "source": [
    "df_mw['customer_profile'].value_counts()"
   ]
  },
  {
   "cell_type": "markdown",
   "id": "1e42c649-58c4-4e08-85da-9944d22c920a",
   "metadata": {},
   "source": [
    "# Check family status in region"
   ]
  },
  {
   "cell_type": "code",
   "execution_count": 51,
   "id": "09a0b7b5-2a74-495d-8537-d28662175bfa",
   "metadata": {},
   "outputs": [
    {
     "data": {
      "text/plain": [
       "family_status\n",
       "married                             3998815\n",
       "single                               951799\n",
       "divorced/widowed                     485162\n",
       "living with parents and siblings     275980\n",
       "Name: count, dtype: int64"
      ]
     },
     "execution_count": 51,
     "metadata": {},
     "output_type": "execute_result"
    }
   ],
   "source": [
    "df_mw['family_status'].value_counts()"
   ]
  },
  {
   "cell_type": "markdown",
   "id": "ca017898-2047-4b92-8cdf-bb4410e818ea",
   "metadata": {},
   "source": [
    "# Check number of dependents in region"
   ]
  },
  {
   "cell_type": "code",
   "execution_count": 52,
   "id": "d43a904f-6ab0-4d37-9765-2d65fcc525c4",
   "metadata": {},
   "outputs": [
    {
     "data": {
      "text/plain": [
       "dependants\n",
       "1    1454448\n",
       "0    1436961\n",
       "2    1419131\n",
       "3    1401216\n",
       "Name: count, dtype: int64"
      ]
     },
     "execution_count": 52,
     "metadata": {},
     "output_type": "execute_result"
    }
   ],
   "source": [
    "df_mw['dependants'].value_counts()"
   ]
  },
  {
   "cell_type": "markdown",
   "id": "7fae5db5-df21-4228-98c1-feac10a7d759",
   "metadata": {},
   "source": [
    "# 8.2.2. Spending habits"
   ]
  },
  {
   "cell_type": "markdown",
   "id": "95c22301-4724-44ab-bc2d-7ece8091e744",
   "metadata": {},
   "source": [
    "# Check stats for spendings in region"
   ]
  },
  {
   "cell_type": "code",
   "execution_count": 53,
   "id": "1547357f-e5a9-4ab1-be76-e8a23eccdc23",
   "metadata": {},
   "outputs": [
    {
     "data": {
      "text/plain": [
       "count    5.711756e+06\n",
       "mean     1.290103e+01\n",
       "std      5.803481e+02\n",
       "min      1.000000e+00\n",
       "25%      4.200000e+00\n",
       "50%      7.400000e+00\n",
       "75%      1.130000e+01\n",
       "max      9.999900e+04\n",
       "Name: prices, dtype: float64"
      ]
     },
     "execution_count": 53,
     "metadata": {},
     "output_type": "execute_result"
    }
   ],
   "source": [
    "df_mw['prices'].describe()"
   ]
  },
  {
   "cell_type": "markdown",
   "id": "5750a4f5-d7dc-46d5-a848-a53ee3d1e8a2",
   "metadata": {},
   "source": [
    "# Check customers spending habits in region"
   ]
  },
  {
   "cell_type": "code",
   "execution_count": 54,
   "id": "5b834b4d-828d-4431-a14a-87e11da86a53",
   "metadata": {},
   "outputs": [
    {
     "data": {
      "text/plain": [
       "spending_flag\n",
       "Low spender     5592548\n",
       "High spender     119208\n",
       "Name: count, dtype: int64"
      ]
     },
     "execution_count": 54,
     "metadata": {},
     "output_type": "execute_result"
    }
   ],
   "source": [
    "df_mw['spending_flag'].value_counts(dropna = False)"
   ]
  },
  {
   "cell_type": "markdown",
   "id": "b67059ba-5965-4ce0-bb44-54b0bb8720dd",
   "metadata": {},
   "source": [
    "# Check proportion of customer spending habits by customer profile"
   ]
  },
  {
   "cell_type": "code",
   "execution_count": 55,
   "id": "d7aaffbe-2ff9-4431-803c-772662cd139d",
   "metadata": {},
   "outputs": [
    {
     "data": {
      "text/html": [
       "<div>\n",
       "<style scoped>\n",
       "    .dataframe tbody tr th:only-of-type {\n",
       "        vertical-align: middle;\n",
       "    }\n",
       "\n",
       "    .dataframe tbody tr th {\n",
       "        vertical-align: top;\n",
       "    }\n",
       "\n",
       "    .dataframe thead th {\n",
       "        text-align: right;\n",
       "    }\n",
       "</style>\n",
       "<table border=\"1\" class=\"dataframe\">\n",
       "  <thead>\n",
       "    <tr style=\"text-align: right;\">\n",
       "      <th>spending_flag</th>\n",
       "      <th>High spender</th>\n",
       "      <th>Low spender</th>\n",
       "    </tr>\n",
       "    <tr>\n",
       "      <th>customer_profile</th>\n",
       "      <th></th>\n",
       "      <th></th>\n",
       "    </tr>\n",
       "  </thead>\n",
       "  <tbody>\n",
       "    <tr>\n",
       "      <th>high-income, adult</th>\n",
       "      <td>0.061075</td>\n",
       "      <td>0.938925</td>\n",
       "    </tr>\n",
       "    <tr>\n",
       "      <th>high-income, senior</th>\n",
       "      <td>0.035212</td>\n",
       "      <td>0.964788</td>\n",
       "    </tr>\n",
       "    <tr>\n",
       "      <th>high-income, young adult</th>\n",
       "      <td>1.000000</td>\n",
       "      <td>0.000000</td>\n",
       "    </tr>\n",
       "    <tr>\n",
       "      <th>low-income, adult</th>\n",
       "      <td>0.001544</td>\n",
       "      <td>0.998456</td>\n",
       "    </tr>\n",
       "    <tr>\n",
       "      <th>low-income, senior</th>\n",
       "      <td>0.000000</td>\n",
       "      <td>1.000000</td>\n",
       "    </tr>\n",
       "    <tr>\n",
       "      <th>low-income, young adult</th>\n",
       "      <td>0.002331</td>\n",
       "      <td>0.997669</td>\n",
       "    </tr>\n",
       "    <tr>\n",
       "      <th>lower-middle income, adult</th>\n",
       "      <td>0.006975</td>\n",
       "      <td>0.993025</td>\n",
       "    </tr>\n",
       "    <tr>\n",
       "      <th>lower-middle income, senior</th>\n",
       "      <td>0.004887</td>\n",
       "      <td>0.995113</td>\n",
       "    </tr>\n",
       "    <tr>\n",
       "      <th>lower-middle income, young adult</th>\n",
       "      <td>0.010308</td>\n",
       "      <td>0.989692</td>\n",
       "    </tr>\n",
       "    <tr>\n",
       "      <th>upper-middle income, adult</th>\n",
       "      <td>0.008598</td>\n",
       "      <td>0.991402</td>\n",
       "    </tr>\n",
       "    <tr>\n",
       "      <th>upper-middle income, senior</th>\n",
       "      <td>0.007420</td>\n",
       "      <td>0.992580</td>\n",
       "    </tr>\n",
       "    <tr>\n",
       "      <th>upper-middle income, young adult</th>\n",
       "      <td>0.049190</td>\n",
       "      <td>0.950810</td>\n",
       "    </tr>\n",
       "  </tbody>\n",
       "</table>\n",
       "</div>"
      ],
      "text/plain": [
       "spending_flag                     High spender  Low spender\n",
       "customer_profile                                           \n",
       "high-income, adult                    0.061075     0.938925\n",
       "high-income, senior                   0.035212     0.964788\n",
       "high-income, young adult              1.000000     0.000000\n",
       "low-income, adult                     0.001544     0.998456\n",
       "low-income, senior                    0.000000     1.000000\n",
       "low-income, young adult               0.002331     0.997669\n",
       "lower-middle income, adult            0.006975     0.993025\n",
       "lower-middle income, senior           0.004887     0.995113\n",
       "lower-middle income, young adult      0.010308     0.989692\n",
       "upper-middle income, adult            0.008598     0.991402\n",
       "upper-middle income, senior           0.007420     0.992580\n",
       "upper-middle income, young adult      0.049190     0.950810"
      ]
     },
     "execution_count": 55,
     "metadata": {},
     "output_type": "execute_result"
    }
   ],
   "source": [
    "mw_spendinghabits = pd.crosstab(df_ne['customer_profile'], df_ne['spending_flag'], normalize = 'index')\n",
    "mw_spendinghabits"
   ]
  },
  {
   "cell_type": "markdown",
   "id": "0ab8ed2a-b22b-4e67-8430-88192bb025f9",
   "metadata": {},
   "source": [
    "# Check preferences of customers spending range of prices in region "
   ]
  },
  {
   "cell_type": "code",
   "execution_count": 56,
   "id": "4fe4dd7a-86f8-4f35-9af5-efc74ac73696",
   "metadata": {},
   "outputs": [
    {
     "data": {
      "text/html": [
       "<div>\n",
       "<style scoped>\n",
       "    .dataframe tbody tr th:only-of-type {\n",
       "        vertical-align: middle;\n",
       "    }\n",
       "\n",
       "    .dataframe tbody tr th {\n",
       "        vertical-align: top;\n",
       "    }\n",
       "\n",
       "    .dataframe thead th {\n",
       "        text-align: right;\n",
       "    }\n",
       "</style>\n",
       "<table border=\"1\" class=\"dataframe\">\n",
       "  <thead>\n",
       "    <tr style=\"text-align: right;\">\n",
       "      <th>price_range_loc</th>\n",
       "      <th>High-range product</th>\n",
       "      <th>Low-range product</th>\n",
       "      <th>Mid-range product</th>\n",
       "    </tr>\n",
       "    <tr>\n",
       "      <th>customer_profile</th>\n",
       "      <th></th>\n",
       "      <th></th>\n",
       "      <th></th>\n",
       "    </tr>\n",
       "  </thead>\n",
       "  <tbody>\n",
       "    <tr>\n",
       "      <th>high-income, adult</th>\n",
       "      <td>0.014554</td>\n",
       "      <td>0.300051</td>\n",
       "      <td>0.685396</td>\n",
       "    </tr>\n",
       "    <tr>\n",
       "      <th>high-income, senior</th>\n",
       "      <td>0.014494</td>\n",
       "      <td>0.294240</td>\n",
       "      <td>0.691265</td>\n",
       "    </tr>\n",
       "    <tr>\n",
       "      <th>high-income, young adult</th>\n",
       "      <td>0.020177</td>\n",
       "      <td>0.313860</td>\n",
       "      <td>0.665963</td>\n",
       "    </tr>\n",
       "    <tr>\n",
       "      <th>low-income, adult</th>\n",
       "      <td>0.008614</td>\n",
       "      <td>0.361376</td>\n",
       "      <td>0.630011</td>\n",
       "    </tr>\n",
       "    <tr>\n",
       "      <th>low-income, senior</th>\n",
       "      <td>0.005212</td>\n",
       "      <td>0.407803</td>\n",
       "      <td>0.586985</td>\n",
       "    </tr>\n",
       "    <tr>\n",
       "      <th>low-income, young adult</th>\n",
       "      <td>0.010767</td>\n",
       "      <td>0.332167</td>\n",
       "      <td>0.657066</td>\n",
       "    </tr>\n",
       "    <tr>\n",
       "      <th>lower-middle income, adult</th>\n",
       "      <td>0.013212</td>\n",
       "      <td>0.296180</td>\n",
       "      <td>0.690608</td>\n",
       "    </tr>\n",
       "    <tr>\n",
       "      <th>lower-middle income, senior</th>\n",
       "      <td>0.013300</td>\n",
       "      <td>0.301601</td>\n",
       "      <td>0.685099</td>\n",
       "    </tr>\n",
       "    <tr>\n",
       "      <th>lower-middle income, young adult</th>\n",
       "      <td>0.012942</td>\n",
       "      <td>0.300979</td>\n",
       "      <td>0.686080</td>\n",
       "    </tr>\n",
       "    <tr>\n",
       "      <th>upper-middle income, adult</th>\n",
       "      <td>0.013661</td>\n",
       "      <td>0.297167</td>\n",
       "      <td>0.689172</td>\n",
       "    </tr>\n",
       "    <tr>\n",
       "      <th>upper-middle income, senior</th>\n",
       "      <td>0.013680</td>\n",
       "      <td>0.301891</td>\n",
       "      <td>0.684429</td>\n",
       "    </tr>\n",
       "    <tr>\n",
       "      <th>upper-middle income, young adult</th>\n",
       "      <td>0.012922</td>\n",
       "      <td>0.306566</td>\n",
       "      <td>0.680512</td>\n",
       "    </tr>\n",
       "  </tbody>\n",
       "</table>\n",
       "</div>"
      ],
      "text/plain": [
       "price_range_loc                   High-range product  Low-range product  \\\n",
       "customer_profile                                                          \n",
       "high-income, adult                          0.014554           0.300051   \n",
       "high-income, senior                         0.014494           0.294240   \n",
       "high-income, young adult                    0.020177           0.313860   \n",
       "low-income, adult                           0.008614           0.361376   \n",
       "low-income, senior                          0.005212           0.407803   \n",
       "low-income, young adult                     0.010767           0.332167   \n",
       "lower-middle income, adult                  0.013212           0.296180   \n",
       "lower-middle income, senior                 0.013300           0.301601   \n",
       "lower-middle income, young adult            0.012942           0.300979   \n",
       "upper-middle income, adult                  0.013661           0.297167   \n",
       "upper-middle income, senior                 0.013680           0.301891   \n",
       "upper-middle income, young adult            0.012922           0.306566   \n",
       "\n",
       "price_range_loc                   Mid-range product  \n",
       "customer_profile                                     \n",
       "high-income, adult                         0.685396  \n",
       "high-income, senior                        0.691265  \n",
       "high-income, young adult                   0.665963  \n",
       "low-income, adult                          0.630011  \n",
       "low-income, senior                         0.586985  \n",
       "low-income, young adult                    0.657066  \n",
       "lower-middle income, adult                 0.690608  \n",
       "lower-middle income, senior                0.685099  \n",
       "lower-middle income, young adult           0.686080  \n",
       "upper-middle income, adult                 0.689172  \n",
       "upper-middle income, senior                0.684429  \n",
       "upper-middle income, young adult           0.680512  "
      ]
     },
     "execution_count": 56,
     "metadata": {},
     "output_type": "execute_result"
    }
   ],
   "source": [
    "mw_prefcustomersrange = pd.crosstab(df_ne['customer_profile'], df_ne['price_range_loc'], normalize = 'index')\n",
    "mw_prefcustomersrange"
   ]
  },
  {
   "cell_type": "markdown",
   "id": "5c5e4c8f-1b59-446e-b52e-9d0a21197a69",
   "metadata": {},
   "source": [
    "# 8.2.3. Ordering habits"
   ]
  },
  {
   "cell_type": "markdown",
   "id": "4acfb0e3-46bb-4afd-b189-1061566db396",
   "metadata": {},
   "source": [
    "# Order stats by region"
   ]
  },
  {
   "cell_type": "code",
   "execution_count": 57,
   "id": "b699e716-3f06-42aa-8225-42ba29d52636",
   "metadata": {},
   "outputs": [
    {
     "data": {
      "text/plain": [
       "count    5.711756e+06\n",
       "mean     9.015581e+00\n",
       "std      5.798473e+00\n",
       "min      0.000000e+00\n",
       "25%      5.000000e+00\n",
       "50%      7.000000e+00\n",
       "75%      1.100000e+01\n",
       "max      3.000000e+01\n",
       "Name: median_days_between_orders, dtype: float64"
      ]
     },
     "execution_count": 57,
     "metadata": {},
     "output_type": "execute_result"
    }
   ],
   "source": [
    "df_mw['median_days_between_orders'].describe()"
   ]
  },
  {
   "cell_type": "markdown",
   "id": "db2f11bf-f1c2-4854-ae8f-2a41b95d0875",
   "metadata": {},
   "source": [
    "# Customer ordering habits"
   ]
  },
  {
   "cell_type": "code",
   "execution_count": 58,
   "id": "78082ac2-ccd0-40b8-a65a-21c4b9f454a4",
   "metadata": {},
   "outputs": [
    {
     "data": {
      "text/plain": [
       "order_frequency\n",
       "Frequent customer        4213478\n",
       "Regular customer         1148124\n",
       "Non-frequent customer     350154\n",
       "Name: count, dtype: int64"
      ]
     },
     "execution_count": 58,
     "metadata": {},
     "output_type": "execute_result"
    }
   ],
   "source": [
    "df_mw['order_frequency'].value_counts(dropna=False)"
   ]
  },
  {
   "cell_type": "markdown",
   "id": "700b1cfa-cefc-4b50-b6ff-1456865d8d56",
   "metadata": {},
   "source": [
    "# Profile of active customers"
   ]
  },
  {
   "cell_type": "code",
   "execution_count": 59,
   "id": "95873cc5-c617-46b7-845c-9d476a037f72",
   "metadata": {},
   "outputs": [
    {
     "data": {
      "text/html": [
       "<div>\n",
       "<style scoped>\n",
       "    .dataframe tbody tr th:only-of-type {\n",
       "        vertical-align: middle;\n",
       "    }\n",
       "\n",
       "    .dataframe tbody tr th {\n",
       "        vertical-align: top;\n",
       "    }\n",
       "\n",
       "    .dataframe thead th {\n",
       "        text-align: right;\n",
       "    }\n",
       "</style>\n",
       "<table border=\"1\" class=\"dataframe\">\n",
       "  <thead>\n",
       "    <tr style=\"text-align: right;\">\n",
       "      <th>order_frequency</th>\n",
       "      <th>Frequent customer</th>\n",
       "      <th>Non-frequent customer</th>\n",
       "      <th>Regular customer</th>\n",
       "    </tr>\n",
       "    <tr>\n",
       "      <th>customer_profile</th>\n",
       "      <th></th>\n",
       "      <th></th>\n",
       "      <th></th>\n",
       "    </tr>\n",
       "  </thead>\n",
       "  <tbody>\n",
       "    <tr>\n",
       "      <th>high-income, adult</th>\n",
       "      <td>0.731422</td>\n",
       "      <td>0.061314</td>\n",
       "      <td>0.207264</td>\n",
       "    </tr>\n",
       "    <tr>\n",
       "      <th>high-income, senior</th>\n",
       "      <td>0.764870</td>\n",
       "      <td>0.046853</td>\n",
       "      <td>0.188277</td>\n",
       "    </tr>\n",
       "    <tr>\n",
       "      <th>high-income, young adult</th>\n",
       "      <td>0.776606</td>\n",
       "      <td>0.019781</td>\n",
       "      <td>0.203613</td>\n",
       "    </tr>\n",
       "    <tr>\n",
       "      <th>low-income, adult</th>\n",
       "      <td>0.733563</td>\n",
       "      <td>0.064182</td>\n",
       "      <td>0.202255</td>\n",
       "    </tr>\n",
       "    <tr>\n",
       "      <th>low-income, senior</th>\n",
       "      <td>0.749740</td>\n",
       "      <td>0.070934</td>\n",
       "      <td>0.179326</td>\n",
       "    </tr>\n",
       "    <tr>\n",
       "      <th>low-income, young adult</th>\n",
       "      <td>0.736552</td>\n",
       "      <td>0.061364</td>\n",
       "      <td>0.202084</td>\n",
       "    </tr>\n",
       "    <tr>\n",
       "      <th>lower-middle income, adult</th>\n",
       "      <td>0.730392</td>\n",
       "      <td>0.061022</td>\n",
       "      <td>0.208586</td>\n",
       "    </tr>\n",
       "    <tr>\n",
       "      <th>lower-middle income, senior</th>\n",
       "      <td>0.766105</td>\n",
       "      <td>0.058995</td>\n",
       "      <td>0.174900</td>\n",
       "    </tr>\n",
       "    <tr>\n",
       "      <th>lower-middle income, young adult</th>\n",
       "      <td>0.767696</td>\n",
       "      <td>0.051115</td>\n",
       "      <td>0.181189</td>\n",
       "    </tr>\n",
       "    <tr>\n",
       "      <th>upper-middle income, adult</th>\n",
       "      <td>0.737500</td>\n",
       "      <td>0.059437</td>\n",
       "      <td>0.203063</td>\n",
       "    </tr>\n",
       "    <tr>\n",
       "      <th>upper-middle income, senior</th>\n",
       "      <td>0.740887</td>\n",
       "      <td>0.050923</td>\n",
       "      <td>0.208190</td>\n",
       "    </tr>\n",
       "    <tr>\n",
       "      <th>upper-middle income, young adult</th>\n",
       "      <td>0.723742</td>\n",
       "      <td>0.057805</td>\n",
       "      <td>0.218453</td>\n",
       "    </tr>\n",
       "  </tbody>\n",
       "</table>\n",
       "</div>"
      ],
      "text/plain": [
       "order_frequency                   Frequent customer  Non-frequent customer  \\\n",
       "customer_profile                                                             \n",
       "high-income, adult                         0.731422               0.061314   \n",
       "high-income, senior                        0.764870               0.046853   \n",
       "high-income, young adult                   0.776606               0.019781   \n",
       "low-income, adult                          0.733563               0.064182   \n",
       "low-income, senior                         0.749740               0.070934   \n",
       "low-income, young adult                    0.736552               0.061364   \n",
       "lower-middle income, adult                 0.730392               0.061022   \n",
       "lower-middle income, senior                0.766105               0.058995   \n",
       "lower-middle income, young adult           0.767696               0.051115   \n",
       "upper-middle income, adult                 0.737500               0.059437   \n",
       "upper-middle income, senior                0.740887               0.050923   \n",
       "upper-middle income, young adult           0.723742               0.057805   \n",
       "\n",
       "order_frequency                   Regular customer  \n",
       "customer_profile                                    \n",
       "high-income, adult                        0.207264  \n",
       "high-income, senior                       0.188277  \n",
       "high-income, young adult                  0.203613  \n",
       "low-income, adult                         0.202255  \n",
       "low-income, senior                        0.179326  \n",
       "low-income, young adult                   0.202084  \n",
       "lower-middle income, adult                0.208586  \n",
       "lower-middle income, senior               0.174900  \n",
       "lower-middle income, young adult          0.181189  \n",
       "upper-middle income, adult                0.203063  \n",
       "upper-middle income, senior               0.208190  \n",
       "upper-middle income, young adult          0.218453  "
      ]
     },
     "execution_count": 59,
     "metadata": {},
     "output_type": "execute_result"
    }
   ],
   "source": [
    "mw_activity = pd.crosstab(df_ne['customer_profile'], df_ne['order_frequency'], normalize = 'index')\n",
    "mw_activity"
   ]
  },
  {
   "cell_type": "markdown",
   "id": "306dae35-7615-418b-bc08-6e49bd2b35ab",
   "metadata": {},
   "source": [
    "# 8.2.4. Brand loyalty"
   ]
  },
  {
   "cell_type": "markdown",
   "id": "d529ceeb-a827-40c0-818c-441ac7660839",
   "metadata": {},
   "source": [
    "# Stats by loyalty in the region"
   ]
  },
  {
   "cell_type": "code",
   "execution_count": 60,
   "id": "1987038d-25b6-4652-85b4-774bcb67aef0",
   "metadata": {},
   "outputs": [
    {
     "data": {
      "text/plain": [
       "count    5.711756e+06\n",
       "mean     3.795887e+01\n",
       "std      2.471938e+01\n",
       "min      5.000000e+00\n",
       "25%      1.800000e+01\n",
       "50%      3.200000e+01\n",
       "75%      5.100000e+01\n",
       "max      9.900000e+01\n",
       "Name: max_order, dtype: float64"
      ]
     },
     "execution_count": 60,
     "metadata": {},
     "output_type": "execute_result"
    }
   ],
   "source": [
    "df_mw['max_order'].describe()"
   ]
  },
  {
   "cell_type": "markdown",
   "id": "3a2043a2-b253-4031-a39e-eadc6c757a7f",
   "metadata": {},
   "source": [
    "# Customer brand loyalty"
   ]
  },
  {
   "cell_type": "code",
   "execution_count": 61,
   "id": "d854100f-1275-4c31-aa4a-ce7322cfd0bf",
   "metadata": {},
   "outputs": [
    {
     "data": {
      "text/plain": [
       "loyalty_flag\n",
       "Regular customer    3007553\n",
       "Loyal customer      2204617\n",
       "New customer         499586\n",
       "Name: count, dtype: int64"
      ]
     },
     "execution_count": 61,
     "metadata": {},
     "output_type": "execute_result"
    }
   ],
   "source": [
    "df_mw['loyalty_flag'].value_counts(dropna=False)"
   ]
  },
  {
   "cell_type": "markdown",
   "id": "37ecaf61-58e1-44cd-9fe8-10c197a5c14c",
   "metadata": {},
   "source": [
    "# Brand loyalty by customer profile"
   ]
  },
  {
   "cell_type": "code",
   "execution_count": 62,
   "id": "ffc97cf3-05d3-4ae4-92df-01c3f7cad0dc",
   "metadata": {},
   "outputs": [
    {
     "data": {
      "text/html": [
       "<div>\n",
       "<style scoped>\n",
       "    .dataframe tbody tr th:only-of-type {\n",
       "        vertical-align: middle;\n",
       "    }\n",
       "\n",
       "    .dataframe tbody tr th {\n",
       "        vertical-align: top;\n",
       "    }\n",
       "\n",
       "    .dataframe thead th {\n",
       "        text-align: right;\n",
       "    }\n",
       "</style>\n",
       "<table border=\"1\" class=\"dataframe\">\n",
       "  <thead>\n",
       "    <tr style=\"text-align: right;\">\n",
       "      <th>loyalty_flag</th>\n",
       "      <th>Loyal customer</th>\n",
       "      <th>New customer</th>\n",
       "      <th>Regular customer</th>\n",
       "    </tr>\n",
       "    <tr>\n",
       "      <th>customer_profile</th>\n",
       "      <th></th>\n",
       "      <th></th>\n",
       "      <th></th>\n",
       "    </tr>\n",
       "  </thead>\n",
       "  <tbody>\n",
       "    <tr>\n",
       "      <th>high-income, adult</th>\n",
       "      <td>0.376185</td>\n",
       "      <td>0.086884</td>\n",
       "      <td>0.536931</td>\n",
       "    </tr>\n",
       "    <tr>\n",
       "      <th>high-income, senior</th>\n",
       "      <td>0.427699</td>\n",
       "      <td>0.082654</td>\n",
       "      <td>0.489647</td>\n",
       "    </tr>\n",
       "    <tr>\n",
       "      <th>high-income, young adult</th>\n",
       "      <td>0.491626</td>\n",
       "      <td>0.068706</td>\n",
       "      <td>0.439668</td>\n",
       "    </tr>\n",
       "    <tr>\n",
       "      <th>low-income, adult</th>\n",
       "      <td>0.388132</td>\n",
       "      <td>0.092734</td>\n",
       "      <td>0.519134</td>\n",
       "    </tr>\n",
       "    <tr>\n",
       "      <th>low-income, senior</th>\n",
       "      <td>0.402473</td>\n",
       "      <td>0.099883</td>\n",
       "      <td>0.497644</td>\n",
       "    </tr>\n",
       "    <tr>\n",
       "      <th>low-income, young adult</th>\n",
       "      <td>0.393456</td>\n",
       "      <td>0.089665</td>\n",
       "      <td>0.516878</td>\n",
       "    </tr>\n",
       "    <tr>\n",
       "      <th>lower-middle income, adult</th>\n",
       "      <td>0.365743</td>\n",
       "      <td>0.088928</td>\n",
       "      <td>0.545329</td>\n",
       "    </tr>\n",
       "    <tr>\n",
       "      <th>lower-middle income, senior</th>\n",
       "      <td>0.453041</td>\n",
       "      <td>0.078814</td>\n",
       "      <td>0.468145</td>\n",
       "    </tr>\n",
       "    <tr>\n",
       "      <th>lower-middle income, young adult</th>\n",
       "      <td>0.415445</td>\n",
       "      <td>0.077768</td>\n",
       "      <td>0.506787</td>\n",
       "    </tr>\n",
       "    <tr>\n",
       "      <th>upper-middle income, adult</th>\n",
       "      <td>0.398944</td>\n",
       "      <td>0.081631</td>\n",
       "      <td>0.519425</td>\n",
       "    </tr>\n",
       "    <tr>\n",
       "      <th>upper-middle income, senior</th>\n",
       "      <td>0.401645</td>\n",
       "      <td>0.081204</td>\n",
       "      <td>0.517152</td>\n",
       "    </tr>\n",
       "    <tr>\n",
       "      <th>upper-middle income, young adult</th>\n",
       "      <td>0.356649</td>\n",
       "      <td>0.103067</td>\n",
       "      <td>0.540285</td>\n",
       "    </tr>\n",
       "  </tbody>\n",
       "</table>\n",
       "</div>"
      ],
      "text/plain": [
       "loyalty_flag                      Loyal customer  New customer  \\\n",
       "customer_profile                                                 \n",
       "high-income, adult                      0.376185      0.086884   \n",
       "high-income, senior                     0.427699      0.082654   \n",
       "high-income, young adult                0.491626      0.068706   \n",
       "low-income, adult                       0.388132      0.092734   \n",
       "low-income, senior                      0.402473      0.099883   \n",
       "low-income, young adult                 0.393456      0.089665   \n",
       "lower-middle income, adult              0.365743      0.088928   \n",
       "lower-middle income, senior             0.453041      0.078814   \n",
       "lower-middle income, young adult        0.415445      0.077768   \n",
       "upper-middle income, adult              0.398944      0.081631   \n",
       "upper-middle income, senior             0.401645      0.081204   \n",
       "upper-middle income, young adult        0.356649      0.103067   \n",
       "\n",
       "loyalty_flag                      Regular customer  \n",
       "customer_profile                                    \n",
       "high-income, adult                        0.536931  \n",
       "high-income, senior                       0.489647  \n",
       "high-income, young adult                  0.439668  \n",
       "low-income, adult                         0.519134  \n",
       "low-income, senior                        0.497644  \n",
       "low-income, young adult                   0.516878  \n",
       "lower-middle income, adult                0.545329  \n",
       "lower-middle income, senior               0.468145  \n",
       "lower-middle income, young adult          0.506787  \n",
       "upper-middle income, adult                0.519425  \n",
       "upper-middle income, senior               0.517152  \n",
       "upper-middle income, young adult          0.540285  "
      ]
     },
     "execution_count": 62,
     "metadata": {},
     "output_type": "execute_result"
    }
   ],
   "source": [
    "mw_brand = pd.crosstab(df_ne['customer_profile'], df_ne['loyalty_flag'], normalize = 'index')\n",
    "mw_brand"
   ]
  },
  {
   "cell_type": "markdown",
   "id": "5955f78f-0245-421b-9327-803150633f5b",
   "metadata": {},
   "source": [
    "# 8.2.5. Product preferences"
   ]
  },
  {
   "cell_type": "markdown",
   "id": "f528d3ad-754e-4294-b5ae-9239f77cf5d2",
   "metadata": {},
   "source": [
    "# Highest frequency departments by region"
   ]
  },
  {
   "cell_type": "code",
   "execution_count": 63,
   "id": "0b879ea2-5422-4f3e-9198-24c4f041091c",
   "metadata": {},
   "outputs": [
    {
     "data": {
      "text/plain": [
       "department_id\n",
       "4     1695851\n",
       "16     962300\n",
       "19     509148\n",
       "7      472243\n",
       "1      381094\n",
       "13     326376\n",
       "3      205374\n",
       "15     184194\n",
       "20     182735\n",
       "9      148529\n",
       "Name: count, dtype: int64"
      ]
     },
     "execution_count": 63,
     "metadata": {},
     "output_type": "execute_result"
    }
   ],
   "source": [
    "df_mw['department_id'].value_counts(dropna = False).head(10)"
   ]
  },
  {
   "cell_type": "markdown",
   "id": "45ea51e8-1d9c-4569-943b-b1171786266f",
   "metadata": {},
   "source": [
    "# Most popular products "
   ]
  },
  {
   "cell_type": "code",
   "execution_count": 64,
   "id": "7597aca7-3714-4b28-a3a6-0c1f994e10f5",
   "metadata": {},
   "outputs": [
    {
     "data": {
      "text/plain": [
       "product_name\n",
       "Banana                    83575\n",
       "Bag of Organic Bananas    71369\n",
       "Organic Strawberries      46982\n",
       "Organic Baby Spinach      42715\n",
       "Organic Hass Avocado      39170\n",
       "Organic Avocado           29048\n",
       "Large Lemon               28853\n",
       "Organic Raspberries       25822\n",
       "Strawberries              25415\n",
       "Limes                     25080\n",
       "Name: count, dtype: int64"
      ]
     },
     "execution_count": 64,
     "metadata": {},
     "output_type": "execute_result"
    }
   ],
   "source": [
    "df_mw['product_name'].value_counts(dropna=False).head(10)"
   ]
  },
  {
   "cell_type": "markdown",
   "id": "1a8095c1-ff8b-474b-8a66-bcfc7540e2c1",
   "metadata": {},
   "source": [
    "# Less popular products"
   ]
  },
  {
   "cell_type": "markdown",
   "id": "43c82aa2-85f4-4278-8315-df38de3897ed",
   "metadata": {},
   "source": [
    "df_mw['product_name'].value_counts(dropna=False).tail(10)"
   ]
  },
  {
   "cell_type": "markdown",
   "id": "1d011c13-60a8-436a-8f46-73abbc403341",
   "metadata": {},
   "source": [
    "# 8.3. South region"
   ]
  },
  {
   "cell_type": "markdown",
   "id": "147138d5-9c7d-40f8-a372-df3e27c131e2",
   "metadata": {},
   "source": [
    "# Create subset of the dataframe for the South region"
   ]
  },
  {
   "cell_type": "code",
   "execution_count": 65,
   "id": "518b7f69-0086-4196-a3d6-2b5e7b26cb86",
   "metadata": {},
   "outputs": [],
   "source": [
    "df_st = df[df['region'] == 'South']"
   ]
  },
  {
   "cell_type": "markdown",
   "id": "ca3d034f-ddb5-4473-977b-3e1cf3542ad9",
   "metadata": {},
   "source": [
    "# Count the customers in the region"
   ]
  },
  {
   "cell_type": "code",
   "execution_count": 66,
   "id": "abead3be-d63f-43c3-be5a-d114762d4d5e",
   "metadata": {},
   "outputs": [
    {
     "data": {
      "text/plain": [
       "8129086"
      ]
     },
     "execution_count": 66,
     "metadata": {},
     "output_type": "execute_result"
    }
   ],
   "source": [
    "df_st['user_id'].value_counts().sum()"
   ]
  },
  {
   "cell_type": "markdown",
   "id": "c7ebd607-37fc-4d4b-a3a5-c03e497bb40e",
   "metadata": {},
   "source": [
    "# 8.3.1. Demographic outlook"
   ]
  },
  {
   "cell_type": "markdown",
   "id": "53279d85-8766-4452-88a3-62c367443a3c",
   "metadata": {},
   "source": [
    "# Check customer profile in region"
   ]
  },
  {
   "cell_type": "code",
   "execution_count": 67,
   "id": "c7cc0c85-e14c-4fc3-8628-64aa49842460",
   "metadata": {},
   "outputs": [
    {
     "data": {
      "text/plain": [
       "customer_profile\n",
       "high-income, adult                  1178805\n",
       "upper-middle income, adult          1139096\n",
       "lower-middle income, adult          1088331\n",
       "low-income, adult                   1042965\n",
       "high-income, senior                  821626\n",
       "upper-middle income, senior          749068\n",
       "lower-middle income, young adult     719484\n",
       "low-income, young adult              698885\n",
       "lower-middle income, senior          295809\n",
       "low-income, senior                   267089\n",
       "upper-middle income, young adult     106997\n",
       "high-income, young adult              20931\n",
       "Name: count, dtype: int64"
      ]
     },
     "execution_count": 67,
     "metadata": {},
     "output_type": "execute_result"
    }
   ],
   "source": [
    "df_st['customer_profile'].value_counts()"
   ]
  },
  {
   "cell_type": "markdown",
   "id": "81dc1a9d-4524-4c49-b7af-a062cc2711d5",
   "metadata": {},
   "source": [
    "# Check family status in region"
   ]
  },
  {
   "cell_type": "code",
   "execution_count": 68,
   "id": "45ad5baf-cbb2-40b5-b53b-86cdb679714a",
   "metadata": {},
   "outputs": [
    {
     "data": {
      "text/plain": [
       "family_status\n",
       "married                             5691531\n",
       "single                              1344892\n",
       "divorced/widowed                     693442\n",
       "living with parents and siblings     399221\n",
       "Name: count, dtype: int64"
      ]
     },
     "execution_count": 68,
     "metadata": {},
     "output_type": "execute_result"
    }
   ],
   "source": [
    "df_st['family_status'].value_counts()"
   ]
  },
  {
   "cell_type": "markdown",
   "id": "03b3abf0-57e9-4b4f-83f8-115efd55757b",
   "metadata": {},
   "source": [
    "# Check number of dependents in region"
   ]
  },
  {
   "cell_type": "code",
   "execution_count": 69,
   "id": "06bbcbc2-b4d7-41b8-80ec-0681c52d158e",
   "metadata": {},
   "outputs": [
    {
     "data": {
      "text/plain": [
       "dependants\n",
       "2    2053468\n",
       "3    2039432\n",
       "0    2038334\n",
       "1    1997852\n",
       "Name: count, dtype: int64"
      ]
     },
     "execution_count": 69,
     "metadata": {},
     "output_type": "execute_result"
    }
   ],
   "source": [
    "df_st['dependants'].value_counts()"
   ]
  },
  {
   "cell_type": "markdown",
   "id": "663e7dfb-2566-47ac-bdde-309cf51bcfae",
   "metadata": {},
   "source": [
    "# 8.3.2. Spending habits"
   ]
  },
  {
   "cell_type": "markdown",
   "id": "26c65658-4fb2-4919-be46-e4b31de2fe38",
   "metadata": {},
   "source": [
    "# Check stats for spendings in region"
   ]
  },
  {
   "cell_type": "code",
   "execution_count": 70,
   "id": "b4683125-b2b7-4034-816e-261c4166335d",
   "metadata": {},
   "outputs": [
    {
     "data": {
      "text/plain": [
       "count    8.129086e+06\n",
       "mean     1.207741e+01\n",
       "std      5.032178e+02\n",
       "min      1.000000e+00\n",
       "25%      4.200000e+00\n",
       "50%      7.400000e+00\n",
       "75%      1.130000e+01\n",
       "max      9.999900e+04\n",
       "Name: prices, dtype: float64"
      ]
     },
     "execution_count": 70,
     "metadata": {},
     "output_type": "execute_result"
    }
   ],
   "source": [
    "df_st['prices'].describe()"
   ]
  },
  {
   "cell_type": "markdown",
   "id": "d1c17ea0-4aa6-43a8-b3cd-82d265797c42",
   "metadata": {},
   "source": [
    "# Check customers spending habits in region"
   ]
  },
  {
   "cell_type": "code",
   "execution_count": 71,
   "id": "cc980ea0-7f22-42ac-93e1-d30631e10ab9",
   "metadata": {},
   "outputs": [
    {
     "data": {
      "text/plain": [
       "spending_flag\n",
       "Low spender     7969858\n",
       "High spender     159228\n",
       "Name: count, dtype: int64"
      ]
     },
     "execution_count": 71,
     "metadata": {},
     "output_type": "execute_result"
    }
   ],
   "source": [
    "df_st['spending_flag'].value_counts(dropna = False)"
   ]
  },
  {
   "cell_type": "markdown",
   "id": "91cdc9cf-91a1-4c2f-b9ce-6fa46ac5784a",
   "metadata": {},
   "source": [
    "# Check proportion of customer spending habits by customer profile"
   ]
  },
  {
   "cell_type": "code",
   "execution_count": 72,
   "id": "a294c9c6-2645-4330-9f5a-a1d9f2f665e0",
   "metadata": {},
   "outputs": [
    {
     "data": {
      "text/html": [
       "<div>\n",
       "<style scoped>\n",
       "    .dataframe tbody tr th:only-of-type {\n",
       "        vertical-align: middle;\n",
       "    }\n",
       "\n",
       "    .dataframe tbody tr th {\n",
       "        vertical-align: top;\n",
       "    }\n",
       "\n",
       "    .dataframe thead th {\n",
       "        text-align: right;\n",
       "    }\n",
       "</style>\n",
       "<table border=\"1\" class=\"dataframe\">\n",
       "  <thead>\n",
       "    <tr style=\"text-align: right;\">\n",
       "      <th>spending_flag</th>\n",
       "      <th>High spender</th>\n",
       "      <th>Low spender</th>\n",
       "    </tr>\n",
       "    <tr>\n",
       "      <th>customer_profile</th>\n",
       "      <th></th>\n",
       "      <th></th>\n",
       "    </tr>\n",
       "  </thead>\n",
       "  <tbody>\n",
       "    <tr>\n",
       "      <th>high-income, adult</th>\n",
       "      <td>0.061075</td>\n",
       "      <td>0.938925</td>\n",
       "    </tr>\n",
       "    <tr>\n",
       "      <th>high-income, senior</th>\n",
       "      <td>0.035212</td>\n",
       "      <td>0.964788</td>\n",
       "    </tr>\n",
       "    <tr>\n",
       "      <th>high-income, young adult</th>\n",
       "      <td>1.000000</td>\n",
       "      <td>0.000000</td>\n",
       "    </tr>\n",
       "    <tr>\n",
       "      <th>low-income, adult</th>\n",
       "      <td>0.001544</td>\n",
       "      <td>0.998456</td>\n",
       "    </tr>\n",
       "    <tr>\n",
       "      <th>low-income, senior</th>\n",
       "      <td>0.000000</td>\n",
       "      <td>1.000000</td>\n",
       "    </tr>\n",
       "    <tr>\n",
       "      <th>low-income, young adult</th>\n",
       "      <td>0.002331</td>\n",
       "      <td>0.997669</td>\n",
       "    </tr>\n",
       "    <tr>\n",
       "      <th>lower-middle income, adult</th>\n",
       "      <td>0.006975</td>\n",
       "      <td>0.993025</td>\n",
       "    </tr>\n",
       "    <tr>\n",
       "      <th>lower-middle income, senior</th>\n",
       "      <td>0.004887</td>\n",
       "      <td>0.995113</td>\n",
       "    </tr>\n",
       "    <tr>\n",
       "      <th>lower-middle income, young adult</th>\n",
       "      <td>0.010308</td>\n",
       "      <td>0.989692</td>\n",
       "    </tr>\n",
       "    <tr>\n",
       "      <th>upper-middle income, adult</th>\n",
       "      <td>0.008598</td>\n",
       "      <td>0.991402</td>\n",
       "    </tr>\n",
       "    <tr>\n",
       "      <th>upper-middle income, senior</th>\n",
       "      <td>0.007420</td>\n",
       "      <td>0.992580</td>\n",
       "    </tr>\n",
       "    <tr>\n",
       "      <th>upper-middle income, young adult</th>\n",
       "      <td>0.049190</td>\n",
       "      <td>0.950810</td>\n",
       "    </tr>\n",
       "  </tbody>\n",
       "</table>\n",
       "</div>"
      ],
      "text/plain": [
       "spending_flag                     High spender  Low spender\n",
       "customer_profile                                           \n",
       "high-income, adult                    0.061075     0.938925\n",
       "high-income, senior                   0.035212     0.964788\n",
       "high-income, young adult              1.000000     0.000000\n",
       "low-income, adult                     0.001544     0.998456\n",
       "low-income, senior                    0.000000     1.000000\n",
       "low-income, young adult               0.002331     0.997669\n",
       "lower-middle income, adult            0.006975     0.993025\n",
       "lower-middle income, senior           0.004887     0.995113\n",
       "lower-middle income, young adult      0.010308     0.989692\n",
       "upper-middle income, adult            0.008598     0.991402\n",
       "upper-middle income, senior           0.007420     0.992580\n",
       "upper-middle income, young adult      0.049190     0.950810"
      ]
     },
     "execution_count": 72,
     "metadata": {},
     "output_type": "execute_result"
    }
   ],
   "source": [
    "st_spendinghabits = pd.crosstab(df_ne['customer_profile'], df_ne['spending_flag'], normalize = 'index')\n",
    "st_spendinghabits"
   ]
  },
  {
   "cell_type": "markdown",
   "id": "47d1e7de-fae7-45f1-9aea-bb068e023b49",
   "metadata": {},
   "source": [
    "# Check preferences of customers spending range of prices in region "
   ]
  },
  {
   "cell_type": "code",
   "execution_count": 73,
   "id": "fca3aecd-3c48-439d-9ccd-ce06f7db2865",
   "metadata": {},
   "outputs": [
    {
     "data": {
      "text/html": [
       "<div>\n",
       "<style scoped>\n",
       "    .dataframe tbody tr th:only-of-type {\n",
       "        vertical-align: middle;\n",
       "    }\n",
       "\n",
       "    .dataframe tbody tr th {\n",
       "        vertical-align: top;\n",
       "    }\n",
       "\n",
       "    .dataframe thead th {\n",
       "        text-align: right;\n",
       "    }\n",
       "</style>\n",
       "<table border=\"1\" class=\"dataframe\">\n",
       "  <thead>\n",
       "    <tr style=\"text-align: right;\">\n",
       "      <th>price_range_loc</th>\n",
       "      <th>High-range product</th>\n",
       "      <th>Low-range product</th>\n",
       "      <th>Mid-range product</th>\n",
       "    </tr>\n",
       "    <tr>\n",
       "      <th>customer_profile</th>\n",
       "      <th></th>\n",
       "      <th></th>\n",
       "      <th></th>\n",
       "    </tr>\n",
       "  </thead>\n",
       "  <tbody>\n",
       "    <tr>\n",
       "      <th>high-income, adult</th>\n",
       "      <td>0.014554</td>\n",
       "      <td>0.300051</td>\n",
       "      <td>0.685396</td>\n",
       "    </tr>\n",
       "    <tr>\n",
       "      <th>high-income, senior</th>\n",
       "      <td>0.014494</td>\n",
       "      <td>0.294240</td>\n",
       "      <td>0.691265</td>\n",
       "    </tr>\n",
       "    <tr>\n",
       "      <th>high-income, young adult</th>\n",
       "      <td>0.020177</td>\n",
       "      <td>0.313860</td>\n",
       "      <td>0.665963</td>\n",
       "    </tr>\n",
       "    <tr>\n",
       "      <th>low-income, adult</th>\n",
       "      <td>0.008614</td>\n",
       "      <td>0.361376</td>\n",
       "      <td>0.630011</td>\n",
       "    </tr>\n",
       "    <tr>\n",
       "      <th>low-income, senior</th>\n",
       "      <td>0.005212</td>\n",
       "      <td>0.407803</td>\n",
       "      <td>0.586985</td>\n",
       "    </tr>\n",
       "    <tr>\n",
       "      <th>low-income, young adult</th>\n",
       "      <td>0.010767</td>\n",
       "      <td>0.332167</td>\n",
       "      <td>0.657066</td>\n",
       "    </tr>\n",
       "    <tr>\n",
       "      <th>lower-middle income, adult</th>\n",
       "      <td>0.013212</td>\n",
       "      <td>0.296180</td>\n",
       "      <td>0.690608</td>\n",
       "    </tr>\n",
       "    <tr>\n",
       "      <th>lower-middle income, senior</th>\n",
       "      <td>0.013300</td>\n",
       "      <td>0.301601</td>\n",
       "      <td>0.685099</td>\n",
       "    </tr>\n",
       "    <tr>\n",
       "      <th>lower-middle income, young adult</th>\n",
       "      <td>0.012942</td>\n",
       "      <td>0.300979</td>\n",
       "      <td>0.686080</td>\n",
       "    </tr>\n",
       "    <tr>\n",
       "      <th>upper-middle income, adult</th>\n",
       "      <td>0.013661</td>\n",
       "      <td>0.297167</td>\n",
       "      <td>0.689172</td>\n",
       "    </tr>\n",
       "    <tr>\n",
       "      <th>upper-middle income, senior</th>\n",
       "      <td>0.013680</td>\n",
       "      <td>0.301891</td>\n",
       "      <td>0.684429</td>\n",
       "    </tr>\n",
       "    <tr>\n",
       "      <th>upper-middle income, young adult</th>\n",
       "      <td>0.012922</td>\n",
       "      <td>0.306566</td>\n",
       "      <td>0.680512</td>\n",
       "    </tr>\n",
       "  </tbody>\n",
       "</table>\n",
       "</div>"
      ],
      "text/plain": [
       "price_range_loc                   High-range product  Low-range product  \\\n",
       "customer_profile                                                          \n",
       "high-income, adult                          0.014554           0.300051   \n",
       "high-income, senior                         0.014494           0.294240   \n",
       "high-income, young adult                    0.020177           0.313860   \n",
       "low-income, adult                           0.008614           0.361376   \n",
       "low-income, senior                          0.005212           0.407803   \n",
       "low-income, young adult                     0.010767           0.332167   \n",
       "lower-middle income, adult                  0.013212           0.296180   \n",
       "lower-middle income, senior                 0.013300           0.301601   \n",
       "lower-middle income, young adult            0.012942           0.300979   \n",
       "upper-middle income, adult                  0.013661           0.297167   \n",
       "upper-middle income, senior                 0.013680           0.301891   \n",
       "upper-middle income, young adult            0.012922           0.306566   \n",
       "\n",
       "price_range_loc                   Mid-range product  \n",
       "customer_profile                                     \n",
       "high-income, adult                         0.685396  \n",
       "high-income, senior                        0.691265  \n",
       "high-income, young adult                   0.665963  \n",
       "low-income, adult                          0.630011  \n",
       "low-income, senior                         0.586985  \n",
       "low-income, young adult                    0.657066  \n",
       "lower-middle income, adult                 0.690608  \n",
       "lower-middle income, senior                0.685099  \n",
       "lower-middle income, young adult           0.686080  \n",
       "upper-middle income, adult                 0.689172  \n",
       "upper-middle income, senior                0.684429  \n",
       "upper-middle income, young adult           0.680512  "
      ]
     },
     "execution_count": 73,
     "metadata": {},
     "output_type": "execute_result"
    }
   ],
   "source": [
    "st_prefcustomersrange = pd.crosstab(df_ne['customer_profile'], df_ne['price_range_loc'], normalize = 'index')\n",
    "st_prefcustomersrange"
   ]
  },
  {
   "cell_type": "markdown",
   "id": "ce3ad4e2-3751-4e0b-8cd3-8d025945781c",
   "metadata": {},
   "source": [
    "# 8.3.3. Ordering habits"
   ]
  },
  {
   "cell_type": "markdown",
   "id": "da5075fa-f27d-4d34-9b0a-ced06b1f140f",
   "metadata": {},
   "source": [
    "# Order stats by region"
   ]
  },
  {
   "cell_type": "code",
   "execution_count": 74,
   "id": "0de0eda4-df23-4af1-8441-dc9f7e25b0ef",
   "metadata": {},
   "outputs": [
    {
     "data": {
      "text/plain": [
       "count    8.129086e+06\n",
       "mean     8.951179e+00\n",
       "std      5.800742e+00\n",
       "min      0.000000e+00\n",
       "25%      5.000000e+00\n",
       "50%      7.000000e+00\n",
       "75%      1.100000e+01\n",
       "max      3.000000e+01\n",
       "Name: median_days_between_orders, dtype: float64"
      ]
     },
     "execution_count": 74,
     "metadata": {},
     "output_type": "execute_result"
    }
   ],
   "source": [
    "df_st['median_days_between_orders'].describe()\n"
   ]
  },
  {
   "cell_type": "markdown",
   "id": "bacb1a24-cfcd-49ab-83c0-d70987a61684",
   "metadata": {},
   "source": [
    "# Customer ordering habits"
   ]
  },
  {
   "cell_type": "code",
   "execution_count": 75,
   "id": "c7bd62c7-b9f8-499f-9df7-caa4eb021c72",
   "metadata": {},
   "outputs": [
    {
     "data": {
      "text/plain": [
       "order_frequency\n",
       "Frequent customer        6049059\n",
       "Regular customer         1589730\n",
       "Non-frequent customer     490297\n",
       "Name: count, dtype: int64"
      ]
     },
     "execution_count": 75,
     "metadata": {},
     "output_type": "execute_result"
    }
   ],
   "source": [
    "df_st['order_frequency'].value_counts(dropna=False)\n"
   ]
  },
  {
   "cell_type": "markdown",
   "id": "c1c56da7-0eb3-4ce1-a671-a3649155e04e",
   "metadata": {},
   "source": [
    "# Profile of active customers"
   ]
  },
  {
   "cell_type": "code",
   "execution_count": 76,
   "id": "e848caa0-fc1e-409a-acfe-9ab35e64aba1",
   "metadata": {},
   "outputs": [
    {
     "data": {
      "text/html": [
       "<div>\n",
       "<style scoped>\n",
       "    .dataframe tbody tr th:only-of-type {\n",
       "        vertical-align: middle;\n",
       "    }\n",
       "\n",
       "    .dataframe tbody tr th {\n",
       "        vertical-align: top;\n",
       "    }\n",
       "\n",
       "    .dataframe thead th {\n",
       "        text-align: right;\n",
       "    }\n",
       "</style>\n",
       "<table border=\"1\" class=\"dataframe\">\n",
       "  <thead>\n",
       "    <tr style=\"text-align: right;\">\n",
       "      <th>order_frequency</th>\n",
       "      <th>Frequent customer</th>\n",
       "      <th>Non-frequent customer</th>\n",
       "      <th>Regular customer</th>\n",
       "    </tr>\n",
       "    <tr>\n",
       "      <th>customer_profile</th>\n",
       "      <th></th>\n",
       "      <th></th>\n",
       "      <th></th>\n",
       "    </tr>\n",
       "  </thead>\n",
       "  <tbody>\n",
       "    <tr>\n",
       "      <th>high-income, adult</th>\n",
       "      <td>0.731422</td>\n",
       "      <td>0.061314</td>\n",
       "      <td>0.207264</td>\n",
       "    </tr>\n",
       "    <tr>\n",
       "      <th>high-income, senior</th>\n",
       "      <td>0.764870</td>\n",
       "      <td>0.046853</td>\n",
       "      <td>0.188277</td>\n",
       "    </tr>\n",
       "    <tr>\n",
       "      <th>high-income, young adult</th>\n",
       "      <td>0.776606</td>\n",
       "      <td>0.019781</td>\n",
       "      <td>0.203613</td>\n",
       "    </tr>\n",
       "    <tr>\n",
       "      <th>low-income, adult</th>\n",
       "      <td>0.733563</td>\n",
       "      <td>0.064182</td>\n",
       "      <td>0.202255</td>\n",
       "    </tr>\n",
       "    <tr>\n",
       "      <th>low-income, senior</th>\n",
       "      <td>0.749740</td>\n",
       "      <td>0.070934</td>\n",
       "      <td>0.179326</td>\n",
       "    </tr>\n",
       "    <tr>\n",
       "      <th>low-income, young adult</th>\n",
       "      <td>0.736552</td>\n",
       "      <td>0.061364</td>\n",
       "      <td>0.202084</td>\n",
       "    </tr>\n",
       "    <tr>\n",
       "      <th>lower-middle income, adult</th>\n",
       "      <td>0.730392</td>\n",
       "      <td>0.061022</td>\n",
       "      <td>0.208586</td>\n",
       "    </tr>\n",
       "    <tr>\n",
       "      <th>lower-middle income, senior</th>\n",
       "      <td>0.766105</td>\n",
       "      <td>0.058995</td>\n",
       "      <td>0.174900</td>\n",
       "    </tr>\n",
       "    <tr>\n",
       "      <th>lower-middle income, young adult</th>\n",
       "      <td>0.767696</td>\n",
       "      <td>0.051115</td>\n",
       "      <td>0.181189</td>\n",
       "    </tr>\n",
       "    <tr>\n",
       "      <th>upper-middle income, adult</th>\n",
       "      <td>0.737500</td>\n",
       "      <td>0.059437</td>\n",
       "      <td>0.203063</td>\n",
       "    </tr>\n",
       "    <tr>\n",
       "      <th>upper-middle income, senior</th>\n",
       "      <td>0.740887</td>\n",
       "      <td>0.050923</td>\n",
       "      <td>0.208190</td>\n",
       "    </tr>\n",
       "    <tr>\n",
       "      <th>upper-middle income, young adult</th>\n",
       "      <td>0.723742</td>\n",
       "      <td>0.057805</td>\n",
       "      <td>0.218453</td>\n",
       "    </tr>\n",
       "  </tbody>\n",
       "</table>\n",
       "</div>"
      ],
      "text/plain": [
       "order_frequency                   Frequent customer  Non-frequent customer  \\\n",
       "customer_profile                                                             \n",
       "high-income, adult                         0.731422               0.061314   \n",
       "high-income, senior                        0.764870               0.046853   \n",
       "high-income, young adult                   0.776606               0.019781   \n",
       "low-income, adult                          0.733563               0.064182   \n",
       "low-income, senior                         0.749740               0.070934   \n",
       "low-income, young adult                    0.736552               0.061364   \n",
       "lower-middle income, adult                 0.730392               0.061022   \n",
       "lower-middle income, senior                0.766105               0.058995   \n",
       "lower-middle income, young adult           0.767696               0.051115   \n",
       "upper-middle income, adult                 0.737500               0.059437   \n",
       "upper-middle income, senior                0.740887               0.050923   \n",
       "upper-middle income, young adult           0.723742               0.057805   \n",
       "\n",
       "order_frequency                   Regular customer  \n",
       "customer_profile                                    \n",
       "high-income, adult                        0.207264  \n",
       "high-income, senior                       0.188277  \n",
       "high-income, young adult                  0.203613  \n",
       "low-income, adult                         0.202255  \n",
       "low-income, senior                        0.179326  \n",
       "low-income, young adult                   0.202084  \n",
       "lower-middle income, adult                0.208586  \n",
       "lower-middle income, senior               0.174900  \n",
       "lower-middle income, young adult          0.181189  \n",
       "upper-middle income, adult                0.203063  \n",
       "upper-middle income, senior               0.208190  \n",
       "upper-middle income, young adult          0.218453  "
      ]
     },
     "execution_count": 76,
     "metadata": {},
     "output_type": "execute_result"
    }
   ],
   "source": [
    "st_activity = pd.crosstab(df_ne['customer_profile'], df_ne['order_frequency'], normalize = 'index')\n",
    "st_activity"
   ]
  },
  {
   "cell_type": "markdown",
   "id": "f7ad1660-d4cc-4f2e-9218-c1ce199c3f3b",
   "metadata": {},
   "source": [
    "# 8.3.4. Brand loyalty"
   ]
  },
  {
   "cell_type": "markdown",
   "id": "5dcf69fa-9c67-4d98-9dcf-70763e3cb6c8",
   "metadata": {},
   "source": [
    "# Stats by loyalty in the region"
   ]
  },
  {
   "cell_type": "code",
   "execution_count": 77,
   "id": "c30ea026-9677-45fa-9787-a642cdab5c65",
   "metadata": {},
   "outputs": [
    {
     "data": {
      "text/plain": [
       "count    8.129086e+06\n",
       "mean     3.854553e+01\n",
       "std      2.520775e+01\n",
       "min      5.000000e+00\n",
       "25%      1.800000e+01\n",
       "50%      3.300000e+01\n",
       "75%      5.200000e+01\n",
       "max      9.900000e+01\n",
       "Name: max_order, dtype: float64"
      ]
     },
     "execution_count": 77,
     "metadata": {},
     "output_type": "execute_result"
    }
   ],
   "source": [
    "df_st['max_order'].describe()"
   ]
  },
  {
   "cell_type": "markdown",
   "id": "7b2f25de-28be-4257-8e28-bc7267e261f1",
   "metadata": {},
   "source": [
    "# Customer brand loyalty"
   ]
  },
  {
   "cell_type": "code",
   "execution_count": 78,
   "id": "fbd05dc7-4501-49c6-b7b4-02fd921692ac",
   "metadata": {},
   "outputs": [
    {
     "data": {
      "text/plain": [
       "loyalty_flag\n",
       "Regular customer    4263480\n",
       "Loyal customer      3163125\n",
       "New customer         702481\n",
       "Name: count, dtype: int64"
      ]
     },
     "execution_count": 78,
     "metadata": {},
     "output_type": "execute_result"
    }
   ],
   "source": [
    "df_st['loyalty_flag'].value_counts(dropna=False)"
   ]
  },
  {
   "cell_type": "markdown",
   "id": "e200afba-f10a-4d48-8022-2184991132f2",
   "metadata": {},
   "source": [
    "# Brand loyalty by customer profile"
   ]
  },
  {
   "cell_type": "code",
   "execution_count": 79,
   "id": "19a42d12-6f89-4b06-aad2-78c5e18d303c",
   "metadata": {},
   "outputs": [
    {
     "data": {
      "text/html": [
       "<div>\n",
       "<style scoped>\n",
       "    .dataframe tbody tr th:only-of-type {\n",
       "        vertical-align: middle;\n",
       "    }\n",
       "\n",
       "    .dataframe tbody tr th {\n",
       "        vertical-align: top;\n",
       "    }\n",
       "\n",
       "    .dataframe thead th {\n",
       "        text-align: right;\n",
       "    }\n",
       "</style>\n",
       "<table border=\"1\" class=\"dataframe\">\n",
       "  <thead>\n",
       "    <tr style=\"text-align: right;\">\n",
       "      <th>loyalty_flag</th>\n",
       "      <th>Loyal customer</th>\n",
       "      <th>New customer</th>\n",
       "      <th>Regular customer</th>\n",
       "    </tr>\n",
       "    <tr>\n",
       "      <th>customer_profile</th>\n",
       "      <th></th>\n",
       "      <th></th>\n",
       "      <th></th>\n",
       "    </tr>\n",
       "  </thead>\n",
       "  <tbody>\n",
       "    <tr>\n",
       "      <th>high-income, adult</th>\n",
       "      <td>0.376185</td>\n",
       "      <td>0.086884</td>\n",
       "      <td>0.536931</td>\n",
       "    </tr>\n",
       "    <tr>\n",
       "      <th>high-income, senior</th>\n",
       "      <td>0.427699</td>\n",
       "      <td>0.082654</td>\n",
       "      <td>0.489647</td>\n",
       "    </tr>\n",
       "    <tr>\n",
       "      <th>high-income, young adult</th>\n",
       "      <td>0.491626</td>\n",
       "      <td>0.068706</td>\n",
       "      <td>0.439668</td>\n",
       "    </tr>\n",
       "    <tr>\n",
       "      <th>low-income, adult</th>\n",
       "      <td>0.388132</td>\n",
       "      <td>0.092734</td>\n",
       "      <td>0.519134</td>\n",
       "    </tr>\n",
       "    <tr>\n",
       "      <th>low-income, senior</th>\n",
       "      <td>0.402473</td>\n",
       "      <td>0.099883</td>\n",
       "      <td>0.497644</td>\n",
       "    </tr>\n",
       "    <tr>\n",
       "      <th>low-income, young adult</th>\n",
       "      <td>0.393456</td>\n",
       "      <td>0.089665</td>\n",
       "      <td>0.516878</td>\n",
       "    </tr>\n",
       "    <tr>\n",
       "      <th>lower-middle income, adult</th>\n",
       "      <td>0.365743</td>\n",
       "      <td>0.088928</td>\n",
       "      <td>0.545329</td>\n",
       "    </tr>\n",
       "    <tr>\n",
       "      <th>lower-middle income, senior</th>\n",
       "      <td>0.453041</td>\n",
       "      <td>0.078814</td>\n",
       "      <td>0.468145</td>\n",
       "    </tr>\n",
       "    <tr>\n",
       "      <th>lower-middle income, young adult</th>\n",
       "      <td>0.415445</td>\n",
       "      <td>0.077768</td>\n",
       "      <td>0.506787</td>\n",
       "    </tr>\n",
       "    <tr>\n",
       "      <th>upper-middle income, adult</th>\n",
       "      <td>0.398944</td>\n",
       "      <td>0.081631</td>\n",
       "      <td>0.519425</td>\n",
       "    </tr>\n",
       "    <tr>\n",
       "      <th>upper-middle income, senior</th>\n",
       "      <td>0.401645</td>\n",
       "      <td>0.081204</td>\n",
       "      <td>0.517152</td>\n",
       "    </tr>\n",
       "    <tr>\n",
       "      <th>upper-middle income, young adult</th>\n",
       "      <td>0.356649</td>\n",
       "      <td>0.103067</td>\n",
       "      <td>0.540285</td>\n",
       "    </tr>\n",
       "  </tbody>\n",
       "</table>\n",
       "</div>"
      ],
      "text/plain": [
       "loyalty_flag                      Loyal customer  New customer  \\\n",
       "customer_profile                                                 \n",
       "high-income, adult                      0.376185      0.086884   \n",
       "high-income, senior                     0.427699      0.082654   \n",
       "high-income, young adult                0.491626      0.068706   \n",
       "low-income, adult                       0.388132      0.092734   \n",
       "low-income, senior                      0.402473      0.099883   \n",
       "low-income, young adult                 0.393456      0.089665   \n",
       "lower-middle income, adult              0.365743      0.088928   \n",
       "lower-middle income, senior             0.453041      0.078814   \n",
       "lower-middle income, young adult        0.415445      0.077768   \n",
       "upper-middle income, adult              0.398944      0.081631   \n",
       "upper-middle income, senior             0.401645      0.081204   \n",
       "upper-middle income, young adult        0.356649      0.103067   \n",
       "\n",
       "loyalty_flag                      Regular customer  \n",
       "customer_profile                                    \n",
       "high-income, adult                        0.536931  \n",
       "high-income, senior                       0.489647  \n",
       "high-income, young adult                  0.439668  \n",
       "low-income, adult                         0.519134  \n",
       "low-income, senior                        0.497644  \n",
       "low-income, young adult                   0.516878  \n",
       "lower-middle income, adult                0.545329  \n",
       "lower-middle income, senior               0.468145  \n",
       "lower-middle income, young adult          0.506787  \n",
       "upper-middle income, adult                0.519425  \n",
       "upper-middle income, senior               0.517152  \n",
       "upper-middle income, young adult          0.540285  "
      ]
     },
     "execution_count": 79,
     "metadata": {},
     "output_type": "execute_result"
    }
   ],
   "source": [
    "st_brand = pd.crosstab(df_ne['customer_profile'], df_ne['loyalty_flag'], normalize = 'index')\n",
    "st_brand"
   ]
  },
  {
   "cell_type": "markdown",
   "id": "cb2fa013-da19-42b8-9883-453c7b8cdaf6",
   "metadata": {},
   "source": [
    "# 8.3.5. Product preferences"
   ]
  },
  {
   "cell_type": "markdown",
   "id": "b2c9674c-675b-4a00-b1ad-d6c9055637c6",
   "metadata": {},
   "source": [
    "# Highest frequency departments by region"
   ]
  },
  {
   "cell_type": "code",
   "execution_count": 80,
   "id": "b04f702d-500d-4968-81b7-6f626cad564a",
   "metadata": {},
   "outputs": [
    {
     "data": {
      "text/plain": [
       "department_id\n",
       "4     2409221\n",
       "16    1371620\n",
       "19     724967\n",
       "7      680594\n",
       "1      545809\n",
       "13     458526\n",
       "3      292772\n",
       "15     263145\n",
       "20     259644\n",
       "9      210680\n",
       "Name: count, dtype: int64"
      ]
     },
     "execution_count": 80,
     "metadata": {},
     "output_type": "execute_result"
    }
   ],
   "source": [
    "df_st['department_id'].value_counts(dropna = False).head(10)"
   ]
  },
  {
   "cell_type": "markdown",
   "id": "736c1193-8e38-4eef-8e7d-85eb7474a030",
   "metadata": {},
   "source": [
    "# Most popular products "
   ]
  },
  {
   "cell_type": "code",
   "execution_count": 81,
   "id": "0f552b6d-83de-4bc7-b818-51423cbd9147",
   "metadata": {},
   "outputs": [
    {
     "data": {
      "text/plain": [
       "product_name\n",
       "Banana                    120350\n",
       "Bag of Organic Bananas    100267\n",
       "Organic Strawberries       67306\n",
       "Organic Baby Spinach       62300\n",
       "Organic Hass Avocado       55253\n",
       "Organic Avocado            41780\n",
       "Large Lemon                39123\n",
       "Organic Raspberries        37800\n",
       "Organic Whole Milk         37140\n",
       "Strawberries               36592\n",
       "Name: count, dtype: int64"
      ]
     },
     "execution_count": 81,
     "metadata": {},
     "output_type": "execute_result"
    }
   ],
   "source": [
    "df_st['product_name'].value_counts(dropna=False).head(10)"
   ]
  },
  {
   "cell_type": "markdown",
   "id": "16023d46-9a09-4fef-8f95-30e1e0d33648",
   "metadata": {},
   "source": [
    "# Less popular products"
   ]
  },
  {
   "cell_type": "code",
   "execution_count": 82,
   "id": "61ffff31-7c4e-4e4c-8694-c24f116fbdd3",
   "metadata": {},
   "outputs": [
    {
     "data": {
      "text/plain": [
       "product_name\n",
       "Organic Herbes De Provence                            1\n",
       "Digest Basic                                          1\n",
       "Grand-Mere Pork & Chicken Liver Pate With Armagnac    1\n",
       "Vegan Gluten-Free Juicy Meyer Lemon Cheesecake        1\n",
       "All Natural Lithuanian Rye Bread                      1\n",
       "Gentle Scrunchies                                     1\n",
       "V Fusion Cranberry Blackberry                         1\n",
       "French Dressing                                       1\n",
       "Kid's Cold & Mucus Relief                             1\n",
       "Plum Smart 100% Juice Blend                           1\n",
       "Name: count, dtype: int64"
      ]
     },
     "execution_count": 82,
     "metadata": {},
     "output_type": "execute_result"
    }
   ],
   "source": [
    "df_st['product_name'].value_counts(dropna=False).tail(10)"
   ]
  },
  {
   "cell_type": "markdown",
   "id": "a43fef48-9653-475c-892c-25fc37e3d83c",
   "metadata": {},
   "source": [
    "# 8.4. West region"
   ]
  },
  {
   "cell_type": "markdown",
   "id": "2c9f4d17-4df0-42f0-b71e-ee98cf7ef5e0",
   "metadata": {},
   "source": [
    "# Create subset of the dataframe for the West region"
   ]
  },
  {
   "cell_type": "code",
   "execution_count": 83,
   "id": "2584887e-0a52-44a1-8681-11fc03e233ae",
   "metadata": {},
   "outputs": [],
   "source": [
    "df_wt = df[df['region'] == 'West']"
   ]
  },
  {
   "cell_type": "markdown",
   "id": "11c0c524-885e-4ea4-9cd9-cf1858d16fba",
   "metadata": {},
   "source": [
    "# Count the customers in the region"
   ]
  },
  {
   "cell_type": "code",
   "execution_count": 84,
   "id": "e6bd76c3-4143-4fbb-b344-c8ad5a8fddeb",
   "metadata": {},
   "outputs": [
    {
     "data": {
      "text/plain": [
       "6258764"
      ]
     },
     "execution_count": 84,
     "metadata": {},
     "output_type": "execute_result"
    }
   ],
   "source": [
    "df_wt['user_id'].value_counts().sum()"
   ]
  },
  {
   "cell_type": "markdown",
   "id": "a5d4b081-b37d-4b08-af0f-ce8fbb52e59b",
   "metadata": {},
   "source": [
    "# 8.4.1. Demographic outlook"
   ]
  },
  {
   "cell_type": "markdown",
   "id": "8f2088e4-c9d0-4a7f-948f-d1126812a085",
   "metadata": {},
   "source": [
    "# Check customer profile in region"
   ]
  },
  {
   "cell_type": "code",
   "execution_count": 85,
   "id": "45fa8c94-88d6-4865-98b3-37bdba445578",
   "metadata": {},
   "outputs": [
    {
     "data": {
      "text/plain": [
       "customer_profile\n",
       "upper-middle income, adult          925062\n",
       "high-income, adult                  920480\n",
       "lower-middle income, adult          813433\n",
       "low-income, adult                   780467\n",
       "high-income, senior                 633383\n",
       "upper-middle income, senior         585259\n",
       "low-income, young adult             545041\n",
       "lower-middle income, young adult    531402\n",
       "lower-middle income, senior         224388\n",
       "low-income, senior                  212197\n",
       "upper-middle income, young adult     73682\n",
       "high-income, young adult             13970\n",
       "Name: count, dtype: int64"
      ]
     },
     "execution_count": 85,
     "metadata": {},
     "output_type": "execute_result"
    }
   ],
   "source": [
    "df_wt['customer_profile'].value_counts()"
   ]
  },
  {
   "cell_type": "markdown",
   "id": "975e7128-63f0-4810-9667-ceccf512d329",
   "metadata": {},
   "source": [
    "# Check family status in region"
   ]
  },
  {
   "cell_type": "code",
   "execution_count": 86,
   "id": "355e6fa1-6ad0-474f-929c-adf3c94a6506",
   "metadata": {},
   "outputs": [
    {
     "data": {
      "text/plain": [
       "family_status\n",
       "married                             4402928\n",
       "single                              1034321\n",
       "divorced/widowed                     530248\n",
       "living with parents and siblings     291267\n",
       "Name: count, dtype: int64"
      ]
     },
     "execution_count": 86,
     "metadata": {},
     "output_type": "execute_result"
    }
   ],
   "source": [
    "df_wt['family_status'].value_counts()"
   ]
  },
  {
   "cell_type": "markdown",
   "id": "fe79c868-36c2-4685-a977-795c1690d76a",
   "metadata": {},
   "source": [
    "# Check number of dependents in region"
   ]
  },
  {
   "cell_type": "code",
   "execution_count": 87,
   "id": "1786cb5f-1469-497e-96c1-92f12f53d5e1",
   "metadata": {},
   "outputs": [
    {
     "data": {
      "text/plain": [
       "dependants\n",
       "3    1598581\n",
       "0    1564569\n",
       "2    1552918\n",
       "1    1542696\n",
       "Name: count, dtype: int64"
      ]
     },
     "execution_count": 87,
     "metadata": {},
     "output_type": "execute_result"
    }
   ],
   "source": [
    "df_wt['dependants'].value_counts()"
   ]
  },
  {
   "cell_type": "markdown",
   "id": "819512b2-6933-47a1-a437-8fcd46817a20",
   "metadata": {},
   "source": [
    "# 8.4.2. Spending habits"
   ]
  },
  {
   "cell_type": "markdown",
   "id": "d665e85b-d3ab-487b-9ec2-239baad8be62",
   "metadata": {},
   "source": [
    "# Check stats for spendings in region"
   ]
  },
  {
   "cell_type": "code",
   "execution_count": 88,
   "id": "787779f4-432e-440a-9091-03f195cb9419",
   "metadata": {},
   "outputs": [
    {
     "data": {
      "text/plain": [
       "count    6.258764e+06\n",
       "mean     1.089711e+01\n",
       "std      3.902841e+02\n",
       "min      1.000000e+00\n",
       "25%      4.200000e+00\n",
       "50%      7.400000e+00\n",
       "75%      1.120000e+01\n",
       "max      9.999900e+04\n",
       "Name: prices, dtype: float64"
      ]
     },
     "execution_count": 88,
     "metadata": {},
     "output_type": "execute_result"
    }
   ],
   "source": [
    "df_wt['prices'].describe()"
   ]
  },
  {
   "cell_type": "markdown",
   "id": "7ae3a310-a406-4cb4-ab3c-468fcc693b1f",
   "metadata": {},
   "source": [
    "# Check customers spending habits in region"
   ]
  },
  {
   "cell_type": "code",
   "execution_count": 89,
   "id": "0b2d7263-d704-4967-a433-d5f585ab1de3",
   "metadata": {},
   "outputs": [
    {
     "data": {
      "text/plain": [
       "spending_flag\n",
       "Low spender     6137078\n",
       "High spender     121686\n",
       "Name: count, dtype: int64"
      ]
     },
     "execution_count": 89,
     "metadata": {},
     "output_type": "execute_result"
    }
   ],
   "source": [
    "df_wt['spending_flag'].value_counts(dropna = False)"
   ]
  },
  {
   "cell_type": "markdown",
   "id": "6e97b86c-6225-43c3-81bf-a14f054c526b",
   "metadata": {},
   "source": [
    "# Check proportion of customer spending habits by customer profile"
   ]
  },
  {
   "cell_type": "code",
   "execution_count": 90,
   "id": "0f9d95ba-8e54-40d8-a09d-acc0c31e7411",
   "metadata": {},
   "outputs": [
    {
     "data": {
      "text/html": [
       "<div>\n",
       "<style scoped>\n",
       "    .dataframe tbody tr th:only-of-type {\n",
       "        vertical-align: middle;\n",
       "    }\n",
       "\n",
       "    .dataframe tbody tr th {\n",
       "        vertical-align: top;\n",
       "    }\n",
       "\n",
       "    .dataframe thead th {\n",
       "        text-align: right;\n",
       "    }\n",
       "</style>\n",
       "<table border=\"1\" class=\"dataframe\">\n",
       "  <thead>\n",
       "    <tr style=\"text-align: right;\">\n",
       "      <th>spending_flag</th>\n",
       "      <th>High spender</th>\n",
       "      <th>Low spender</th>\n",
       "    </tr>\n",
       "    <tr>\n",
       "      <th>customer_profile</th>\n",
       "      <th></th>\n",
       "      <th></th>\n",
       "    </tr>\n",
       "  </thead>\n",
       "  <tbody>\n",
       "    <tr>\n",
       "      <th>high-income, adult</th>\n",
       "      <td>0.061075</td>\n",
       "      <td>0.938925</td>\n",
       "    </tr>\n",
       "    <tr>\n",
       "      <th>high-income, senior</th>\n",
       "      <td>0.035212</td>\n",
       "      <td>0.964788</td>\n",
       "    </tr>\n",
       "    <tr>\n",
       "      <th>high-income, young adult</th>\n",
       "      <td>1.000000</td>\n",
       "      <td>0.000000</td>\n",
       "    </tr>\n",
       "    <tr>\n",
       "      <th>low-income, adult</th>\n",
       "      <td>0.001544</td>\n",
       "      <td>0.998456</td>\n",
       "    </tr>\n",
       "    <tr>\n",
       "      <th>low-income, senior</th>\n",
       "      <td>0.000000</td>\n",
       "      <td>1.000000</td>\n",
       "    </tr>\n",
       "    <tr>\n",
       "      <th>low-income, young adult</th>\n",
       "      <td>0.002331</td>\n",
       "      <td>0.997669</td>\n",
       "    </tr>\n",
       "    <tr>\n",
       "      <th>lower-middle income, adult</th>\n",
       "      <td>0.006975</td>\n",
       "      <td>0.993025</td>\n",
       "    </tr>\n",
       "    <tr>\n",
       "      <th>lower-middle income, senior</th>\n",
       "      <td>0.004887</td>\n",
       "      <td>0.995113</td>\n",
       "    </tr>\n",
       "    <tr>\n",
       "      <th>lower-middle income, young adult</th>\n",
       "      <td>0.010308</td>\n",
       "      <td>0.989692</td>\n",
       "    </tr>\n",
       "    <tr>\n",
       "      <th>upper-middle income, adult</th>\n",
       "      <td>0.008598</td>\n",
       "      <td>0.991402</td>\n",
       "    </tr>\n",
       "    <tr>\n",
       "      <th>upper-middle income, senior</th>\n",
       "      <td>0.007420</td>\n",
       "      <td>0.992580</td>\n",
       "    </tr>\n",
       "    <tr>\n",
       "      <th>upper-middle income, young adult</th>\n",
       "      <td>0.049190</td>\n",
       "      <td>0.950810</td>\n",
       "    </tr>\n",
       "  </tbody>\n",
       "</table>\n",
       "</div>"
      ],
      "text/plain": [
       "spending_flag                     High spender  Low spender\n",
       "customer_profile                                           \n",
       "high-income, adult                    0.061075     0.938925\n",
       "high-income, senior                   0.035212     0.964788\n",
       "high-income, young adult              1.000000     0.000000\n",
       "low-income, adult                     0.001544     0.998456\n",
       "low-income, senior                    0.000000     1.000000\n",
       "low-income, young adult               0.002331     0.997669\n",
       "lower-middle income, adult            0.006975     0.993025\n",
       "lower-middle income, senior           0.004887     0.995113\n",
       "lower-middle income, young adult      0.010308     0.989692\n",
       "upper-middle income, adult            0.008598     0.991402\n",
       "upper-middle income, senior           0.007420     0.992580\n",
       "upper-middle income, young adult      0.049190     0.950810"
      ]
     },
     "execution_count": 90,
     "metadata": {},
     "output_type": "execute_result"
    }
   ],
   "source": [
    "wt_spendinghabits = pd.crosstab(df_ne['customer_profile'], df_ne['spending_flag'], normalize = 'index')\n",
    "wt_spendinghabits"
   ]
  },
  {
   "cell_type": "markdown",
   "id": "cf24d3dd-8402-4592-8d83-cc3a895d3e4b",
   "metadata": {},
   "source": [
    "# Check preferences of customers spending range of prices in region "
   ]
  },
  {
   "cell_type": "code",
   "execution_count": 91,
   "id": "879ba7ee-7508-41b5-a32f-0e897709913c",
   "metadata": {},
   "outputs": [
    {
     "data": {
      "text/html": [
       "<div>\n",
       "<style scoped>\n",
       "    .dataframe tbody tr th:only-of-type {\n",
       "        vertical-align: middle;\n",
       "    }\n",
       "\n",
       "    .dataframe tbody tr th {\n",
       "        vertical-align: top;\n",
       "    }\n",
       "\n",
       "    .dataframe thead th {\n",
       "        text-align: right;\n",
       "    }\n",
       "</style>\n",
       "<table border=\"1\" class=\"dataframe\">\n",
       "  <thead>\n",
       "    <tr style=\"text-align: right;\">\n",
       "      <th>price_range_loc</th>\n",
       "      <th>High-range product</th>\n",
       "      <th>Low-range product</th>\n",
       "      <th>Mid-range product</th>\n",
       "    </tr>\n",
       "    <tr>\n",
       "      <th>customer_profile</th>\n",
       "      <th></th>\n",
       "      <th></th>\n",
       "      <th></th>\n",
       "    </tr>\n",
       "  </thead>\n",
       "  <tbody>\n",
       "    <tr>\n",
       "      <th>high-income, adult</th>\n",
       "      <td>0.014554</td>\n",
       "      <td>0.300051</td>\n",
       "      <td>0.685396</td>\n",
       "    </tr>\n",
       "    <tr>\n",
       "      <th>high-income, senior</th>\n",
       "      <td>0.014494</td>\n",
       "      <td>0.294240</td>\n",
       "      <td>0.691265</td>\n",
       "    </tr>\n",
       "    <tr>\n",
       "      <th>high-income, young adult</th>\n",
       "      <td>0.020177</td>\n",
       "      <td>0.313860</td>\n",
       "      <td>0.665963</td>\n",
       "    </tr>\n",
       "    <tr>\n",
       "      <th>low-income, adult</th>\n",
       "      <td>0.008614</td>\n",
       "      <td>0.361376</td>\n",
       "      <td>0.630011</td>\n",
       "    </tr>\n",
       "    <tr>\n",
       "      <th>low-income, senior</th>\n",
       "      <td>0.005212</td>\n",
       "      <td>0.407803</td>\n",
       "      <td>0.586985</td>\n",
       "    </tr>\n",
       "    <tr>\n",
       "      <th>low-income, young adult</th>\n",
       "      <td>0.010767</td>\n",
       "      <td>0.332167</td>\n",
       "      <td>0.657066</td>\n",
       "    </tr>\n",
       "    <tr>\n",
       "      <th>lower-middle income, adult</th>\n",
       "      <td>0.013212</td>\n",
       "      <td>0.296180</td>\n",
       "      <td>0.690608</td>\n",
       "    </tr>\n",
       "    <tr>\n",
       "      <th>lower-middle income, senior</th>\n",
       "      <td>0.013300</td>\n",
       "      <td>0.301601</td>\n",
       "      <td>0.685099</td>\n",
       "    </tr>\n",
       "    <tr>\n",
       "      <th>lower-middle income, young adult</th>\n",
       "      <td>0.012942</td>\n",
       "      <td>0.300979</td>\n",
       "      <td>0.686080</td>\n",
       "    </tr>\n",
       "    <tr>\n",
       "      <th>upper-middle income, adult</th>\n",
       "      <td>0.013661</td>\n",
       "      <td>0.297167</td>\n",
       "      <td>0.689172</td>\n",
       "    </tr>\n",
       "    <tr>\n",
       "      <th>upper-middle income, senior</th>\n",
       "      <td>0.013680</td>\n",
       "      <td>0.301891</td>\n",
       "      <td>0.684429</td>\n",
       "    </tr>\n",
       "    <tr>\n",
       "      <th>upper-middle income, young adult</th>\n",
       "      <td>0.012922</td>\n",
       "      <td>0.306566</td>\n",
       "      <td>0.680512</td>\n",
       "    </tr>\n",
       "  </tbody>\n",
       "</table>\n",
       "</div>"
      ],
      "text/plain": [
       "price_range_loc                   High-range product  Low-range product  \\\n",
       "customer_profile                                                          \n",
       "high-income, adult                          0.014554           0.300051   \n",
       "high-income, senior                         0.014494           0.294240   \n",
       "high-income, young adult                    0.020177           0.313860   \n",
       "low-income, adult                           0.008614           0.361376   \n",
       "low-income, senior                          0.005212           0.407803   \n",
       "low-income, young adult                     0.010767           0.332167   \n",
       "lower-middle income, adult                  0.013212           0.296180   \n",
       "lower-middle income, senior                 0.013300           0.301601   \n",
       "lower-middle income, young adult            0.012942           0.300979   \n",
       "upper-middle income, adult                  0.013661           0.297167   \n",
       "upper-middle income, senior                 0.013680           0.301891   \n",
       "upper-middle income, young adult            0.012922           0.306566   \n",
       "\n",
       "price_range_loc                   Mid-range product  \n",
       "customer_profile                                     \n",
       "high-income, adult                         0.685396  \n",
       "high-income, senior                        0.691265  \n",
       "high-income, young adult                   0.665963  \n",
       "low-income, adult                          0.630011  \n",
       "low-income, senior                         0.586985  \n",
       "low-income, young adult                    0.657066  \n",
       "lower-middle income, adult                 0.690608  \n",
       "lower-middle income, senior                0.685099  \n",
       "lower-middle income, young adult           0.686080  \n",
       "upper-middle income, adult                 0.689172  \n",
       "upper-middle income, senior                0.684429  \n",
       "upper-middle income, young adult           0.680512  "
      ]
     },
     "execution_count": 91,
     "metadata": {},
     "output_type": "execute_result"
    }
   ],
   "source": [
    "wt_prefcustomersrange = pd.crosstab(df_ne['customer_profile'], df_ne['price_range_loc'], normalize = 'index')\n",
    "wt_prefcustomersrange"
   ]
  },
  {
   "cell_type": "markdown",
   "id": "9ef555b3-bcb9-4d66-916c-a51796de644b",
   "metadata": {},
   "source": [
    "# 8.4.3. Ordering habits"
   ]
  },
  {
   "cell_type": "markdown",
   "id": "4967dd2d-25a3-4a73-9203-94dd5e8cbbae",
   "metadata": {},
   "source": [
    "# Order stats by region"
   ]
  },
  {
   "cell_type": "code",
   "execution_count": 92,
   "id": "e88f1163-fcc4-4b91-aad5-e952d1a8ee1e",
   "metadata": {},
   "outputs": [
    {
     "data": {
      "text/plain": [
       "count    6.258764e+06\n",
       "mean     8.914792e+00\n",
       "std      5.783502e+00\n",
       "min      0.000000e+00\n",
       "25%      5.000000e+00\n",
       "50%      7.000000e+00\n",
       "75%      1.100000e+01\n",
       "max      3.000000e+01\n",
       "Name: median_days_between_orders, dtype: float64"
      ]
     },
     "execution_count": 92,
     "metadata": {},
     "output_type": "execute_result"
    }
   ],
   "source": [
    "df_wt['median_days_between_orders'].describe()"
   ]
  },
  {
   "cell_type": "markdown",
   "id": "ea7b09fc-b13b-4a64-b4ba-de2a1b2f44ee",
   "metadata": {},
   "source": [
    "# Customer ordering habits"
   ]
  },
  {
   "cell_type": "code",
   "execution_count": 93,
   "id": "c57fea93-dacc-4b53-8677-48ef042dadca",
   "metadata": {},
   "outputs": [
    {
     "data": {
      "text/plain": [
       "order_frequency\n",
       "Frequent customer        4669656\n",
       "Regular customer         1216549\n",
       "Non-frequent customer     372559\n",
       "Name: count, dtype: int64"
      ]
     },
     "execution_count": 93,
     "metadata": {},
     "output_type": "execute_result"
    }
   ],
   "source": [
    "df_wt['order_frequency'].value_counts(dropna=False)\n"
   ]
  },
  {
   "cell_type": "markdown",
   "id": "aa586806-4649-4b31-9ba9-8cf0049b3fe1",
   "metadata": {},
   "source": [
    "# Profile of active customers"
   ]
  },
  {
   "cell_type": "code",
   "execution_count": 94,
   "id": "f7d8c54e-6094-4f95-ad19-1a6666219031",
   "metadata": {},
   "outputs": [
    {
     "data": {
      "text/html": [
       "<div>\n",
       "<style scoped>\n",
       "    .dataframe tbody tr th:only-of-type {\n",
       "        vertical-align: middle;\n",
       "    }\n",
       "\n",
       "    .dataframe tbody tr th {\n",
       "        vertical-align: top;\n",
       "    }\n",
       "\n",
       "    .dataframe thead th {\n",
       "        text-align: right;\n",
       "    }\n",
       "</style>\n",
       "<table border=\"1\" class=\"dataframe\">\n",
       "  <thead>\n",
       "    <tr style=\"text-align: right;\">\n",
       "      <th>order_frequency</th>\n",
       "      <th>Frequent customer</th>\n",
       "      <th>Non-frequent customer</th>\n",
       "      <th>Regular customer</th>\n",
       "    </tr>\n",
       "    <tr>\n",
       "      <th>customer_profile</th>\n",
       "      <th></th>\n",
       "      <th></th>\n",
       "      <th></th>\n",
       "    </tr>\n",
       "  </thead>\n",
       "  <tbody>\n",
       "    <tr>\n",
       "      <th>high-income, adult</th>\n",
       "      <td>0.731422</td>\n",
       "      <td>0.061314</td>\n",
       "      <td>0.207264</td>\n",
       "    </tr>\n",
       "    <tr>\n",
       "      <th>high-income, senior</th>\n",
       "      <td>0.764870</td>\n",
       "      <td>0.046853</td>\n",
       "      <td>0.188277</td>\n",
       "    </tr>\n",
       "    <tr>\n",
       "      <th>high-income, young adult</th>\n",
       "      <td>0.776606</td>\n",
       "      <td>0.019781</td>\n",
       "      <td>0.203613</td>\n",
       "    </tr>\n",
       "    <tr>\n",
       "      <th>low-income, adult</th>\n",
       "      <td>0.733563</td>\n",
       "      <td>0.064182</td>\n",
       "      <td>0.202255</td>\n",
       "    </tr>\n",
       "    <tr>\n",
       "      <th>low-income, senior</th>\n",
       "      <td>0.749740</td>\n",
       "      <td>0.070934</td>\n",
       "      <td>0.179326</td>\n",
       "    </tr>\n",
       "    <tr>\n",
       "      <th>low-income, young adult</th>\n",
       "      <td>0.736552</td>\n",
       "      <td>0.061364</td>\n",
       "      <td>0.202084</td>\n",
       "    </tr>\n",
       "    <tr>\n",
       "      <th>lower-middle income, adult</th>\n",
       "      <td>0.730392</td>\n",
       "      <td>0.061022</td>\n",
       "      <td>0.208586</td>\n",
       "    </tr>\n",
       "    <tr>\n",
       "      <th>lower-middle income, senior</th>\n",
       "      <td>0.766105</td>\n",
       "      <td>0.058995</td>\n",
       "      <td>0.174900</td>\n",
       "    </tr>\n",
       "    <tr>\n",
       "      <th>lower-middle income, young adult</th>\n",
       "      <td>0.767696</td>\n",
       "      <td>0.051115</td>\n",
       "      <td>0.181189</td>\n",
       "    </tr>\n",
       "    <tr>\n",
       "      <th>upper-middle income, adult</th>\n",
       "      <td>0.737500</td>\n",
       "      <td>0.059437</td>\n",
       "      <td>0.203063</td>\n",
       "    </tr>\n",
       "    <tr>\n",
       "      <th>upper-middle income, senior</th>\n",
       "      <td>0.740887</td>\n",
       "      <td>0.050923</td>\n",
       "      <td>0.208190</td>\n",
       "    </tr>\n",
       "    <tr>\n",
       "      <th>upper-middle income, young adult</th>\n",
       "      <td>0.723742</td>\n",
       "      <td>0.057805</td>\n",
       "      <td>0.218453</td>\n",
       "    </tr>\n",
       "  </tbody>\n",
       "</table>\n",
       "</div>"
      ],
      "text/plain": [
       "order_frequency                   Frequent customer  Non-frequent customer  \\\n",
       "customer_profile                                                             \n",
       "high-income, adult                         0.731422               0.061314   \n",
       "high-income, senior                        0.764870               0.046853   \n",
       "high-income, young adult                   0.776606               0.019781   \n",
       "low-income, adult                          0.733563               0.064182   \n",
       "low-income, senior                         0.749740               0.070934   \n",
       "low-income, young adult                    0.736552               0.061364   \n",
       "lower-middle income, adult                 0.730392               0.061022   \n",
       "lower-middle income, senior                0.766105               0.058995   \n",
       "lower-middle income, young adult           0.767696               0.051115   \n",
       "upper-middle income, adult                 0.737500               0.059437   \n",
       "upper-middle income, senior                0.740887               0.050923   \n",
       "upper-middle income, young adult           0.723742               0.057805   \n",
       "\n",
       "order_frequency                   Regular customer  \n",
       "customer_profile                                    \n",
       "high-income, adult                        0.207264  \n",
       "high-income, senior                       0.188277  \n",
       "high-income, young adult                  0.203613  \n",
       "low-income, adult                         0.202255  \n",
       "low-income, senior                        0.179326  \n",
       "low-income, young adult                   0.202084  \n",
       "lower-middle income, adult                0.208586  \n",
       "lower-middle income, senior               0.174900  \n",
       "lower-middle income, young adult          0.181189  \n",
       "upper-middle income, adult                0.203063  \n",
       "upper-middle income, senior               0.208190  \n",
       "upper-middle income, young adult          0.218453  "
      ]
     },
     "execution_count": 94,
     "metadata": {},
     "output_type": "execute_result"
    }
   ],
   "source": [
    "wt_activity = pd.crosstab(df_ne['customer_profile'], df_ne['order_frequency'], normalize = 'index')\n",
    "wt_activity"
   ]
  },
  {
   "cell_type": "markdown",
   "id": "d58d1cb4-22a1-4f14-8fd4-22f587eb6e22",
   "metadata": {},
   "source": [
    "# 8.4.4. Brand loyalty"
   ]
  },
  {
   "cell_type": "markdown",
   "id": "f030481b-a7ff-47d3-ad0a-cc7afc558fad",
   "metadata": {},
   "source": [
    "# Stats by loyalty in the region"
   ]
  },
  {
   "cell_type": "code",
   "execution_count": 95,
   "id": "51461920-34e9-4612-8557-cfcdbd358243",
   "metadata": {},
   "outputs": [
    {
     "data": {
      "text/plain": [
       "count    6.258764e+06\n",
       "mean     3.877981e+01\n",
       "std      2.507103e+01\n",
       "min      5.000000e+00\n",
       "25%      1.900000e+01\n",
       "50%      3.300000e+01\n",
       "75%      5.300000e+01\n",
       "max      9.900000e+01\n",
       "Name: max_order, dtype: float64"
      ]
     },
     "execution_count": 95,
     "metadata": {},
     "output_type": "execute_result"
    }
   ],
   "source": [
    "df_wt['max_order'].describe()"
   ]
  },
  {
   "cell_type": "markdown",
   "id": "deecbd88-9acf-4d58-930a-e7c02a6b2271",
   "metadata": {},
   "source": [
    "# Customer brand loyalty"
   ]
  },
  {
   "cell_type": "code",
   "execution_count": 96,
   "id": "0720c722-e2a7-456c-9263-7dcf325bca18",
   "metadata": {},
   "outputs": [
    {
     "data": {
      "text/plain": [
       "loyalty_flag\n",
       "Regular customer    3239412\n",
       "Loyal customer      2476863\n",
       "New customer         542489\n",
       "Name: count, dtype: int64"
      ]
     },
     "execution_count": 96,
     "metadata": {},
     "output_type": "execute_result"
    }
   ],
   "source": [
    "df_wt['loyalty_flag'].value_counts(dropna=False)"
   ]
  },
  {
   "cell_type": "markdown",
   "id": "3d268f6c-ce81-410b-a7f0-842e137b311d",
   "metadata": {},
   "source": [
    "# Brand loyalty by customer profile"
   ]
  },
  {
   "cell_type": "code",
   "execution_count": 97,
   "id": "936d992b-0d45-42b3-a2b2-69d05066fc95",
   "metadata": {},
   "outputs": [
    {
     "data": {
      "text/html": [
       "<div>\n",
       "<style scoped>\n",
       "    .dataframe tbody tr th:only-of-type {\n",
       "        vertical-align: middle;\n",
       "    }\n",
       "\n",
       "    .dataframe tbody tr th {\n",
       "        vertical-align: top;\n",
       "    }\n",
       "\n",
       "    .dataframe thead th {\n",
       "        text-align: right;\n",
       "    }\n",
       "</style>\n",
       "<table border=\"1\" class=\"dataframe\">\n",
       "  <thead>\n",
       "    <tr style=\"text-align: right;\">\n",
       "      <th>loyalty_flag</th>\n",
       "      <th>Loyal customer</th>\n",
       "      <th>New customer</th>\n",
       "      <th>Regular customer</th>\n",
       "    </tr>\n",
       "    <tr>\n",
       "      <th>customer_profile</th>\n",
       "      <th></th>\n",
       "      <th></th>\n",
       "      <th></th>\n",
       "    </tr>\n",
       "  </thead>\n",
       "  <tbody>\n",
       "    <tr>\n",
       "      <th>high-income, adult</th>\n",
       "      <td>0.376185</td>\n",
       "      <td>0.086884</td>\n",
       "      <td>0.536931</td>\n",
       "    </tr>\n",
       "    <tr>\n",
       "      <th>high-income, senior</th>\n",
       "      <td>0.427699</td>\n",
       "      <td>0.082654</td>\n",
       "      <td>0.489647</td>\n",
       "    </tr>\n",
       "    <tr>\n",
       "      <th>high-income, young adult</th>\n",
       "      <td>0.491626</td>\n",
       "      <td>0.068706</td>\n",
       "      <td>0.439668</td>\n",
       "    </tr>\n",
       "    <tr>\n",
       "      <th>low-income, adult</th>\n",
       "      <td>0.388132</td>\n",
       "      <td>0.092734</td>\n",
       "      <td>0.519134</td>\n",
       "    </tr>\n",
       "    <tr>\n",
       "      <th>low-income, senior</th>\n",
       "      <td>0.402473</td>\n",
       "      <td>0.099883</td>\n",
       "      <td>0.497644</td>\n",
       "    </tr>\n",
       "    <tr>\n",
       "      <th>low-income, young adult</th>\n",
       "      <td>0.393456</td>\n",
       "      <td>0.089665</td>\n",
       "      <td>0.516878</td>\n",
       "    </tr>\n",
       "    <tr>\n",
       "      <th>lower-middle income, adult</th>\n",
       "      <td>0.365743</td>\n",
       "      <td>0.088928</td>\n",
       "      <td>0.545329</td>\n",
       "    </tr>\n",
       "    <tr>\n",
       "      <th>lower-middle income, senior</th>\n",
       "      <td>0.453041</td>\n",
       "      <td>0.078814</td>\n",
       "      <td>0.468145</td>\n",
       "    </tr>\n",
       "    <tr>\n",
       "      <th>lower-middle income, young adult</th>\n",
       "      <td>0.415445</td>\n",
       "      <td>0.077768</td>\n",
       "      <td>0.506787</td>\n",
       "    </tr>\n",
       "    <tr>\n",
       "      <th>upper-middle income, adult</th>\n",
       "      <td>0.398944</td>\n",
       "      <td>0.081631</td>\n",
       "      <td>0.519425</td>\n",
       "    </tr>\n",
       "    <tr>\n",
       "      <th>upper-middle income, senior</th>\n",
       "      <td>0.401645</td>\n",
       "      <td>0.081204</td>\n",
       "      <td>0.517152</td>\n",
       "    </tr>\n",
       "    <tr>\n",
       "      <th>upper-middle income, young adult</th>\n",
       "      <td>0.356649</td>\n",
       "      <td>0.103067</td>\n",
       "      <td>0.540285</td>\n",
       "    </tr>\n",
       "  </tbody>\n",
       "</table>\n",
       "</div>"
      ],
      "text/plain": [
       "loyalty_flag                      Loyal customer  New customer  \\\n",
       "customer_profile                                                 \n",
       "high-income, adult                      0.376185      0.086884   \n",
       "high-income, senior                     0.427699      0.082654   \n",
       "high-income, young adult                0.491626      0.068706   \n",
       "low-income, adult                       0.388132      0.092734   \n",
       "low-income, senior                      0.402473      0.099883   \n",
       "low-income, young adult                 0.393456      0.089665   \n",
       "lower-middle income, adult              0.365743      0.088928   \n",
       "lower-middle income, senior             0.453041      0.078814   \n",
       "lower-middle income, young adult        0.415445      0.077768   \n",
       "upper-middle income, adult              0.398944      0.081631   \n",
       "upper-middle income, senior             0.401645      0.081204   \n",
       "upper-middle income, young adult        0.356649      0.103067   \n",
       "\n",
       "loyalty_flag                      Regular customer  \n",
       "customer_profile                                    \n",
       "high-income, adult                        0.536931  \n",
       "high-income, senior                       0.489647  \n",
       "high-income, young adult                  0.439668  \n",
       "low-income, adult                         0.519134  \n",
       "low-income, senior                        0.497644  \n",
       "low-income, young adult                   0.516878  \n",
       "lower-middle income, adult                0.545329  \n",
       "lower-middle income, senior               0.468145  \n",
       "lower-middle income, young adult          0.506787  \n",
       "upper-middle income, adult                0.519425  \n",
       "upper-middle income, senior               0.517152  \n",
       "upper-middle income, young adult          0.540285  "
      ]
     },
     "execution_count": 97,
     "metadata": {},
     "output_type": "execute_result"
    }
   ],
   "source": [
    "wt_brand = pd.crosstab(df_ne['customer_profile'], df_ne['loyalty_flag'], normalize = 'index')\n",
    "wt_brand"
   ]
  },
  {
   "cell_type": "markdown",
   "id": "c42d1d8d-2816-42ab-835c-b07e78fdc3a8",
   "metadata": {},
   "source": [
    "# 8.4.5. Product preferences"
   ]
  },
  {
   "cell_type": "markdown",
   "id": "eca10af8-3310-4a19-a39e-fa941ff3a8da",
   "metadata": {},
   "source": [
    "# Highest frequency departments by region"
   ]
  },
  {
   "cell_type": "code",
   "execution_count": 98,
   "id": "67fad3ad-6ef4-442f-8e64-ccf74daee517",
   "metadata": {},
   "outputs": [
    {
     "data": {
      "text/plain": [
       "department_id\n",
       "4     1852659\n",
       "16    1056814\n",
       "19     563273\n",
       "7      515742\n",
       "1      417452\n",
       "13     356745\n",
       "3      227549\n",
       "15     202501\n",
       "20     201079\n",
       "9      163808\n",
       "Name: count, dtype: int64"
      ]
     },
     "execution_count": 98,
     "metadata": {},
     "output_type": "execute_result"
    }
   ],
   "source": [
    "df_wt['department_id'].value_counts(dropna = False).head(10)"
   ]
  },
  {
   "cell_type": "markdown",
   "id": "2a6f6858-572c-4de1-b23c-1130d0091a76",
   "metadata": {},
   "source": [
    "# Most popular products "
   ]
  },
  {
   "cell_type": "code",
   "execution_count": 99,
   "id": "ad2c16a8-341f-4111-99ee-2dc3a104ed67",
   "metadata": {},
   "outputs": [
    {
     "data": {
      "text/plain": [
       "product_name\n",
       "Banana                    91345\n",
       "Bag of Organic Bananas    78451\n",
       "Organic Strawberries      51849\n",
       "Organic Baby Spinach      47366\n",
       "Organic Hass Avocado      45222\n",
       "Organic Avocado           31285\n",
       "Large Lemon               29885\n",
       "Organic Raspberries       28396\n",
       "Organic Whole Milk        27969\n",
       "Strawberries              27954\n",
       "Name: count, dtype: int64"
      ]
     },
     "execution_count": 99,
     "metadata": {},
     "output_type": "execute_result"
    }
   ],
   "source": [
    "df_wt['product_name'].value_counts(dropna=False).head(10)"
   ]
  },
  {
   "cell_type": "markdown",
   "id": "8d6376d9-2c56-40da-aa80-85a2b90bd5f8",
   "metadata": {},
   "source": [
    "# Less popular products"
   ]
  },
  {
   "cell_type": "code",
   "execution_count": 100,
   "id": "869c8177-9060-4663-a811-55f50ae5b561",
   "metadata": {},
   "outputs": [
    {
     "data": {
      "text/plain": [
       "product_name\n",
       "Parmesan Mashed Potato Seasoning Sauce                      1\n",
       "Translucent Bronzing Tint                                   1\n",
       "100% Italian Extra Virgin Olive Oil                         1\n",
       "Healthy Favorites Granola with Real Chicken Dog Biscuits    1\n",
       "Eggplant Pesto                                              1\n",
       "Whascally Rabbit Pate Cat Food                              1\n",
       "Wheat Dinner Roll                                           1\n",
       "Broccoli Beef Stir Fry Seasoning Mix                        1\n",
       "Fleur de Sel                                                1\n",
       "Chili Lime Seaweed Chips                                    1\n",
       "Name: count, dtype: int64"
      ]
     },
     "execution_count": 100,
     "metadata": {},
     "output_type": "execute_result"
    }
   ],
   "source": [
    "df_wt['product_name'].value_counts(dropna=False).tail(10)"
   ]
  },
  {
   "cell_type": "markdown",
   "id": "3f4697cc-c808-4e84-97d4-637a12ff3655",
   "metadata": {},
   "source": [
    "# Export dataframe for the next part of the code"
   ]
  },
  {
   "cell_type": "code",
   "execution_count": 101,
   "id": "20269f02-e0af-4ec5-8144-b5e3ca038c88",
   "metadata": {},
   "outputs": [],
   "source": [
    "df.to_pickle(os.path.join(path, '02 Data' , 'Prepared Data' , 'df_part2.pkl'))"
   ]
  },
  {
   "cell_type": "code",
   "execution_count": null,
   "id": "7efafb3d-463d-4dd7-9a39-68f3572ab2bf",
   "metadata": {},
   "outputs": [],
   "source": []
  }
 ],
 "metadata": {
  "kernelspec": {
   "display_name": "Python 3 (ipykernel)",
   "language": "python",
   "name": "python3"
  },
  "language_info": {
   "codemirror_mode": {
    "name": "ipython",
    "version": 3
   },
   "file_extension": ".py",
   "mimetype": "text/x-python",
   "name": "python",
   "nbconvert_exporter": "python",
   "pygments_lexer": "ipython3",
   "version": "3.11.7"
  }
 },
 "nbformat": 4,
 "nbformat_minor": 5
}
