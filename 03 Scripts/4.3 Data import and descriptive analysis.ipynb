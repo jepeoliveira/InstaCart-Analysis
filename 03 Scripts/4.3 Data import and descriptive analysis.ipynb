{
 "cells": [
  {
   "cell_type": "markdown",
   "id": "b89f16be-1ed9-46d0-8984-a9166c3f1f8f",
   "metadata": {},
   "source": [
    "# Import Libraries"
   ]
  },
  {
   "cell_type": "code",
   "execution_count": 15,
   "id": "d047c6b5-6272-41f2-a7ff-a978fdb186ec",
   "metadata": {},
   "outputs": [],
   "source": [
    "import pandas as pd\n",
    "import numpy as np\n",
    "import os"
   ]
  },
  {
   "cell_type": "markdown",
   "id": "58a67a79-4b01-4e86-96c9-a62ff844c28a",
   "metadata": {},
   "source": [
    "# 01 Importing Data"
   ]
  },
  {
   "cell_type": "markdown",
   "id": "d6d9d5f6-a8cb-41d3-b28e-3d9806e11ca5",
   "metadata": {},
   "source": [
    "# importing order.csv"
   ]
  },
  {
   "cell_type": "code",
   "execution_count": 16,
   "id": "c70c7ff6-ae19-4a69-87d1-ebba0ede4c7e",
   "metadata": {},
   "outputs": [],
   "source": [
    "df= pd.read_csv( r'C:\\Users\\João Pedro\\MAR-Instacart Basket Analysis\\02 Data\\Original Data\\orders.csv', index_col = False)"
   ]
  },
  {
   "cell_type": "markdown",
   "id": "3713f6d8-841d-4244-99f6-0c18697f1270",
   "metadata": {},
   "source": [
    "# creating folder path"
   ]
  },
  {
   "cell_type": "code",
   "execution_count": 17,
   "id": "14851ef9-74af-4e15-b290-f6a8a456a809",
   "metadata": {},
   "outputs": [],
   "source": [
    "path = r'C:\\Users\\João Pedro\\MAR-Instacart Basket Analysis'"
   ]
  },
  {
   "cell_type": "code",
   "execution_count": 18,
   "id": "154d936e-e21b-46cb-98db-2d808af3b55c",
   "metadata": {},
   "outputs": [
    {
     "data": {
      "text/plain": [
       "'C:\\\\Users\\\\João Pedro\\\\MAR-Instacart Basket Analysis'"
      ]
     },
     "execution_count": 18,
     "metadata": {},
     "output_type": "execute_result"
    }
   ],
   "source": [
    "path"
   ]
  },
  {
   "cell_type": "markdown",
   "id": "5c0ebc47-b645-49d1-87c6-db8a5e93436c",
   "metadata": {},
   "source": [
    "# Creating vars list without the eval_set column\n"
   ]
  },
  {
   "cell_type": "code",
   "execution_count": 19,
   "id": "ea9ebca2-4b25-4678-9e06-761d50aab0ad",
   "metadata": {},
   "outputs": [],
   "source": [
    "vars_list = ( 'order_id' , 'user_id' , 'order_number' ,'order_dow' ,'order_hour_of_day' , 'days_since_prior_order')"
   ]
  },
  {
   "cell_type": "code",
   "execution_count": 22,
   "id": "ac132c27-be92-43a5-ada5-04bffeb6ffe2",
   "metadata": {},
   "outputs": [],
   "source": [
    "df = pd.read_csv(os.path.join(path,'02 Data','Original Data','orders.csv'), usecols = vars_list)"
   ]
  },
  {
   "cell_type": "markdown",
   "id": "72319d14-88d5-4955-a0f9-91b2afb98ed2",
   "metadata": {},
   "source": [
    "# printing first 5 rows of dataframe"
   ]
  },
  {
   "cell_type": "code",
   "execution_count": 23,
   "id": "feb196a5-65de-40e5-895f-1c9e71dcdec7",
   "metadata": {},
   "outputs": [
    {
     "data": {
      "text/html": [
       "<div>\n",
       "<style scoped>\n",
       "    .dataframe tbody tr th:only-of-type {\n",
       "        vertical-align: middle;\n",
       "    }\n",
       "\n",
       "    .dataframe tbody tr th {\n",
       "        vertical-align: top;\n",
       "    }\n",
       "\n",
       "    .dataframe thead th {\n",
       "        text-align: right;\n",
       "    }\n",
       "</style>\n",
       "<table border=\"1\" class=\"dataframe\">\n",
       "  <thead>\n",
       "    <tr style=\"text-align: right;\">\n",
       "      <th></th>\n",
       "      <th>order_id</th>\n",
       "      <th>user_id</th>\n",
       "      <th>order_number</th>\n",
       "      <th>order_dow</th>\n",
       "      <th>order_hour_of_day</th>\n",
       "      <th>days_since_prior_order</th>\n",
       "    </tr>\n",
       "  </thead>\n",
       "  <tbody>\n",
       "    <tr>\n",
       "      <th>0</th>\n",
       "      <td>2539329</td>\n",
       "      <td>1</td>\n",
       "      <td>1</td>\n",
       "      <td>2</td>\n",
       "      <td>8</td>\n",
       "      <td>NaN</td>\n",
       "    </tr>\n",
       "    <tr>\n",
       "      <th>1</th>\n",
       "      <td>2398795</td>\n",
       "      <td>1</td>\n",
       "      <td>2</td>\n",
       "      <td>3</td>\n",
       "      <td>7</td>\n",
       "      <td>15.0</td>\n",
       "    </tr>\n",
       "    <tr>\n",
       "      <th>2</th>\n",
       "      <td>473747</td>\n",
       "      <td>1</td>\n",
       "      <td>3</td>\n",
       "      <td>3</td>\n",
       "      <td>12</td>\n",
       "      <td>21.0</td>\n",
       "    </tr>\n",
       "    <tr>\n",
       "      <th>3</th>\n",
       "      <td>2254736</td>\n",
       "      <td>1</td>\n",
       "      <td>4</td>\n",
       "      <td>4</td>\n",
       "      <td>7</td>\n",
       "      <td>29.0</td>\n",
       "    </tr>\n",
       "    <tr>\n",
       "      <th>4</th>\n",
       "      <td>431534</td>\n",
       "      <td>1</td>\n",
       "      <td>5</td>\n",
       "      <td>4</td>\n",
       "      <td>15</td>\n",
       "      <td>28.0</td>\n",
       "    </tr>\n",
       "  </tbody>\n",
       "</table>\n",
       "</div>"
      ],
      "text/plain": [
       "   order_id  user_id  order_number  order_dow  order_hour_of_day  \\\n",
       "0   2539329        1             1          2                  8   \n",
       "1   2398795        1             2          3                  7   \n",
       "2    473747        1             3          3                 12   \n",
       "3   2254736        1             4          4                  7   \n",
       "4    431534        1             5          4                 15   \n",
       "\n",
       "   days_since_prior_order  \n",
       "0                     NaN  \n",
       "1                    15.0  \n",
       "2                    21.0  \n",
       "3                    29.0  \n",
       "4                    28.0  "
      ]
     },
     "execution_count": 23,
     "metadata": {},
     "output_type": "execute_result"
    }
   ],
   "source": [
    "df.head()"
   ]
  },
  {
   "cell_type": "markdown",
   "id": "4f05a891-9f2a-48eb-880f-db38a610c613",
   "metadata": {},
   "source": [
    "# Importing products.csv"
   ]
  },
  {
   "cell_type": "code",
   "execution_count": 25,
   "id": "e72136b4-356f-462a-a17a-16d80366e7b7",
   "metadata": {},
   "outputs": [],
   "source": [
    "df_prods = pd.read_csv(os.path.join(path, '02 Data','Original Data','products.csv'))"
   ]
  },
  {
   "cell_type": "markdown",
   "id": "342d2a8c-56de-4970-89f9-b765da864046",
   "metadata": {},
   "source": [
    "# Print first 20 rows and the last 35 rows of df_prods dataframe"
   ]
  },
  {
   "cell_type": "code",
   "execution_count": 26,
   "id": "b8a718c0-0855-4eb2-b774-d8a440794826",
   "metadata": {},
   "outputs": [
    {
     "data": {
      "text/plain": [
       "(    product_id                                       product_name  aisle_id  \\\n",
       " 0            1                         Chocolate Sandwich Cookies        61   \n",
       " 1            2                                   All-Seasons Salt       104   \n",
       " 2            3               Robust Golden Unsweetened Oolong Tea        94   \n",
       " 3            4  Smart Ones Classic Favorites Mini Rigatoni Wit...        38   \n",
       " 4            5                          Green Chile Anytime Sauce         5   \n",
       " 5            6                                       Dry Nose Oil        11   \n",
       " 6            7                     Pure Coconut Water With Orange        98   \n",
       " 7            8                  Cut Russet Potatoes Steam N' Mash       116   \n",
       " 8            9                  Light Strawberry Blueberry Yogurt       120   \n",
       " 9           10     Sparkling Orange Juice & Prickly Pear Beverage       115   \n",
       " 10          11                                  Peach Mango Juice        31   \n",
       " 11          12                         Chocolate Fudge Layer Cake       119   \n",
       " 12          13                                  Saline Nasal Mist        11   \n",
       " 13          14                     Fresh Scent Dishwasher Cleaner        74   \n",
       " 14          15                           Overnight Diapers Size 6        56   \n",
       " 15          16                      Mint Chocolate Flavored Syrup       103   \n",
       " 16          17                                  Rendered Duck Fat        35   \n",
       " 17          18                Pizza for One Suprema  Frozen Pizza        79   \n",
       " 18          19   Gluten Free Quinoa Three Cheese & Mushroom Blend        63   \n",
       " 19          20     Pomegranate Cranberry & Aloe Vera Enrich Drink        98   \n",
       " \n",
       "     department_id  prices  \n",
       " 0              19     5.8  \n",
       " 1              13     9.3  \n",
       " 2               7     4.5  \n",
       " 3               1    10.5  \n",
       " 4              13     4.3  \n",
       " 5              11     2.6  \n",
       " 6               7     4.4  \n",
       " 7               1     1.1  \n",
       " 8              16     7.0  \n",
       " 9               7     8.4  \n",
       " 10              7     2.8  \n",
       " 11              1     9.4  \n",
       " 12             11     1.1  \n",
       " 13             17     6.5  \n",
       " 14             18    11.2  \n",
       " 15             19     5.2  \n",
       " 16             12    17.1  \n",
       " 17              1    10.6  \n",
       " 18              9    12.0  \n",
       " 19              7     6.0  ,\n",
       "        product_id                                       product_name  \\\n",
       " 49658       49654                   Teriyaki Sauce, Sesame, Original   \n",
       " 49659       49655                                        Apple Cider   \n",
       " 49660       49656                         Masada Kosher Pocket Bread   \n",
       " 49661       49657                                  Cabernet Tomatoes   \n",
       " 49662       49658                         Brie with Herbs Foil Wedge   \n",
       " 49663       49659                            Organic Creamed Coconut   \n",
       " 49664       49660                        Professionals Sleek Shampoo   \n",
       " 49665       49661                                              Porto   \n",
       " 49666       49662                       Bacon Cheddar Pretzel Pieces   \n",
       " 49667       49663  Ultra Protein Power Crunch Peanut Butter N' Ho...   \n",
       " 49668       49664                     Lemon Cayenne Drinking Vinegar   \n",
       " 49669       49665      Super Dark Coconut Ash & Banana Chocolate Bar   \n",
       " 49670       49666                      Ginger Snaps Snacking Cookies   \n",
       " 49671       49667           Enchilada with Spanish Rice & Beans Meal   \n",
       " 49672       49668                     Apple Cinnamon Scented Candles   \n",
       " 49673       49669                                   K Cup Dark Blend   \n",
       " 49674       49670                                Beef Summer Sausage   \n",
       " 49675       49671                               Milk Chocolate Drops   \n",
       " 49676       49672                             Cafe Mocha K-Cup Packs   \n",
       " 49677       49673              Stone Baked Multi Grain Artisan Rolls   \n",
       " 49678       49674            Frozen Greek Yogurt Bars Chocolate Chip   \n",
       " 49679       49675                Cinnamon Dolce Keurig Brewed K Cups   \n",
       " 49680       49676                             Ultra Red Energy Drink   \n",
       " 49681       49677                    Thick & Chunky Sloppy Joe Sauce   \n",
       " 49682       49678                    Large Chicken & Cheese Taquitos   \n",
       " 49683       49679                            Famous Chocolate Wafers   \n",
       " 49684       49680                 All Natural Creamy Caesar Dressing   \n",
       " 49685       49681            Spaghetti with Meatballs and Sauce Meal   \n",
       " 49686       49682                                 California Limeade   \n",
       " 49687       49683                                     Cucumber Kirby   \n",
       " 49688       49684          Vodka, Triple Distilled, Twist of Vanilla   \n",
       " 49689       49685                 En Croute Roast Hazelnut Cranberry   \n",
       " 49690       49686                                   Artisan Baguette   \n",
       " 49691       49687         Smartblend Healthy Metabolism Dry Cat Food   \n",
       " 49692       49688                             Fresh Foaming Cleanser   \n",
       " \n",
       "        aisle_id  department_id  prices  \n",
       " 49658         5             13     4.0  \n",
       " 49659        98              7    10.7  \n",
       " 49660       128              3     7.1  \n",
       " 49661        83              4     8.3  \n",
       " 49662         2             16     3.9  \n",
       " 49663        17             13     3.1  \n",
       " 49664        22             11     6.7  \n",
       " 49665       134              5     8.2  \n",
       " 49666       107             19     3.6  \n",
       " 49667        57             14    10.2  \n",
       " 49668       100             21    13.7  \n",
       " 49669        45             19     6.9  \n",
       " 49670        61             19     5.2  \n",
       " 49671        38              1     6.6  \n",
       " 49672       101             17     5.6  \n",
       " 49673       100             21     4.7  \n",
       " 49674       106             12    19.2  \n",
       " 49675        45             19     3.0  \n",
       " 49676        26              7     6.5  \n",
       " 49677       129              1     5.6  \n",
       " 49678        37              1    11.1  \n",
       " 49679        26              7    14.0  \n",
       " 49680        64              7    14.5  \n",
       " 49681        59             15     8.9  \n",
       " 49682       129              1     3.4  \n",
       " 49683        61             19     6.0  \n",
       " 49684        89             13     4.9  \n",
       " 49685        38              1     6.9  \n",
       " 49686        98              7     4.3  \n",
       " 49687        83              4    13.2  \n",
       " 49688       124              5     5.3  \n",
       " 49689        42              1     3.1  \n",
       " 49690       112              3     7.8  \n",
       " 49691        41              8     4.7  \n",
       " 49692        73             11    13.5  )"
      ]
     },
     "execution_count": 26,
     "metadata": {},
     "output_type": "execute_result"
    }
   ],
   "source": [
    "df_prods.head(20) , df_prods.tail(35)"
   ]
  },
  {
   "cell_type": "markdown",
   "id": "fd650d87-4200-4fba-81be-ce726c3c29b1",
   "metadata": {},
   "source": [
    "# Print the names of columns in df_prods dataframe"
   ]
  },
  {
   "cell_type": "code",
   "execution_count": 27,
   "id": "a0365604-2e85-411c-aa80-707302f00210",
   "metadata": {},
   "outputs": [
    {
     "data": {
      "text/plain": [
       "Index(['product_id', 'product_name', 'aisle_id', 'department_id', 'prices'], dtype='object')"
      ]
     },
     "execution_count": 27,
     "metadata": {},
     "output_type": "execute_result"
    }
   ],
   "source": [
    "df_prods.columns"
   ]
  },
  {
   "cell_type": "markdown",
   "id": "011ebe6b-52dd-4ea3-b5b3-119eaac90699",
   "metadata": {},
   "source": [
    "# Print the number of rows and columns in df_prods dataframe"
   ]
  },
  {
   "cell_type": "code",
   "execution_count": 28,
   "id": "4b4f1d50-7329-4a65-8d44-2de9a69e2649",
   "metadata": {},
   "outputs": [
    {
     "data": {
      "text/plain": [
       "(49693, 5)"
      ]
     },
     "execution_count": 28,
     "metadata": {},
     "output_type": "execute_result"
    }
   ],
   "source": [
    "df_prods.shape"
   ]
  },
  {
   "cell_type": "code",
   "execution_count": 30,
   "id": "583dbc9f-4c0a-437f-a6ac-f2751c159d2e",
   "metadata": {},
   "outputs": [
    {
     "data": {
      "text/html": [
       "<div>\n",
       "<style scoped>\n",
       "    .dataframe tbody tr th:only-of-type {\n",
       "        vertical-align: middle;\n",
       "    }\n",
       "\n",
       "    .dataframe tbody tr th {\n",
       "        vertical-align: top;\n",
       "    }\n",
       "\n",
       "    .dataframe thead th {\n",
       "        text-align: right;\n",
       "    }\n",
       "</style>\n",
       "<table border=\"1\" class=\"dataframe\">\n",
       "  <thead>\n",
       "    <tr style=\"text-align: right;\">\n",
       "      <th></th>\n",
       "      <th>product_id</th>\n",
       "      <th>aisle_id</th>\n",
       "      <th>department_id</th>\n",
       "      <th>prices</th>\n",
       "    </tr>\n",
       "  </thead>\n",
       "  <tbody>\n",
       "    <tr>\n",
       "      <th>count</th>\n",
       "      <td>49693.000000</td>\n",
       "      <td>49693.000000</td>\n",
       "      <td>49693.000000</td>\n",
       "      <td>49693.000000</td>\n",
       "    </tr>\n",
       "    <tr>\n",
       "      <th>mean</th>\n",
       "      <td>24844.345139</td>\n",
       "      <td>67.770249</td>\n",
       "      <td>11.728433</td>\n",
       "      <td>9.994136</td>\n",
       "    </tr>\n",
       "    <tr>\n",
       "      <th>std</th>\n",
       "      <td>14343.717401</td>\n",
       "      <td>38.316774</td>\n",
       "      <td>5.850282</td>\n",
       "      <td>453.519686</td>\n",
       "    </tr>\n",
       "    <tr>\n",
       "      <th>min</th>\n",
       "      <td>1.000000</td>\n",
       "      <td>1.000000</td>\n",
       "      <td>1.000000</td>\n",
       "      <td>1.000000</td>\n",
       "    </tr>\n",
       "    <tr>\n",
       "      <th>25%</th>\n",
       "      <td>12423.000000</td>\n",
       "      <td>35.000000</td>\n",
       "      <td>7.000000</td>\n",
       "      <td>4.100000</td>\n",
       "    </tr>\n",
       "    <tr>\n",
       "      <th>50%</th>\n",
       "      <td>24845.000000</td>\n",
       "      <td>69.000000</td>\n",
       "      <td>13.000000</td>\n",
       "      <td>7.100000</td>\n",
       "    </tr>\n",
       "    <tr>\n",
       "      <th>75%</th>\n",
       "      <td>37265.000000</td>\n",
       "      <td>100.000000</td>\n",
       "      <td>17.000000</td>\n",
       "      <td>11.200000</td>\n",
       "    </tr>\n",
       "    <tr>\n",
       "      <th>max</th>\n",
       "      <td>49688.000000</td>\n",
       "      <td>134.000000</td>\n",
       "      <td>21.000000</td>\n",
       "      <td>99999.000000</td>\n",
       "    </tr>\n",
       "  </tbody>\n",
       "</table>\n",
       "</div>"
      ],
      "text/plain": [
       "         product_id      aisle_id  department_id        prices\n",
       "count  49693.000000  49693.000000   49693.000000  49693.000000\n",
       "mean   24844.345139     67.770249      11.728433      9.994136\n",
       "std    14343.717401     38.316774       5.850282    453.519686\n",
       "min        1.000000      1.000000       1.000000      1.000000\n",
       "25%    12423.000000     35.000000       7.000000      4.100000\n",
       "50%    24845.000000     69.000000      13.000000      7.100000\n",
       "75%    37265.000000    100.000000      17.000000     11.200000\n",
       "max    49688.000000    134.000000      21.000000  99999.000000"
      ]
     },
     "execution_count": 30,
     "metadata": {},
     "output_type": "execute_result"
    }
   ],
   "source": [
    "df_prods.describe()"
   ]
  },
  {
   "cell_type": "code",
   "execution_count": 32,
   "id": "8814fd2d-9072-4aac-85d6-1976e031b072",
   "metadata": {},
   "outputs": [
    {
     "name": "stdout",
     "output_type": "stream",
     "text": [
      "<class 'pandas.core.frame.DataFrame'>\n",
      "RangeIndex: 49693 entries, 0 to 49692\n",
      "Data columns (total 5 columns):\n",
      " #   Column         Non-Null Count  Dtype  \n",
      "---  ------         --------------  -----  \n",
      " 0   product_id     49693 non-null  int64  \n",
      " 1   product_name   49677 non-null  object \n",
      " 2   aisle_id       49693 non-null  int64  \n",
      " 3   department_id  49693 non-null  int64  \n",
      " 4   prices         49693 non-null  float64\n",
      "dtypes: float64(1), int64(3), object(1)\n",
      "memory usage: 1.9+ MB\n"
     ]
    }
   ],
   "source": [
    "df_prods.info()"
   ]
  },
  {
   "cell_type": "markdown",
   "id": "23ef293e-e310-43d9-b814-6b3ea75dd202",
   "metadata": {},
   "source": [
    "# Whats the max value of aisle_id column?"
   ]
  },
  {
   "cell_type": "markdown",
   "id": "f580b6f7-c4be-414b-82ec-2d65f6c7e9c9",
   "metadata": {},
   "source": [
    "The max value is 134"
   ]
  },
  {
   "cell_type": "markdown",
   "id": "5e989de7-e2d1-4c75-ad1d-493d84988ce5",
   "metadata": {},
   "source": [
    "# Whats the data type of department id ?"
   ]
  },
  {
   "cell_type": "code",
   "execution_count": null,
   "id": "e936f538-8e2c-4e1e-9077-1a53ef9e415c",
   "metadata": {},
   "outputs": [],
   "source": [
    "INT64 "
   ]
  },
  {
   "cell_type": "code",
   "execution_count": null,
   "id": "52fcedd1-f81a-41f2-b3e3-117be04a16ae",
   "metadata": {},
   "outputs": [],
   "source": []
  }
 ],
 "metadata": {
  "kernelspec": {
   "display_name": "Python 3 (ipykernel)",
   "language": "python",
   "name": "python3"
  },
  "language_info": {
   "codemirror_mode": {
    "name": "ipython",
    "version": 3
   },
   "file_extension": ".py",
   "mimetype": "text/x-python",
   "name": "python",
   "nbconvert_exporter": "python",
   "pygments_lexer": "ipython3",
   "version": "3.11.7"
  }
 },
 "nbformat": 4,
 "nbformat_minor": 5
}
